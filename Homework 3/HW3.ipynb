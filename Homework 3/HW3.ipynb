{
  "cells": [
    {
      "cell_type": "markdown",
      "source": "# Homework 3\nComplete the exercises working in your group. You may share the notebook with your group members using the share button in the upper right. \n\n\n\n\n\n",
      "metadata": {
        "id": "rvObaKKCzGwK",
        "cell_id": "00000-41c80a88-76af-4fad-a37f-cbe2ee1ea06e",
        "deepnote_cell_type": "markdown"
      }
    },
    {
      "cell_type": "code",
      "metadata": {
        "tags": [],
        "cell_id": "00001-404418cd-bd84-4977-b90c-95ae268bf206",
        "deepnote_to_be_reexecuted": false,
        "source_hash": "51ee68b6",
        "execution_millis": 1374,
        "execution_start": 1617271381894,
        "deepnote_cell_type": "code"
      },
      "source": "import os\nimport sys\nimport matplotlib.pyplot as plt\nimport seaborn as sns\nimport pandas as pd\nimport numpy as np\nfrom scipy.stats import linregress",
      "execution_count": null,
      "outputs": []
    },
    {
      "cell_type": "code",
      "metadata": {
        "tags": [],
        "cell_id": "00002-6fcfa1f3-a80f-44c2-82e5-e6d512bf9e86",
        "deepnote_to_be_reexecuted": false,
        "source_hash": "5665b69b",
        "execution_millis": 5810,
        "execution_start": 1617271288527,
        "deepnote_cell_type": "code"
      },
      "source": "!pip install tables\n\n# uncomment the line above if tables is not installed",
      "execution_count": null,
      "outputs": [
        {
          "name": "stdout",
          "text": "Collecting tables\n  Downloading tables-3.6.1-cp37-cp37m-manylinux1_x86_64.whl (4.3 MB)\n\u001b[K     |████████████████████████████████| 4.3 MB 15.3 MB/s \n\u001b[?25hCollecting numexpr>=2.6.2\n  Downloading numexpr-2.7.3-cp37-cp37m-manylinux2010_x86_64.whl (471 kB)\n\u001b[K     |████████████████████████████████| 471 kB 61.6 MB/s \n\u001b[?25hRequirement already satisfied: numpy>=1.9.3 in /shared-libs/python3.7/py/lib/python3.7/site-packages (from tables) (1.19.5)\nInstalling collected packages: numexpr, tables\nSuccessfully installed numexpr-2.7.3 tables-3.6.1\n\u001b[33mWARNING: You are using pip version 20.1.1; however, version 21.0.1 is available.\nYou should consider upgrading via the '/root/venv/bin/python -m pip install --upgrade pip' command.\u001b[0m\n",
          "output_type": "stream"
        }
      ]
    },
    {
      "cell_type": "markdown",
      "source": "# Question 1\n## Plotting practice\nThese questions follow the examples presented in Notebook 9 from the Textbook. See that notebook for the dataset and template code.\n*  Generate a violin plot that shows the distribution of height in each income group. Can you see a relationship between these variables?\n* Make a boxplot that shows the distribution of weight in each income group. Plot the y-axis on a logarithmic scale.\n* Generate a visualization of the relationship between weight and vegetable consumption. ",
      "metadata": {
        "id": "RqhpdagcQ28W",
        "cell_id": "00001-d89a8f5e-3e3d-4966-975a-0fc409732186",
        "deepnote_cell_type": "markdown"
      }
    },
    {
      "cell_type": "code",
      "metadata": {
        "tags": [],
        "cell_id": "00005-91179d97-eac7-4cd7-b778-894cad011bc4",
        "deepnote_to_be_reexecuted": false,
        "source_hash": "3f4ce398",
        "execution_millis": 579,
        "execution_start": 1617271387894,
        "deepnote_cell_type": "code"
      },
      "source": "if not os.path.exists('brfss.hdf5'):\n    !wget https://github.com/AllenDowney/ElementsOfDataScience/raw/master/brfss.hdf5\n\nIN_COLAB = 'google.colab' in sys.modules\n\nif IN_COLAB:\n    !pip install empiricaldist\n\n# brief display of the table\nbrfss = pd.read_hdf('brfss.hdf5', 'brfss')\nbrfss.shape\nbrfss.head()",
      "execution_count": null,
      "outputs": [
        {
          "output_type": "execute_result",
          "execution_count": 4,
          "data": {
            "application/vnd.deepnote.dataframe.v2+json": {
              "row_count": 5,
              "column_count": 9,
              "columns": [
                {
                  "name": "SEX",
                  "dtype": "float64",
                  "stats": {
                    "unique_count": 1,
                    "nan_count": 0,
                    "min": 2,
                    "max": 2,
                    "histogram": [
                      {
                        "bin_start": 1.5,
                        "bin_end": 1.6,
                        "count": 0
                      },
                      {
                        "bin_start": 1.6,
                        "bin_end": 1.7,
                        "count": 0
                      },
                      {
                        "bin_start": 1.7,
                        "bin_end": 1.8,
                        "count": 0
                      },
                      {
                        "bin_start": 1.8,
                        "bin_end": 1.9,
                        "count": 0
                      },
                      {
                        "bin_start": 1.9,
                        "bin_end": 2,
                        "count": 0
                      },
                      {
                        "bin_start": 2,
                        "bin_end": 2.1,
                        "count": 5
                      },
                      {
                        "bin_start": 2.1,
                        "bin_end": 2.2,
                        "count": 0
                      },
                      {
                        "bin_start": 2.2,
                        "bin_end": 2.3,
                        "count": 0
                      },
                      {
                        "bin_start": 2.3,
                        "bin_end": 2.4,
                        "count": 0
                      },
                      {
                        "bin_start": 2.4,
                        "bin_end": 2.5,
                        "count": 0
                      }
                    ]
                  }
                },
                {
                  "name": "HTM4",
                  "dtype": "float64",
                  "stats": {
                    "unique_count": 4,
                    "nan_count": 0,
                    "min": 160,
                    "max": 170,
                    "histogram": [
                      {
                        "bin_start": 160,
                        "bin_end": 161,
                        "count": 1
                      },
                      {
                        "bin_start": 161,
                        "bin_end": 162,
                        "count": 0
                      },
                      {
                        "bin_start": 162,
                        "bin_end": 163,
                        "count": 0
                      },
                      {
                        "bin_start": 163,
                        "bin_end": 164,
                        "count": 2
                      },
                      {
                        "bin_start": 164,
                        "bin_end": 165,
                        "count": 0
                      },
                      {
                        "bin_start": 165,
                        "bin_end": 166,
                        "count": 1
                      },
                      {
                        "bin_start": 166,
                        "bin_end": 167,
                        "count": 0
                      },
                      {
                        "bin_start": 167,
                        "bin_end": 168,
                        "count": 0
                      },
                      {
                        "bin_start": 168,
                        "bin_end": 169,
                        "count": 0
                      },
                      {
                        "bin_start": 169,
                        "bin_end": 170,
                        "count": 1
                      }
                    ]
                  }
                },
                {
                  "name": "WTKG3",
                  "dtype": "float64",
                  "stats": {
                    "unique_count": 5,
                    "nan_count": 0,
                    "min": 58.97,
                    "max": 108.86,
                    "histogram": [
                      {
                        "bin_start": 58.97,
                        "bin_end": 63.958999999999996,
                        "count": 2
                      },
                      {
                        "bin_start": 63.958999999999996,
                        "bin_end": 68.948,
                        "count": 0
                      },
                      {
                        "bin_start": 68.948,
                        "bin_end": 73.937,
                        "count": 1
                      },
                      {
                        "bin_start": 73.937,
                        "bin_end": 78.926,
                        "count": 1
                      },
                      {
                        "bin_start": 78.926,
                        "bin_end": 83.91499999999999,
                        "count": 0
                      },
                      {
                        "bin_start": 83.91499999999999,
                        "bin_end": 88.904,
                        "count": 0
                      },
                      {
                        "bin_start": 88.904,
                        "bin_end": 93.893,
                        "count": 0
                      },
                      {
                        "bin_start": 93.893,
                        "bin_end": 98.882,
                        "count": 0
                      },
                      {
                        "bin_start": 98.882,
                        "bin_end": 103.871,
                        "count": 0
                      },
                      {
                        "bin_start": 103.871,
                        "bin_end": 108.86,
                        "count": 1
                      }
                    ]
                  }
                },
                {
                  "name": "INCOME2",
                  "dtype": "float64",
                  "stats": {
                    "unique_count": 4,
                    "nan_count": 0,
                    "min": 1,
                    "max": 8,
                    "histogram": [
                      {
                        "bin_start": 1,
                        "bin_end": 1.7,
                        "count": 1
                      },
                      {
                        "bin_start": 1.7,
                        "bin_end": 2.4,
                        "count": 0
                      },
                      {
                        "bin_start": 2.4,
                        "bin_end": 3.0999999999999996,
                        "count": 1
                      },
                      {
                        "bin_start": 3.0999999999999996,
                        "bin_end": 3.8,
                        "count": 0
                      },
                      {
                        "bin_start": 3.8,
                        "bin_end": 4.5,
                        "count": 0
                      },
                      {
                        "bin_start": 4.5,
                        "bin_end": 5.199999999999999,
                        "count": 1
                      },
                      {
                        "bin_start": 5.199999999999999,
                        "bin_end": 5.8999999999999995,
                        "count": 0
                      },
                      {
                        "bin_start": 5.8999999999999995,
                        "bin_end": 6.6,
                        "count": 0
                      },
                      {
                        "bin_start": 6.6,
                        "bin_end": 7.3,
                        "count": 0
                      },
                      {
                        "bin_start": 7.3,
                        "bin_end": 8,
                        "count": 2
                      }
                    ]
                  }
                },
                {
                  "name": "_LLCPWT",
                  "dtype": "float64",
                  "stats": {
                    "unique_count": 5,
                    "nan_count": 0,
                    "min": 84.0575029,
                    "max": 11566.7053,
                    "histogram": [
                      {
                        "bin_start": 84.0575029,
                        "bin_end": 1232.32228261,
                        "count": 3
                      },
                      {
                        "bin_start": 1232.32228261,
                        "bin_end": 2380.5870623200003,
                        "count": 1
                      },
                      {
                        "bin_start": 2380.5870623200003,
                        "bin_end": 3528.8518420300006,
                        "count": 0
                      },
                      {
                        "bin_start": 3528.8518420300006,
                        "bin_end": 4677.1166217400005,
                        "count": 0
                      },
                      {
                        "bin_start": 4677.1166217400005,
                        "bin_end": 5825.38140145,
                        "count": 0
                      },
                      {
                        "bin_start": 5825.38140145,
                        "bin_end": 6973.646181160001,
                        "count": 0
                      },
                      {
                        "bin_start": 6973.646181160001,
                        "bin_end": 8121.910960870001,
                        "count": 0
                      },
                      {
                        "bin_start": 8121.910960870001,
                        "bin_end": 9270.17574058,
                        "count": 0
                      },
                      {
                        "bin_start": 9270.17574058,
                        "bin_end": 10418.44052029,
                        "count": 0
                      },
                      {
                        "bin_start": 10418.44052029,
                        "bin_end": 11566.7053,
                        "count": 1
                      }
                    ]
                  }
                },
                {
                  "name": "_AGEG5YR",
                  "dtype": "float64",
                  "stats": {
                    "unique_count": 4,
                    "nan_count": 0,
                    "min": 3,
                    "max": 13,
                    "histogram": [
                      {
                        "bin_start": 3,
                        "bin_end": 4,
                        "count": 2
                      },
                      {
                        "bin_start": 4,
                        "bin_end": 5,
                        "count": 0
                      },
                      {
                        "bin_start": 5,
                        "bin_end": 6,
                        "count": 1
                      },
                      {
                        "bin_start": 6,
                        "bin_end": 7,
                        "count": 1
                      },
                      {
                        "bin_start": 7,
                        "bin_end": 8,
                        "count": 0
                      },
                      {
                        "bin_start": 8,
                        "bin_end": 9,
                        "count": 0
                      },
                      {
                        "bin_start": 9,
                        "bin_end": 10,
                        "count": 0
                      },
                      {
                        "bin_start": 10,
                        "bin_end": 11,
                        "count": 0
                      },
                      {
                        "bin_start": 11,
                        "bin_end": 12,
                        "count": 0
                      },
                      {
                        "bin_start": 12,
                        "bin_end": 13,
                        "count": 1
                      }
                    ]
                  }
                },
                {
                  "name": "_VEGESU1",
                  "dtype": "float64",
                  "stats": {
                    "unique_count": 5,
                    "nan_count": 0,
                    "min": 1.46,
                    "max": 3.14,
                    "histogram": [
                      {
                        "bin_start": 1.46,
                        "bin_end": 1.628,
                        "count": 1
                      },
                      {
                        "bin_start": 1.628,
                        "bin_end": 1.796,
                        "count": 0
                      },
                      {
                        "bin_start": 1.796,
                        "bin_end": 1.964,
                        "count": 1
                      },
                      {
                        "bin_start": 1.964,
                        "bin_end": 2.132,
                        "count": 0
                      },
                      {
                        "bin_start": 2.132,
                        "bin_end": 2.3,
                        "count": 1
                      },
                      {
                        "bin_start": 2.3,
                        "bin_end": 2.468,
                        "count": 0
                      },
                      {
                        "bin_start": 2.468,
                        "bin_end": 2.636,
                        "count": 0
                      },
                      {
                        "bin_start": 2.636,
                        "bin_end": 2.8040000000000003,
                        "count": 1
                      },
                      {
                        "bin_start": 2.8040000000000003,
                        "bin_end": 2.972,
                        "count": 0
                      },
                      {
                        "bin_start": 2.972,
                        "bin_end": 3.14,
                        "count": 1
                      }
                    ]
                  }
                },
                {
                  "name": "_HTMG10",
                  "dtype": "float64",
                  "stats": {
                    "unique_count": 2,
                    "nan_count": 0,
                    "min": 150,
                    "max": 160,
                    "histogram": [
                      {
                        "bin_start": 150,
                        "bin_end": 151,
                        "count": 1
                      },
                      {
                        "bin_start": 151,
                        "bin_end": 152,
                        "count": 0
                      },
                      {
                        "bin_start": 152,
                        "bin_end": 153,
                        "count": 0
                      },
                      {
                        "bin_start": 153,
                        "bin_end": 154,
                        "count": 0
                      },
                      {
                        "bin_start": 154,
                        "bin_end": 155,
                        "count": 0
                      },
                      {
                        "bin_start": 155,
                        "bin_end": 156,
                        "count": 0
                      },
                      {
                        "bin_start": 156,
                        "bin_end": 157,
                        "count": 0
                      },
                      {
                        "bin_start": 157,
                        "bin_end": 158,
                        "count": 0
                      },
                      {
                        "bin_start": 158,
                        "bin_end": 159,
                        "count": 0
                      },
                      {
                        "bin_start": 159,
                        "bin_end": 160,
                        "count": 4
                      }
                    ]
                  }
                },
                {
                  "name": "AGE",
                  "dtype": "float64",
                  "stats": {
                    "unique_count": 4,
                    "nan_count": 0,
                    "min": 32,
                    "max": 89.5,
                    "histogram": [
                      {
                        "bin_start": 32,
                        "bin_end": 37.75,
                        "count": 2
                      },
                      {
                        "bin_start": 37.75,
                        "bin_end": 43.5,
                        "count": 1
                      },
                      {
                        "bin_start": 43.5,
                        "bin_end": 49.25,
                        "count": 1
                      },
                      {
                        "bin_start": 49.25,
                        "bin_end": 55,
                        "count": 0
                      },
                      {
                        "bin_start": 55,
                        "bin_end": 60.75,
                        "count": 0
                      },
                      {
                        "bin_start": 60.75,
                        "bin_end": 66.5,
                        "count": 0
                      },
                      {
                        "bin_start": 66.5,
                        "bin_end": 72.25,
                        "count": 0
                      },
                      {
                        "bin_start": 72.25,
                        "bin_end": 78,
                        "count": 0
                      },
                      {
                        "bin_start": 78,
                        "bin_end": 83.75,
                        "count": 0
                      },
                      {
                        "bin_start": 83.75,
                        "bin_end": 89.5,
                        "count": 1
                      }
                    ]
                  }
                },
                {
                  "name": "_deepnote_index_column",
                  "dtype": "int64"
                }
              ],
              "rows_top": [
                {
                  "SEX": 2,
                  "HTM4": 160,
                  "WTKG3": 60.33,
                  "INCOME2": 8,
                  "_LLCPWT": 1398.52529,
                  "_AGEG5YR": 6,
                  "_VEGESU1": 2.14,
                  "_HTMG10": 150,
                  "AGE": 47,
                  "_deepnote_index_column": 96230
                },
                {
                  "SEX": 2,
                  "HTM4": 163,
                  "WTKG3": 58.97,
                  "INCOME2": 5,
                  "_LLCPWT": 84.0575029,
                  "_AGEG5YR": 13,
                  "_VEGESU1": 3.14,
                  "_HTMG10": 160,
                  "AGE": 89.5,
                  "_deepnote_index_column": 244920
                },
                {
                  "SEX": 2,
                  "HTM4": 163,
                  "WTKG3": 72.57,
                  "INCOME2": 8,
                  "_LLCPWT": 390.248599,
                  "_AGEG5YR": 5,
                  "_VEGESU1": 2.64,
                  "_HTMG10": 160,
                  "AGE": 42,
                  "_deepnote_index_column": 57312
                },
                {
                  "SEX": 2,
                  "HTM4": 165,
                  "WTKG3": 74.84,
                  "INCOME2": 1,
                  "_LLCPWT": 11566.7053,
                  "_AGEG5YR": 3,
                  "_VEGESU1": 1.46,
                  "_HTMG10": 160,
                  "AGE": 32,
                  "_deepnote_index_column": 32573
                },
                {
                  "SEX": 2,
                  "HTM4": 170,
                  "WTKG3": 108.86,
                  "INCOME2": 3,
                  "_LLCPWT": 844.48545,
                  "_AGEG5YR": 3,
                  "_VEGESU1": 1.81,
                  "_HTMG10": 160,
                  "AGE": 32,
                  "_deepnote_index_column": 355929
                }
              ],
              "rows_bottom": null
            },
            "text/plain": "        SEX   HTM4   WTKG3  INCOME2       _LLCPWT  _AGEG5YR  _VEGESU1  \\\n96230   2.0  160.0   60.33      8.0   1398.525290       6.0      2.14   \n244920  2.0  163.0   58.97      5.0     84.057503      13.0      3.14   \n57312   2.0  163.0   72.57      8.0    390.248599       5.0      2.64   \n32573   2.0  165.0   74.84      1.0  11566.705300       3.0      1.46   \n355929  2.0  170.0  108.86      3.0    844.485450       3.0      1.81   \n\n        _HTMG10   AGE  \n96230     150.0  47.0  \n244920    160.0  89.5  \n57312     160.0  42.0  \n32573     160.0  32.0  \n355929    160.0  32.0  ",
            "text/html": "<div>\n<style scoped>\n    .dataframe tbody tr th:only-of-type {\n        vertical-align: middle;\n    }\n\n    .dataframe tbody tr th {\n        vertical-align: top;\n    }\n\n    .dataframe thead th {\n        text-align: right;\n    }\n</style>\n<table border=\"1\" class=\"dataframe\">\n  <thead>\n    <tr style=\"text-align: right;\">\n      <th></th>\n      <th>SEX</th>\n      <th>HTM4</th>\n      <th>WTKG3</th>\n      <th>INCOME2</th>\n      <th>_LLCPWT</th>\n      <th>_AGEG5YR</th>\n      <th>_VEGESU1</th>\n      <th>_HTMG10</th>\n      <th>AGE</th>\n    </tr>\n  </thead>\n  <tbody>\n    <tr>\n      <th>96230</th>\n      <td>2.0</td>\n      <td>160.0</td>\n      <td>60.33</td>\n      <td>8.0</td>\n      <td>1398.525290</td>\n      <td>6.0</td>\n      <td>2.14</td>\n      <td>150.0</td>\n      <td>47.0</td>\n    </tr>\n    <tr>\n      <th>244920</th>\n      <td>2.0</td>\n      <td>163.0</td>\n      <td>58.97</td>\n      <td>5.0</td>\n      <td>84.057503</td>\n      <td>13.0</td>\n      <td>3.14</td>\n      <td>160.0</td>\n      <td>89.5</td>\n    </tr>\n    <tr>\n      <th>57312</th>\n      <td>2.0</td>\n      <td>163.0</td>\n      <td>72.57</td>\n      <td>8.0</td>\n      <td>390.248599</td>\n      <td>5.0</td>\n      <td>2.64</td>\n      <td>160.0</td>\n      <td>42.0</td>\n    </tr>\n    <tr>\n      <th>32573</th>\n      <td>2.0</td>\n      <td>165.0</td>\n      <td>74.84</td>\n      <td>1.0</td>\n      <td>11566.705300</td>\n      <td>3.0</td>\n      <td>1.46</td>\n      <td>160.0</td>\n      <td>32.0</td>\n    </tr>\n    <tr>\n      <th>355929</th>\n      <td>2.0</td>\n      <td>170.0</td>\n      <td>108.86</td>\n      <td>3.0</td>\n      <td>844.485450</td>\n      <td>3.0</td>\n      <td>1.81</td>\n      <td>160.0</td>\n      <td>32.0</td>\n    </tr>\n  </tbody>\n</table>\n</div>"
          },
          "metadata": {}
        }
      ]
    },
    {
      "cell_type": "code",
      "metadata": {
        "tags": [],
        "cell_id": "00007-32b43802-2c3e-433b-8913-e552690e18e9",
        "deepnote_to_be_reexecuted": false,
        "source_hash": "2969f671",
        "execution_millis": 31,
        "execution_start": 1617271401677,
        "deepnote_cell_type": "code"
      },
      "source": "# display of the data\ndata = brfss.dropna(subset=['INCOME2', 'HTM4'])\ndata.shape",
      "execution_count": null,
      "outputs": [
        {
          "output_type": "execute_result",
          "execution_count": 5,
          "data": {
            "text/plain": "(81335, 9)"
          },
          "metadata": {}
        }
      ]
    },
    {
      "cell_type": "code",
      "metadata": {
        "tags": [],
        "cell_id": "00008-0a13fca2-68af-4ff1-bca6-5e573d5b53c3",
        "deepnote_to_be_reexecuted": false,
        "source_hash": "5cb36984",
        "execution_millis": 1179,
        "execution_start": 1617179251494,
        "deepnote_cell_type": "code"
      },
      "source": "# violinplot\nsns.violinplot(x='INCOME2', y='HTM4', data=data, inner=None)\n\nplt.xlabel('Income level')\nplt.ylabel('Height')\nplt.title('Height versus Income - violin plot');",
      "execution_count": null,
      "outputs": [
        {
          "data": {
            "text/plain": "<Figure size 432x288 with 1 Axes>",
            "image/png": "[encoded data removed]"
          },
          "metadata": {
            "needs_background": "light"
          },
          "output_type": "display_data"
        }
      ]
    },
    {
      "cell_type": "markdown",
      "source": "According to the violin plot above, we can see that the heights are approximately the same for different income group, which seem to be around ``168``.",
      "metadata": {
        "tags": [],
        "cell_id": "00009-23e5d153-89aa-467c-aac2-51219be799c1",
        "deepnote_cell_type": "markdown"
      }
    },
    {
      "cell_type": "code",
      "metadata": {
        "tags": [],
        "cell_id": "00009-fcec7892-2006-44b6-8776-c7b66aa21a78",
        "deepnote_to_be_reexecuted": false,
        "source_hash": "f76be199",
        "execution_millis": 1066,
        "execution_start": 1617179838811,
        "deepnote_cell_type": "code"
      },
      "source": "sns.boxplot(x='INCOME2', y='WTKG3', data=data, whis=10)\n\nplt.xlabel('Income level')\nplt.ylabel('Height')\nplt.title('Height versus Income - box plot')\nplt.yscale('log')",
      "execution_count": null,
      "outputs": [
        {
          "data": {
            "text/plain": "<Figure size 432x288 with 1 Axes>",
            "image/png": "[encoded data removed]"
          },
          "metadata": {
            "needs_background": "light"
          },
          "output_type": "display_data"
        }
      ]
    },
    {
      "cell_type": "markdown",
      "source": "The box plot above proves our observation for the previous graph that heights are approximately the same for different groups.",
      "metadata": {
        "tags": [],
        "cell_id": "00011-075383b4-cbfd-4480-b2d5-e468696072da",
        "deepnote_cell_type": "markdown"
      }
    },
    {
      "cell_type": "code",
      "metadata": {
        "tags": [],
        "cell_id": "00011-019ae5b1-642c-479b-b641-2ff55c988c53",
        "deepnote_to_be_reexecuted": false,
        "source_hash": "46579056",
        "execution_millis": 10,
        "execution_start": 1617179253614,
        "deepnote_cell_type": "code"
      },
      "source": "weight = brfss['WTKG3']\nvegetableConsumption = brfss['_VEGESU1']",
      "execution_count": null,
      "outputs": []
    },
    {
      "cell_type": "code",
      "metadata": {
        "tags": [],
        "cell_id": "00012-d166ac1e-d885-4181-8845-742ef89b6c72",
        "deepnote_to_be_reexecuted": false,
        "source_hash": "bb5d3a11",
        "execution_millis": 451,
        "execution_start": 1617180101031,
        "deepnote_cell_type": "code"
      },
      "source": "noise = np.random.normal(0, 2, size = len(brfss))\nvegetableConsumption_jitter = vegetableConsumption + noise\nweight_jitter = weight + noise\n\nplt.plot(vegetableConsumption_jitter, weight_jitter, 'o', alpha = 0.2, markersize = 1)\n\nplt.xlabel('Vegetable Consumption')\nplt.ylabel('Weight')\nplt.title('Weight versus Vegetable Consumption - Scatter plot');",
      "execution_count": null,
      "outputs": [
        {
          "data": {
            "text/plain": "<Figure size 432x288 with 1 Axes>",
            "image/png": "[encoded data removed]"
          },
          "metadata": {
            "needs_background": "light"
          },
          "output_type": "display_data"
        }
      ]
    },
    {
      "cell_type": "markdown",
      "source": "# Question 2\n## Correlation\nRecall that correlation only measures linear relationships. If the relationship is nonlinear, correlation generally underestimates how strong it is.\n\nTo demonstrate, generate another example of fake data that is different from the data presented in the text which was $y=x^2$. Explain what is the association between the variables (e.g. $y=x^4$, $y=sin(x)$) and why the correlation is low or zero despite there being a clear relationship between the variables.",
      "metadata": {
        "tags": [],
        "cell_id": "00013-9ff60e26-728f-4add-a493-42167caf775f",
        "deepnote_cell_type": "markdown"
      }
    },
    {
      "cell_type": "markdown",
      "source": "We generate random data `x`s in the range of (-1, 1) by using **np.random**. `y`s are calculated by adding some noise to `4*x`.",
      "metadata": {
        "tags": [],
        "cell_id": "00012-07bc1333-289e-4ccd-8cbf-ca4b7b00972c",
        "deepnote_cell_type": "markdown"
      }
    },
    {
      "cell_type": "code",
      "metadata": {
        "tags": [],
        "cell_id": "00013-1475c7ac-4b77-4750-a572-0be9c9dfbd69",
        "deepnote_to_be_reexecuted": false,
        "source_hash": "24185210",
        "execution_millis": 1,
        "execution_start": 1617271536185,
        "deepnote_cell_type": "code"
      },
      "source": "np.random.seed(350)\nx = np.linspace(-1, 1)\ny = x**4 + np.random.normal(0, 0.01, len(x))",
      "execution_count": null,
      "outputs": []
    },
    {
      "cell_type": "code",
      "metadata": {
        "tags": [],
        "cell_id": "00013-4b40e3f0-dca3-4f1e-9f78-f851ffa7dbb8",
        "deepnote_to_be_reexecuted": false,
        "source_hash": "22bbac66",
        "execution_millis": 192,
        "execution_start": 1617271537949,
        "deepnote_cell_type": "code"
      },
      "source": "plt.plot(x, y, 'o')\nplt.xlabel('x value')\nplt.ylabel('y value')\nplt.title('Scatter plot of a randomly generated dataset');",
      "execution_count": null,
      "outputs": [
        {
          "data": {
            "text/plain": "<Figure size 432x288 with 1 Axes>",
            "image/png": "[encoded data removed]"
          },
          "metadata": {
            "needs_background": "light"
          },
          "output_type": "display_data"
        }
      ]
    },
    {
      "cell_type": "code",
      "metadata": {
        "tags": [],
        "cell_id": "00016-35fbfb1b-24e4-4ed7-ab1e-25d123244808",
        "deepnote_to_be_reexecuted": false,
        "source_hash": "6497524d",
        "execution_millis": 28,
        "execution_start": 1617179254820,
        "deepnote_cell_type": "code"
      },
      "source": "np.corrcoef(x, y)",
      "execution_count": null,
      "outputs": [
        {
          "output_type": "execute_result",
          "execution_count": 11,
          "data": {
            "text/plain": "array([[ 1.        , -0.00746804],\n       [-0.00746804,  1.        ]])"
          },
          "metadata": {}
        }
      ]
    },
    {
      "cell_type": "markdown",
      "source": "From the graph above, we can see that there is a strong non-linear relationship. Although visually that is obvious, the computed correlation is only `-0.007`. In general, a low correlation level does not mean there is no non-linear relationship. This is because correlation only measures linear relationships.",
      "metadata": {
        "tags": [],
        "cell_id": "00016-74eaba2e-86c4-43fa-871f-6032aa9ecdd6",
        "deepnote_cell_type": "markdown"
      }
    },
    {
      "cell_type": "markdown",
      "source": "# Question 3\n## Simple regression\nWho do you think eats more vegetables, people with low income, or people with high income? To answer this question, make a scatter plot with vegetable servings versus income, then estimate the slope of the relationship between vegetable consumption and income.\n\nWhat is the slope of the regression line? Write a sentence that explains what this slope means in the context of the question we are exploring.\n\nFinally, plot the regression line on top of the scatter plot.",
      "metadata": {
        "tags": [],
        "cell_id": "00014-43f3966a-cf1a-42b0-842d-24e4a54ff99a",
        "deepnote_cell_type": "markdown"
      }
    },
    {
      "cell_type": "code",
      "metadata": {
        "tags": [],
        "cell_id": "00019-b3553e9e-44f9-467a-b2ce-309bd8e41492",
        "deepnote_to_be_reexecuted": false,
        "source_hash": "f87b2eb1",
        "execution_millis": 0,
        "execution_start": 1617271593286,
        "deepnote_cell_type": "code"
      },
      "source": "data_3 = brfss.dropna(subset = ['INCOME2', '_VEGESU1'])\nincome = data_3['INCOME2']\nvege_consump = data_3['_VEGESU1']",
      "execution_count": null,
      "outputs": []
    },
    {
      "cell_type": "code",
      "metadata": {
        "tags": [],
        "cell_id": "00020-988a8034-1cda-4e04-90a3-aaf4dbd4144c",
        "deepnote_to_be_reexecuted": false,
        "source_hash": "c8f19157",
        "execution_millis": 12,
        "execution_start": 1617271595237,
        "deepnote_cell_type": "code"
      },
      "source": "# estimate the slope\nres = linregress(income, vege_consump)\nres",
      "execution_count": null,
      "outputs": [
        {
          "output_type": "execute_result",
          "execution_count": 9,
          "data": {
            "text/plain": "LinregressResult(slope=0.06988048092105019, intercept=1.5287786243363106, rvalue=0.11967005884864099, pvalue=1.378503916248713e-238, stderr=0.002110976356332333, intercept_stderr=0.013196467544093607)"
          },
          "metadata": {}
        }
      ]
    },
    {
      "cell_type": "markdown",
      "source": "The slope is around 0.07 which means that there is a slightly positive relationship between vegetable intake and income. People have higher income are slightly more likely to eat more vegetable.",
      "metadata": {
        "tags": [],
        "cell_id": "00022-108630d3-5f2d-436a-954e-c8755de387b9",
        "deepnote_cell_type": "markdown"
      }
    },
    {
      "cell_type": "code",
      "metadata": {
        "tags": [],
        "cell_id": "00021-3cbe843e-c5dc-4f96-844b-2fe5bada4ef4",
        "deepnote_to_be_reexecuted": false,
        "source_hash": "7601cdd5",
        "execution_millis": 321,
        "execution_start": 1617271604856,
        "deepnote_cell_type": "code"
      },
      "source": "# plot the graph with slope\nplt.plot(income, vege_consump, 'o')\n\nfx = np.array([income.min(), income.max()])\nfy = res.intercept + res.slope * fx\nplt.plot(fx, fy, '-')\n\nplt.xlabel('Income')\nplt.ylabel('Vegetable Consumption')\nplt.title('Vegetable consumption vs. Income with Regression Line');",
      "execution_count": null,
      "outputs": [
        {
          "data": {
            "text/plain": "<Figure size 432x288 with 1 Axes>",
            "image/png": "[encoded data removed]"
          },
          "metadata": {
            "needs_background": "light"
          },
          "output_type": "display_data"
        }
      ]
    },
    {
      "cell_type": "markdown",
      "source": "# Question 4\n\n## Inference\nComplete the exercise from Notebook 11 which asks:\n> But suppose we would like to know whether first babies are more unpredictable than other babies. In that case the test statistic we choose might be the standard deviation of pregnancy length, which is one way to quantify unpredictability.\n\n1. Write a version of `test_stat` that computes the difference in standard deviation between the groups.\n\n2. Write a loop that estimates the distribution of this test statistic under the null hypothesis.\n\n3. Compute a p-value.",
      "metadata": {
        "tags": [],
        "cell_id": "00014-7b3dd33a-6ac1-4cca-ba5d-903c0f59026d",
        "deepnote_cell_type": "markdown"
      }
    },
    {
      "cell_type": "code",
      "metadata": {
        "tags": [],
        "cell_id": "00016-2410e39d-9de1-4a56-b700-f42858dba204",
        "deepnote_to_be_reexecuted": false,
        "source_hash": "6e119681",
        "execution_millis": 57,
        "execution_start": 1617179255431,
        "deepnote_cell_type": "code"
      },
      "source": "if not os.path.exists('nsfg.hdf5'):\n    !wget https://github.com/AllenDowney/ElementsOfDataScience/raw/master/nsfg.hdf5\n\nnsfg = pd.read_hdf('nsfg.hdf5')\nfirst = (nsfg.birthord == 1)\nothers = (nsfg.birthord > 1)\nprglngth = nsfg['prglngth']",
      "execution_count": null,
      "outputs": []
    },
    {
      "cell_type": "markdown",
      "source": "We write a function called `test_stat` to compute the difference in standard deviations between the groups:",
      "metadata": {
        "tags": [],
        "cell_id": "00017-76e1490e-7e12-4cb7-ae97-7204902231cd",
        "deepnote_cell_type": "markdown"
      }
    },
    {
      "cell_type": "code",
      "metadata": {
        "tags": [],
        "cell_id": "00018-92c46739-53fe-4a3b-b164-b8fb9cd81f05",
        "deepnote_to_be_reexecuted": false,
        "source_hash": "a7363104",
        "execution_millis": 9,
        "execution_start": 1617179255500,
        "deepnote_cell_type": "code"
      },
      "source": "def test_stat(group1, group2):\n  d = np.std(group1) - np.std(group2)\n  return d",
      "execution_count": null,
      "outputs": []
    },
    {
      "cell_type": "markdown",
      "source": "Calculate the difference by using `test_stat`.",
      "metadata": {
        "tags": [],
        "cell_id": "00026-38c24db8-ba96-4536-88c0-672a55965d83",
        "deepnote_cell_type": "markdown"
      }
    },
    {
      "cell_type": "code",
      "metadata": {
        "tags": [],
        "cell_id": "00019-aae9cb12-39a2-4332-ae8c-44e6bd486b0f",
        "deepnote_to_be_reexecuted": false,
        "source_hash": "5a9f91f3",
        "execution_millis": 12,
        "execution_start": 1617179255511,
        "deepnote_cell_type": "code"
      },
      "source": "group1 = prglngth[first]\ngroup2 = prglngth[others]\ndiff = test_stat(group1, group2)\ndiff",
      "execution_count": null,
      "outputs": [
        {
          "output_type": "execute_result",
          "execution_count": 17,
          "data": {
            "text/plain": "0.1712158666885042"
          },
          "metadata": {}
        }
      ]
    },
    {
      "cell_type": "markdown",
      "source": "Under null hypothesis, we believe that there is no difference between the standard deviation for `prglngth`(predictability of pregnancy length) of first baby and that of others. Therefore, we regroup them and **shuffle**, then **split** the data to make two simulated groups same size as what we have at the origin. Then we use **test_stat** for the simulated data by running the simulation many times and store the results.",
      "metadata": {
        "tags": [],
        "cell_id": "00020-797777bd-b2b2-4879-9c9f-396ae0b96303",
        "deepnote_cell_type": "markdown"
      }
    },
    {
      "cell_type": "code",
      "metadata": {
        "tags": [],
        "cell_id": "00020-319a85a6-fb5b-4462-81a4-3c4210930cc7",
        "deepnote_to_be_reexecuted": false,
        "source_hash": "e8a71c1a",
        "execution_millis": 3,
        "execution_start": 1617179255520,
        "deepnote_cell_type": "code"
      },
      "source": "pool = np.concatenate([group1, group2])\n# shuffle\nnp.random.shuffle(pool)\n# split\nsim_group1, sim_group2 = np.split(pool, [len(group1)])",
      "execution_count": null,
      "outputs": []
    },
    {
      "cell_type": "code",
      "metadata": {
        "tags": [],
        "cell_id": "00023-c43f25e9-dcf3-46e6-8058-9cd1ba480eaa",
        "deepnote_to_be_reexecuted": false,
        "source_hash": "e40f229f",
        "execution_millis": 466,
        "execution_start": 1617179255527,
        "deepnote_cell_type": "code"
      },
      "source": "diffs = np.empty(1000)\n\nfor i in range(len(diffs)):\n  np.random.shuffle(pool)\n  sim_group1, sim_group2 = np.split(pool, [len(group1)])\n  diffs[i] = test_stat(sim_group1, sim_group2)\n\nnp.mean(diffs)",
      "execution_count": null,
      "outputs": [
        {
          "output_type": "execute_result",
          "execution_count": 19,
          "data": {
            "text/plain": "-3.887058024736856e-05"
          },
          "metadata": {}
        }
      ]
    },
    {
      "cell_type": "code",
      "metadata": {
        "tags": [],
        "cell_id": "00024-37e408fe-dec3-4f7d-a8c8-2e5e7e0a06ac",
        "deepnote_to_be_reexecuted": false,
        "source_hash": "41aa7fec",
        "execution_millis": 8,
        "execution_start": 1617179256004,
        "deepnote_cell_type": "code"
      },
      "source": "# histogram distribution\ndef plot_hist(values):\n    xs, ys, patches = plt.hist(values, density=True, histtype='step', linewidth=2,)  \n    plt.tight_layout()\n    return patches[0]",
      "execution_count": null,
      "outputs": []
    },
    {
      "cell_type": "code",
      "metadata": {
        "tags": [],
        "cell_id": "00027-fe218cda-15d4-4e95-95ab-0f4271e588f9",
        "deepnote_to_be_reexecuted": false,
        "source_hash": "93b14209",
        "execution_millis": 438,
        "execution_start": 1617179256014,
        "deepnote_cell_type": "code"
      },
      "source": "plot_hist(diffs)\n\nplt.xlabel('Difference in sd in a week')\nplt.ylabel('Density')\nplt.title('Distribution of test statistic under H0');",
      "execution_count": null,
      "outputs": [
        {
          "data": {
            "text/plain": "<Figure size 432x288 with 1 Axes>",
            "image/png": "[encoded data removed]"
          },
          "metadata": {
            "needs_background": "light"
          },
          "output_type": "display_data"
        }
      ]
    },
    {
      "cell_type": "code",
      "metadata": {
        "tags": [],
        "cell_id": "00029-4b3dfbf5-b171-4d21-a8a0-331cd3d8a25f",
        "deepnote_to_be_reexecuted": false,
        "source_hash": "a4405a7a",
        "execution_millis": 34,
        "execution_start": 1617179256447,
        "deepnote_cell_type": "code"
      },
      "source": "p_value = np.mean(diffs >= diff)\np_value",
      "execution_count": null,
      "outputs": [
        {
          "output_type": "execute_result",
          "execution_count": 22,
          "data": {
            "text/plain": "0.062"
          },
          "metadata": {}
        }
      ]
    },
    {
      "cell_type": "markdown",
      "source": "The p-value is greater than **0.05**, meaning that we fail to reject the null hypothesis and believe that the standard deviation for predictability of pregnancy length of first baby is different from that of the others.",
      "metadata": {
        "tags": [],
        "cell_id": "00034-a395cb23-fd2a-4b2e-a702-8df8aca3cc43",
        "deepnote_cell_type": "markdown"
      }
    },
    {
      "cell_type": "markdown",
      "source": "# Question 5\n## AWS ML APIs\nIn the [lecture notebook](https://github.com/jeremyallenjacobson/qtm350/blob/master/CourseAssets/Rekognition_notebook/AWS-ML-API.ipynb) we walked you through setting up Sagemaker in the Educate account in order to use the AWS ML APIs.\n\nYour task in this question is to select another ML service from AWS and then, using the documentation, create a walkthrough similar to the one we did above for the service you picked.\n\nIn your walkthrough, demonstrate how to call the service from within a Sagemaker notebook using either the AWS CLI or the Python SDK (your pick).\n\nAs always, be sure to narrate your code with lots of text, images, and links to share. Explain which ML APIs you were interested in, which you tried but couldn't use, and potential use cases that you would like to explore as well as data sources you would like to apply them to.\n\nFinally, because we can't run Sagemaker code in a colab notebook, convert your walkthrough notebook from this exercise into a .html file using `jupyter nbconvert` as the command line. Then, create an S3 bucket, upload the .html file to your bucket, and follow the instructions [here](https://docs.aws.amazon.com/AmazonS3/latest/dev/HowDoIWebsiteConfiguration.html) for making the .html available as a webpage.\n\n Share the link to it in this notebook, so that I and other students can read your walkthrough.",
      "metadata": {
        "id": "Skt2EJio2oNG",
        "cell_id": "00005-c42f28fe-d4ea-4be4-89da-c0cb29ee9612",
        "deepnote_cell_type": "markdown"
      }
    },
    {
      "cell_type": "markdown",
      "source": "Click the following link: http://homework3-fontana.s3-website-us-east-1.amazonaws.com/",
      "metadata": {
        "tags": [],
        "cell_id": "00037-359c42fb-fa41-4f0b-934f-01df4430c0ba",
        "deepnote_cell_type": "markdown"
      }
    },
    {
      "cell_type": "markdown",
      "source": "<a style='text-decoration:none;line-height:16px;display:flex;color:#5B5B62;padding:10px;justify-content:end;' href='https://deepnote.com?utm_source=created-in-deepnote-cell&projectId=34182c1e-ced2-433c-9676-54ec654bbd88' target=\"_blank\">\n<img alt='Created in deepnote.com' style='display:inline;max-height:16px;margin:0px;margin-right:7.5px;' src='data:image/svg+xml;base64,PD94bWwgdmVyc2lvbj0iMS4wIiBlbmNvZGluZz0iVVRGLTgiPz4KPHN2ZyB3aWR0aD0iODBweCIgaGVpZ2h0PSI4MHB4IiB2aWV3Qm94PSIwIDAgODAgODAiIHZlcnNpb249IjEuMSIgeG1sbnM9Imh0dHA6Ly93d3cudzMub3JnLzIwMDAvc3ZnIiB4bWxuczp4bGluaz0iaHR0cDovL3d3dy53My5vcmcvMTk5OS94bGluayI+CiAgICA8IS0tIEdlbmVyYXRvcjogU2tldGNoIDU0LjEgKDc2NDkwKSAtIGh0dHBzOi8vc2tldGNoYXBwLmNvbSAtLT4KICAgIDx0aXRsZT5Hcm91cCAzPC90aXRsZT4KICAgIDxkZXNjPkNyZWF0ZWQgd2l0aCBTa2V0Y2guPC9kZXNjPgogICAgPGcgaWQ9IkxhbmRpbmciIHN0cm9rZT0ibm9uZSIgc3Ryb2tlLXdpZHRoPSIxIiBmaWxsPSJub25lIiBmaWxsLXJ1bGU9ImV2ZW5vZGQiPgogICAgICAgIDxnIGlkPSJBcnRib2FyZCIgdHJhbnNmb3JtPSJ0cmFuc2xhdGUoLTEyMzUuMDAwMDAwLCAtNzkuMDAwMDAwKSI+CiAgICAgICAgICAgIDxnIGlkPSJHcm91cC0zIiB0cmFuc2Zvcm09InRyYW5zbGF0ZSgxMjM1LjAwMDAwMCwgNzkuMDAwMDAwKSI+CiAgICAgICAgICAgICAgICA8cG9seWdvbiBpZD0iUGF0aC0yMCIgZmlsbD0iIzAyNjVCNCIgcG9pbnRzPSIyLjM3NjIzNzYyIDgwIDM4LjA0NzY2NjcgODAgNTcuODIxNzgyMiA3My44MDU3NTkyIDU3LjgyMTc4MjIgMzIuNzU5MjczOSAzOS4xNDAyMjc4IDMxLjY4MzE2ODMiPjwvcG9seWdvbj4KICAgICAgICAgICAgICAgIDxwYXRoIGQ9Ik0zNS4wMDc3MTgsODAgQzQyLjkwNjIwMDcsNzYuNDU0OTM1OCA0Ny41NjQ5MTY3LDcxLjU0MjI2NzEgNDguOTgzODY2LDY1LjI2MTk5MzkgQzUxLjExMjI4OTksNTUuODQxNTg0MiA0MS42NzcxNzk1LDQ5LjIxMjIyODQgMjUuNjIzOTg0Niw0OS4yMTIyMjg0IEMyNS40ODQ5Mjg5LDQ5LjEyNjg0NDggMjkuODI2MTI5Niw0My4yODM4MjQ4IDM4LjY0NzU4NjksMzEuNjgzMTY4MyBMNzIuODcxMjg3MSwzMi41NTQ0MjUgTDY1LjI4MDk3Myw2Ny42NzYzNDIxIEw1MS4xMTIyODk5LDc3LjM3NjE0NCBMMzUuMDA3NzE4LDgwIFoiIGlkPSJQYXRoLTIyIiBmaWxsPSIjMDAyODY4Ij48L3BhdGg+CiAgICAgICAgICAgICAgICA8cGF0aCBkPSJNMCwzNy43MzA0NDA1IEwyNy4xMTQ1MzcsMC4yNTcxMTE0MzYgQzYyLjM3MTUxMjMsLTEuOTkwNzE3MDEgODAsMTAuNTAwMzkyNyA4MCwzNy43MzA0NDA1IEM4MCw2NC45NjA0ODgyIDY0Ljc3NjUwMzgsNzkuMDUwMzQxNCAzNC4zMjk1MTEzLDgwIEM0Ny4wNTUzNDg5LDc3LjU2NzA4MDggNTMuNDE4MjY3Nyw3MC4zMTM2MTAzIDUzLjQxODI2NzcsNTguMjM5NTg4NSBDNTMuNDE4MjY3Nyw0MC4xMjg1NTU3IDM2LjMwMzk1NDQsMzcuNzMwNDQwNSAyNS4yMjc0MTcsMzcuNzMwNDQwNSBDMTcuODQzMDU4NiwzNy43MzA0NDA1IDkuNDMzOTE5NjYsMzcuNzMwNDQwNSAwLDM3LjczMDQ0MDUgWiIgaWQ9IlBhdGgtMTkiIGZpbGw9IiMzNzkzRUYiPjwvcGF0aD4KICAgICAgICAgICAgPC9nPgogICAgICAgIDwvZz4KICAgIDwvZz4KPC9zdmc+' > </img>\nCreated in <span style='font-weight:600;margin-left:4px;'>Deepnote</span></a>",
      "metadata": {
        "tags": [],
        "created_in_deepnote_cell": true,
        "deepnote_cell_type": "markdown"
      }
    }
  ],
  "nbformat": 4,
  "nbformat_minor": 0,
  "metadata": {
    "colab": {
      "name": "HW3.ipynb",
      "private_outputs": true,
      "provenance": [],
      "collapsed_sections": [
        "RqhpdagcQ28W"
      ]
    },
    "kernelspec": {
      "name": "python3",
      "display_name": "Python 3"
    },
    "deepnote_notebook_id": "3e12f4cc-d063-48ff-8632-b5391311bb06",
    "deepnote": {},
    "deepnote_execution_queue": []
  }
}