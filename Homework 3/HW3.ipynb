{
  "cells": [
    {
      "cell_type": "markdown",
      "source": "# Homework 3\nComplete the exercises working in your group. You may share the notebook with your group members using the share button in the upper right. \n\n\n\n\n\n",
      "metadata": {
        "id": "rvObaKKCzGwK",
        "cell_id": "00000-41c80a88-76af-4fad-a37f-cbe2ee1ea06e",
        "deepnote_cell_type": "markdown"
      }
    },
    {
      "cell_type": "markdown",
      "source": "# Question 1\n## Plotting practice\nThese questions follow the examples presented in Notebook 9 from the Textbook. See that notebook for the dataset and template code.\n*  Generate a violin plot that shows the distribution of height in each income group. Can you see a relationship between these variables?\n* Make a boxplot that shows the distribution of weight in each income group. Plot the y-axis on a logarithmic scale.\n* Generate a visualization of the relationship between weight and vegetable consumption. ",
      "metadata": {
        "id": "RqhpdagcQ28W",
        "cell_id": "00001-d89a8f5e-3e3d-4966-975a-0fc409732186",
        "deepnote_cell_type": "markdown"
      }
    },
    {
      "cell_type": "markdown",
      "source": "# Question 2\n## Correlation\nRecall that correlation only measures linear relationships. If the relationship is nonlinear, correlation generally underestimates how strong it is.\n\nTo demonstrate, generate another example of fake data that is different from the data presented in the text which was $y=x^2$. Explain what is the association between the variables (e.g. $y=x^4$, $y=sin(x)$) and why the correlation is low or zero despite there being a clear relationship between the variables.",
      "metadata": {
        "id": "7Wj3r0m90AZu",
        "cell_id": "00002-04e362c6-a379-498e-a46a-015f694a31ac",
        "deepnote_cell_type": "markdown"
      }
    },
    {
      "cell_type": "markdown",
      "source": "# Question 3\n## Simple regression\nWho do you think eats more vegetables, people with low income, or people with high income? To answer this question, make a scatter plot with vegetable servings versus income, then estimate the slope of the relationship between vegetable consumption and income.\n\nWhat is the slope of the regression line? Write a sentence that explains what this slope means in the context of the question we are exploring.\n\nFinally, plot the regression line on top of the scatter plot.",
      "metadata": {
        "id": "YMHPjghx-w9f",
        "cell_id": "00003-8ade3e7e-04c6-4e5a-87e1-ae68e1acb1dd",
        "deepnote_cell_type": "markdown"
      }
    },
    {
      "cell_type": "markdown",
      "source": "# Question 4\n\n## Inference\nComplete the exercise from Notebook 11 which asks:\n> But suppose we would like to know whether first babies are more unpredictable than other babies. In that case the test statistic we choose might be the standard deviation of pregnancy length, which is one way to quantify unpredictability.\n\n1. Write a version of `test_stat` that computes the difference in standard deviation between the groups.\n\n2. Write a loop that estimates the distribution of this test statistic under the null hypothesis.\n\n3. Compute a p-value.",
      "metadata": {
        "id": "SCKWrIAM_IXR",
        "cell_id": "00004-3843960c-eb6e-4a23-b3ef-8ecd2b66af4d",
        "deepnote_cell_type": "markdown"
      }
    },
    {
      "cell_type": "markdown",
      "source": "## Question 5\n### AWS ML APIs\nIn the [lecture notebook](https://github.com/jeremyallenjacobson/qtm350/blob/master/CourseAssets/Rekognition_notebook/AWS-ML-API.ipynb) we walked you through setting up Sagemaker in the Educate account in order to use the AWS ML APIs.\n\nYour task in this question is to select another ML service from AWS and then, using the documentation, create a walkthrough similar to the one we did above for the service you picked.\n\nIn your walkthrough, demonstrate how to call the service from within a Sagemaker notebook using either the AWS CLI or the Python SDK (your pick).\n\nAs always, be sure to narrate your code with lots of text, images, and links to share. Explain which ML APIs you were interested in, which you tried but couldn't use, and potential use cases that you would like to explore as well as data sources you would like to apply them to.\n\nFinally, because we can't run Sagemaker code in a colab notebook, convert your walkthrough notebook from this exercise into a .html file using `jupyter nbconvert` as the command line. Then, create an S3 bucket, upload the .html file to your bucket, and follow the instructions [here](https://docs.aws.amazon.com/AmazonS3/latest/dev/HowDoIWebsiteConfiguration.html) for making the .html available as a webpage.\n\n Share the link to it in this notebook, so that I and other students can read your walkthrough.",
      "metadata": {
        "id": "Skt2EJio2oNG",
        "cell_id": "00005-c42f28fe-d4ea-4be4-89da-c0cb29ee9612",
        "deepnote_cell_type": "markdown"
      }
    },
    {
      "cell_type": "markdown",
      "source": "<a style='text-decoration:none;line-height:16px;display:flex;color:#5B5B62;padding:10px;justify-content:end;' href='https://deepnote.com?utm_source=created-in-deepnote-cell&projectId=34182c1e-ced2-433c-9676-54ec654bbd88' target=\"_blank\">\n<img style='display:inline;max-height:16px;margin:0px;margin-right:7.5px;' src='data:image/svg+xml;base64,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' > </img>\nCreated in <span style='font-weight:600;margin-left:4px;'>Deepnote</span></a>",
      "metadata": {
        "tags": [],
        "created_in_deepnote_cell": true,
        "deepnote_cell_type": "markdown"
      }
    }
  ],
  "nbformat": 4,
  "nbformat_minor": 0,
  "metadata": {
    "colab": {
      "name": "HW3.ipynb",
      "private_outputs": true,
      "provenance": [],
      "collapsed_sections": [
        "RqhpdagcQ28W"
      ]
    },
    "kernelspec": {
      "name": "python3",
      "display_name": "Python 3"
    },
    "deepnote_notebook_id": "3e12f4cc-d063-48ff-8632-b5391311bb06",
    "deepnote": {},
    "deepnote_execution_queue": []
  }
}