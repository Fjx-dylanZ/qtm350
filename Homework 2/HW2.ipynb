{
  "cells": [
    {
      "cell_type": "markdown",
      "source": "# Homework 2\nComplete the exercises working in your group. You may share the notebook with your group members using the share button in the upper right. Be careful with this feature. Although similar to Google Docs in functionality, you will notice that if two people are working on the same cell at the same time, then you may lose your work in that cell. ",
      "metadata": {
        "id": "rvObaKKCzGwK",
        "cell_id": "00000-66c52cdc-adf2-45e5-8235-5ee6d5049b11",
        "deepnote_cell_type": "markdown"
      }
    },
    {
      "cell_type": "markdown",
      "source": "# Question 1\n## API practice\nComplete the exercises in Section 6.3.1, Using a Web API to get Country Codes, from the [link here](https://runestone.academy/runestone/books/published/httlads/WorldFacts/screenscrape_cids.html).\n\n",
      "metadata": {
        "id": "RqhpdagcQ28W",
        "cell_id": "00001-3344b78c-fbac-4b01-b6d9-ade79245b3db",
        "deepnote_cell_type": "markdown"
      }
    },
    {
      "cell_type": "markdown",
      "source": "<img src=\"usmap.png\" alt=\"fontana\" width=\"490\"/>\n\nWith the powerful Web API, we can easily access information of different countries in python. In this question, we are going to focus on Peru.\n\n\n\n",
      "metadata": {
        "tags": [],
        "cell_id": "00002-d2a7e100-0e68-4950-a9a3-22c98857e9ca",
        "deepnote_cell_type": "markdown"
      }
    },
    {
      "cell_type": "code",
      "metadata": {
        "tags": [],
        "cell_id": "00002-2d301956-83e6-4a62-975c-7f514dc27d02",
        "deepnote_to_be_reexecuted": false,
        "source_hash": "becacfbd",
        "execution_millis": 0,
        "execution_start": 1614831066515,
        "deepnote_cell_type": "code"
      },
      "source": "import requests",
      "execution_count": null,
      "outputs": []
    },
    {
      "cell_type": "code",
      "metadata": {
        "tags": [],
        "cell_id": "00002-30355970-c1ca-45a1-957d-17bc5a7626ff",
        "deepnote_to_be_reexecuted": false,
        "source_hash": "d766a60",
        "execution_millis": 125,
        "execution_start": 1614831066516,
        "deepnote_cell_type": "code"
      },
      "source": "# read data from api\nperu_res = requests.get('https://restcountries.eu/rest/v2/alpha/per')\nperu_info = peru_res.json()\n# extract keys from the dictionary\nprint(\"Peru's numericCode: \" + str(peru_info['numericCode']) +\n\"\\nCountreis that border Peru: \" + str(peru_info['borders']) +\n\"\\nLength of dictionary: \" + str(len(peru_info)))",
      "execution_count": null,
      "outputs": [
        {
          "name": "stdout",
          "text": "Peru's numericCode: 604\nCountreis that border Peru: ['BOL', 'BRA', 'CHL', 'COL', 'ECU']\nLength of dictionary: 24\n",
          "output_type": "stream"
        }
      ]
    },
    {
      "cell_type": "markdown",
      "source": "<img src=\"peru.jpg\" alt=\"fontana\" width=\"600\"/>\n\nPhoto from [Handluggageonly](https://handluggageonly.co.uk/2015/10/19/10-beautiful-villages-that-you-must-visit-in-peru/)\n\nFrom the information above, we can see that the numericCode for the country of Peru is `604`; the list of the three letter country codes of the countries that border Peru are `'BOL', 'BRA', 'CHL', 'COL', 'ECU'`; and there are `24` keys in the dictionary returned for the country of Peru (named as peru_info).\n",
      "metadata": {
        "tags": [],
        "cell_id": "00005-21916f04-ac0e-4066-8517-3ecc7e436f1c",
        "deepnote_cell_type": "markdown"
      }
    },
    {
      "cell_type": "markdown",
      "source": "# Question 2\n## Further questions to follow-up the previous exercise:\n1. What is the `numericCode` for the country of Germany?\n2. Copy and paste the list of the three letter country codes of the countries that border Germany. Do not include the square brackets.\n3. What is the ratio $\\text{population}/\\text{area}$ in Germany according to the data provided by the API?\n\nEnter your answer to two significant digits, e.g. the format should read 000.00 with numbers in place of the 0's.\n\n4. Which country has the smallest such ratio, which the largest? What is the most dense country a member of your group has visited? Least dense? Tell us about it and include pictures and links to give us a sense of the place.\n5. I am thinking of a country. Its name starts with the same letter that your group name starts with. Among all such countries, it has the greatest number of borders. Which country am I thinking of?\n\n",
      "metadata": {
        "id": "7Wj3r0m90AZu",
        "cell_id": "00002-aec83cbe-fef0-4d72-8012-414c59fd966c",
        "deepnote_cell_type": "markdown"
      }
    },
    {
      "cell_type": "markdown",
      "source": "<img src=\"germany.jpg\" alt=\"fontana\" width=\"530\"/>\n\nPhoto from [CNN](https://www.cnn.com/travel/destinations/germany)",
      "metadata": {
        "tags": [],
        "cell_id": "00007-c3fc4555-efb3-4736-ba3b-b2c116c49ca0",
        "deepnote_cell_type": "markdown"
      }
    },
    {
      "cell_type": "code",
      "metadata": {
        "tags": [],
        "cell_id": "00007-c1c9a548-81cd-4a5b-a9a5-cfa80770c1a6",
        "deepnote_to_be_reexecuted": false,
        "source_hash": "ab6729d5",
        "execution_millis": 96,
        "execution_start": 1614831066624,
        "deepnote_cell_type": "code"
      },
      "source": "# read data from api\ngermany_res = requests.get('https://restcountries.eu/rest/v2/alpha/deu')\ngermany_info = germany_res.json()",
      "execution_count": null,
      "outputs": []
    },
    {
      "cell_type": "markdown",
      "source": "### 1. `numericCode` for Germany",
      "metadata": {
        "tags": [],
        "cell_id": "00009-45a2429f-2080-411e-b4ab-657a0bcef790",
        "deepnote_cell_type": "markdown"
      }
    },
    {
      "cell_type": "code",
      "metadata": {
        "tags": [],
        "cell_id": "00009-458cd703-7254-4fe0-81fc-ae1f74b23451",
        "deepnote_to_be_reexecuted": false,
        "source_hash": "a2268823",
        "execution_millis": 41,
        "execution_start": 1614831066735,
        "deepnote_cell_type": "code"
      },
      "source": "print(\"Germany's numericCode: \" + str(germany_info['numericCode']))",
      "execution_count": null,
      "outputs": [
        {
          "name": "stdout",
          "text": "Germany's numericCode: 276\n",
          "output_type": "stream"
        }
      ]
    },
    {
      "cell_type": "markdown",
      "source": "The numericCode for Germany is `276`.",
      "metadata": {
        "tags": [],
        "cell_id": "00011-48ce3ee0-5c49-454a-a82b-ad983abe6dfc",
        "deepnote_cell_type": "markdown"
      }
    },
    {
      "cell_type": "markdown",
      "source": "### 2. Countries that border Germany\n\n",
      "metadata": {
        "tags": [],
        "cell_id": "00012-05a6500b-3ab6-404c-b535-da6ca3d97929",
        "deepnote_cell_type": "markdown"
      }
    },
    {
      "cell_type": "code",
      "metadata": {
        "tags": [],
        "cell_id": "00013-546b94b0-347d-4613-b8f5-5d968496e4c8",
        "deepnote_to_be_reexecuted": false,
        "source_hash": "edf9eadf",
        "execution_millis": 40,
        "execution_start": 1614831066736,
        "deepnote_cell_type": "code"
      },
      "source": "print(\"\\nCountreis that border Germany: \" + str(germany_info['borders']))",
      "execution_count": null,
      "outputs": [
        {
          "name": "stdout",
          "text": "\nCountreis that border Germany: ['AUT', 'BEL', 'CZE', 'DNK', 'FRA', 'LUX', 'NLD', 'POL', 'CHE']\n",
          "output_type": "stream"
        }
      ]
    },
    {
      "cell_type": "markdown",
      "source": "The list of the three letter country codes of the countries that border Germany is `'AUT', 'BEL', 'CZE', 'DNK', 'FRA', 'LUX', 'NLD', 'POL', 'CHE'`.",
      "metadata": {
        "tags": [],
        "cell_id": "00014-f1e34d17-4cf3-4462-b6b3-fc6b281a49e7",
        "deepnote_cell_type": "markdown"
      }
    },
    {
      "cell_type": "markdown",
      "source": "### 3. $\\text{population}/\\text{area}$ ratio in Germany",
      "metadata": {
        "tags": [],
        "cell_id": "00015-a35e1bd5-cb07-432f-91de-d5c8c9128484",
        "deepnote_cell_type": "markdown"
      }
    },
    {
      "cell_type": "code",
      "metadata": {
        "tags": [],
        "cell_id": "00016-d04f9e84-6f28-45cb-ac6d-c77e048f4f68",
        "deepnote_to_be_reexecuted": false,
        "source_hash": "8e94578e",
        "execution_millis": 39,
        "execution_start": 1614831066737,
        "deepnote_cell_type": "code"
      },
      "source": "# calculate ratio with given data\nratio = germany_info['population']/germany_info['area']\n# extract keys from the dictionary\nprint(\"\\nGermany's ratio: \" + str(ratio))",
      "execution_count": null,
      "outputs": [
        {
          "name": "stdout",
          "text": "\nGermany's ratio: 228.97702134332454\n",
          "output_type": "stream"
        }
      ]
    },
    {
      "cell_type": "markdown",
      "source": "The ratio, $\\text{population}/\\text{area}$ according to the data provided by the API, in Germany according  is `228.98`.",
      "metadata": {
        "tags": [],
        "cell_id": "00018-22df31d8-09fe-451f-865e-3f0bf91600ab",
        "deepnote_cell_type": "markdown"
      }
    },
    {
      "cell_type": "markdown",
      "source": "### 4. Countries with the smallest and largest ratio",
      "metadata": {
        "tags": [],
        "cell_id": "00018-2a4ca2a0-a68f-4dd9-8d76-bb2c818c954c",
        "deepnote_cell_type": "markdown"
      }
    },
    {
      "cell_type": "markdown",
      "source": "**India** is one of the most dense countries that our group member has visited. According to population density data in 2017 [ourworldindata](https://ourworldindata.org/most-densely-populated-countries), there are 450 people per square kilometer land area.\n\n<img src=\"india.jpg\" alt=\"fontana\" width=\"530\"/>\n\nPhoto from [ibtimes](https://www.ibtimes.com/telangana-bus-accident-over-50-pilgrims-including-children-killed-india-2715838)\n\n",
      "metadata": {
        "tags": [],
        "cell_id": "00010-31180999-791c-44d5-bd84-c775b9e7afa9",
        "deepnote_cell_type": "markdown"
      }
    },
    {
      "cell_type": "markdown",
      "source": "**Iceland** is the least dense country that our group member has visted. It is ranked the fifth least dense country according to population density data in 2017 [ourworldindata](https://ourworldindata.org/most-densely-populated-countries). There are 3 people per squre kilometer land area in Iceland.\n\n<img src=\"iceland.jpg\" alt=\"fontana\" width=\"530\"/>\n\nPhoto from [nbcnews](https://www.nbcnews.com/news/world/iceland-employs-detective-work-testing-quarantine-coronavirus-fight-n1170166)",
      "metadata": {
        "tags": [],
        "cell_id": "00010-1b55a94e-d795-47b9-926e-d0681c0a73c1",
        "deepnote_cell_type": "markdown"
      }
    },
    {
      "cell_type": "markdown",
      "source": "If we want to use Web API to show the most and least dense country, we first need to create a list of all the countries and then extract their info one by one.",
      "metadata": {
        "tags": [],
        "cell_id": "00021-cd65bca5-f5a2-4cd7-9f7b-9f5b93412bf3",
        "deepnote_cell_type": "markdown"
      }
    },
    {
      "cell_type": "code",
      "metadata": {
        "tags": [],
        "cell_id": "00022-16b77868-185c-4461-b266-25a553498440",
        "deepnote_to_be_reexecuted": false,
        "source_hash": "16b3570d",
        "execution_millis": 0,
        "execution_start": 1614831066763,
        "deepnote_cell_type": "code"
      },
      "source": "# create a list containing all the countries\nall_countries=['AD','AE','AF','AG','AI','AL','AM','AO','AQ','AR','AS','AT','AU','AW','AX','AZ','BA','BB','BD','BE','BF','BG','BH','BI','BJ','BL','BM','BN','BO','BQ','BR','BS','BT','BV','BW','BY','BZ','CA','CC','CD','CF','CG','CH','CI','CK','CL','CM','CN','CO','CR','CU','CV','CW','CX','CY','CZ','DE','DJ','DK','DM','DO','DZ','EC','EE','EG','EH','ER','ES','ET','FI','FJ','FK','FM','FO','FR','GA','GB','GD','GE','GG','GH','GI','GL','GM','GN','GQ','GR','GT','GU','GW','GY','HK','HM','HN','HR','HT','HU','ID','IE','IL','IM','IN','IO','IQ','IR','IS','IT','JE','JM','JO','JP','KE','KG','KH','KI','MK','PK','AL','BL','CL','IL','SL','TL','AM','CM','DM','FM','GM','HM','KM','MM','OM','PM','SM','TM','NA','NC','NE','NF','NG','NI','NL','NO','NP','NR','NU','NZ','OM','PA','PE','PF','PG','PH','PK','PL','PM','PN','PR','PT','PW','PY','QA','RO','RS','RU','RW','SA','SB','SC','SD','SE','SG','SI','SK','SL','SM','SN','SO','SR','SS','ST','SV','SX','SY','SZ','TC','TD','TF','TG','TH','TJ','TK','TL','TM','TN','TO','TR','TT','TV','TW','TZ','UA','UG','US','UY','UZ','VA','VC','VE','VG','VI','VN','VU','WF','WS','YE','ZA','ZM','ZW']",
      "execution_count": null,
      "outputs": []
    },
    {
      "cell_type": "markdown",
      "source": "Then, we create a empty list `border_dict` to store the population density data by applying a for loop.",
      "metadata": {
        "tags": [],
        "cell_id": "00023-25a35374-61b3-454a-8137-d03e6d9a42b9",
        "deepnote_cell_type": "markdown"
      }
    },
    {
      "cell_type": "code",
      "metadata": {
        "tags": [],
        "cell_id": "00024-43ebba20-622b-4127-9818-6d705c7ace98",
        "deepnote_to_be_reexecuted": false,
        "source_hash": "3e3fde6b",
        "execution_millis": 24644,
        "execution_start": 1614831066763,
        "deepnote_cell_type": "code"
      },
      "source": "border_dict = {}\n\nfor country in all_countries:\n  res = requests.get(f'https://restcountries.eu/rest/v2/alpha/{country}')\n  res_dict = res.json() # Create a python dictionary from the JSON\n  border_dict[country]=round(res_dict['population']/res_dict['area'],2)",
      "execution_count": null,
      "outputs": []
    },
    {
      "cell_type": "code",
      "metadata": {
        "tags": [],
        "cell_id": "00025-ac661840-d121-497b-a2a2-ab9580053b7b",
        "deepnote_to_be_reexecuted": false,
        "source_hash": "505b224d",
        "execution_millis": 17,
        "execution_start": 1614831091410,
        "deepnote_cell_type": "code"
      },
      "source": "print(\"most dense: \" + str(max(border_dict, key=border_dict.get)) +\n\"\\nlest dense: \" + str(min(border_dict, key=border_dict.get)))",
      "execution_count": null,
      "outputs": [
        {
          "name": "stdout",
          "text": "most dense: SG\nlest dense: AQ\n",
          "output_type": "stream"
        }
      ]
    },
    {
      "cell_type": "markdown",
      "source": "Therefore we can get that the most dense country is **Singapore** and the least dense country is **Antarctica**.",
      "metadata": {
        "tags": [],
        "cell_id": "00026-4a4fd80c-7235-4d31-8707-34a0a5aa4e45",
        "deepnote_cell_type": "markdown"
      }
    },
    {
      "cell_type": "markdown",
      "source": "### 5. Country (starts with letter \"F\") with greatest number of borders ",
      "metadata": {
        "tags": [],
        "cell_id": "00021-fbd6be05-ce0e-497e-a92a-52b3e319da34",
        "deepnote_cell_type": "markdown"
      }
    },
    {
      "cell_type": "markdown",
      "source": "First, we need to create a list of countries that start with letter `F`.",
      "metadata": {
        "tags": [],
        "cell_id": "00028-0f07470b-b8fc-4f86-853b-a45ba1dd7424",
        "deepnote_cell_type": "markdown"
      }
    },
    {
      "cell_type": "code",
      "metadata": {
        "tags": [],
        "cell_id": "00029-30dd9dda-708a-4748-aa53-3b0bae67503e",
        "deepnote_to_be_reexecuted": false,
        "source_hash": "7912696b",
        "execution_millis": 0,
        "execution_start": 1614831091455,
        "deepnote_cell_type": "code"
      },
      "source": "F_countries = ['FI','FJ','FK','FM','FO','FR']",
      "execution_count": null,
      "outputs": []
    },
    {
      "cell_type": "markdown",
      "source": "Then we create an empty dictionay to store all the info about these countries.",
      "metadata": {
        "tags": [],
        "cell_id": "00030-6d4403d8-e016-492d-810e-173c9ccda387",
        "deepnote_cell_type": "markdown"
      }
    },
    {
      "cell_type": "code",
      "metadata": {
        "tags": [],
        "cell_id": "00030-32a44b37-33a1-46f3-8d9c-49bb3c8cb1b5",
        "deepnote_to_be_reexecuted": false,
        "source_hash": "c68c7b6c",
        "execution_millis": 754,
        "execution_start": 1614831091456,
        "deepnote_cell_type": "code"
      },
      "source": "border_dict = {}\n\nfor country in F_countries:\n  res = requests.get(f'https://restcountries.eu/rest/v2/alpha/{country}')\n  res_dict = res.json()\n  border_dict[country] = len(res_dict['borders']) ",
      "execution_count": null,
      "outputs": []
    },
    {
      "cell_type": "markdown",
      "source": "Compare the info for countries in the dictionary, we can get:",
      "metadata": {
        "tags": [],
        "cell_id": "00032-9803b5ff-3978-4849-ba99-39c484754cbf",
        "deepnote_cell_type": "markdown"
      }
    },
    {
      "cell_type": "code",
      "metadata": {
        "tags": [],
        "cell_id": "00031-bffb61bf-529a-41dd-8d40-72021f21bd13",
        "deepnote_to_be_reexecuted": false,
        "source_hash": "7c85399b",
        "execution_millis": 4,
        "execution_start": 1614831092217,
        "deepnote_cell_type": "code"
      },
      "source": "max(border_dict, key=border_dict.get)",
      "execution_count": null,
      "outputs": [
        {
          "output_type": "execute_result",
          "execution_count": 12,
          "data": {
            "text/plain": "'FR'"
          },
          "metadata": {}
        }
      ]
    },
    {
      "cell_type": "markdown",
      "source": "The country starts with letter `F` and has the greatest number of borders is **`France`**.",
      "metadata": {
        "tags": [],
        "cell_id": "00033-f8485a37-3b8d-4c1d-972a-d1923920f728",
        "deepnote_cell_type": "markdown"
      }
    },
    {
      "cell_type": "markdown",
      "source": "# Question 3\n## Reading the classics\nAmong your group members, discuss the classics, e.g. books and authors found on Project Gutenberg, that you had read and loved, or hated. See Notebook 4 from the text for the link to this site as well as more details. Include your discussion in your notebook, along with pictures or links to the books to give the reader a sense of the books.\n\nCreate three (or more) metrics that could measure what it was that you loved or hated about the books. Explain each metric, including why you think it is a useful or interesting way to measure a book. For instance, a count of unique words could be a metric to measure vocabulary. Average sentence length could be a measure of the author's style. The frequency and distribution of the length of words could provide insights into the use of 'big' words by the author. \n\nThen, use `wget` to obtain the text of the books you discussed from Project Gutenberg, implement the metrics you created in Python, and analyze the books using these metrics. \n\nHypothesize what you expect to find in the books before the analysis, and then discuss what you actually found. As much as possible, provide plots of the data provided by your metrics when appropriate. If you are unsure how to get started, begin with the code the textbook used to analyze War and Peace, make simple modifications to it, justifying at each step what effect you expect your modification to have, and the actual impact it did have. For instance, instead of looking at a count of unique words, look at the max or min of this count.  ",
      "metadata": {
        "id": "YMHPjghx-w9f",
        "cell_id": "00003-03dc21c7-cebc-449f-a6c3-be721f4172db",
        "deepnote_cell_type": "markdown"
      }
    },
    {
      "cell_type": "code",
      "metadata": {
        "tags": [],
        "cell_id": "00010-4c5b3521-43f6-42fd-80ac-ebb3bb2c4f36",
        "deepnote_to_be_reexecuted": false,
        "source_hash": "940d9554",
        "execution_millis": 1,
        "execution_start": 1614852513795,
        "deepnote_cell_type": "code"
      },
      "source": "import os",
      "execution_count": 23,
      "outputs": []
    },
    {
      "cell_type": "code",
      "metadata": {
        "tags": [],
        "cell_id": "00011-244a2354-594b-411d-8ed8-b968f7a15cf0",
        "deepnote_to_be_reexecuted": false,
        "source_hash": "b27a858a",
        "execution_millis": 4,
        "execution_start": 1614831092228,
        "deepnote_cell_type": "code"
      },
      "source": "if not os.path.exists('pg37106.txt'):\n    !wget https://www.gutenberg.org/cache/epub/37106/pg37106.txt",
      "execution_count": null,
      "outputs": []
    },
    {
      "cell_type": "markdown",
      "source": "_**Little Women**_ is a coming-of-age novel written by American novelist Louisa May Alcott (1832–1888) which was originally published in two volumes in 1868 and 1869. The story follows the lives of the four March sisters—Meg, Jo, Beth, and Amy—and details their passage from childhood to womanhood. It is loosely based on the lives of the author and her three sisters. \n[From Wikipedia.](https://en.wikipedia.org/wiki/Little_Women#Plot_summary)\n\n**Discussion**: In 2019, the movie was adapted to a movie for a second time and we loved the movie because it showed a brave and courageous protagnist, Josephine March, who challenged the male-dominated society as a novel writer.\n<img src=\"littlewomen.jpg\" alt=\"fontana\" width=\"450\"/>\nPhoto from [Project Gutenberg](https://www.gutenberg.org/ebooks/37106)",
      "metadata": {
        "tags": [],
        "cell_id": "00012-fa166b67-f134-4c8a-9b1b-f45eac8a61f3",
        "deepnote_cell_type": "markdown"
      }
    },
    {
      "cell_type": "markdown",
      "source": "**Metric 1: **\n*NumofWords* measures the number of words in the book. We derived this number to compare with the number of words from War and Peace. We expected the number of words would be smaller for the Litte Women given it is able to be adapted into movies. Possibly shorter stories may be more appealing to readers since readers are less likely to lose inerest when reading them, given the great popularity of the story.",
      "metadata": {
        "tags": [],
        "cell_id": "00013-d9ee7c98-bcd7-42b4-a980-6233e97dd842",
        "deepnote_cell_type": "markdown"
      }
    },
    {
      "cell_type": "code",
      "metadata": {
        "tags": [],
        "cell_id": "00014-f48acbcd-e886-40d9-8171-2a38aa570dad",
        "deepnote_to_be_reexecuted": false,
        "source_hash": "20d0548b",
        "execution_millis": 8,
        "execution_start": 1614850469092,
        "deepnote_cell_type": "code"
      },
      "source": "fp = open('pg37106.txt')\nNumofWords = 0\nfor line in fp:\n    NumofWords += len(line.split())\nprint(NumofWords)",
      "execution_count": 1,
      "outputs": [
        {
          "name": "stdout",
          "text": "195897\n",
          "output_type": "stream"
        }
      ]
    },
    {
      "cell_type": "markdown",
      "source": "**Discussion**\nAccording to our [textbook](https://colab.research.google.com/github/AllenDowney/ElementsOfDataScience/blob/master/04_loops.ipynb), the book, War and Peace has 566317 words. We found the Little Women has 195897 words. This meets our expectation and we postulate the less number of words in the Little Women may be a factor contributing to its populatrity.",
      "metadata": {
        "tags": [],
        "cell_id": "00015-439ba0af-5fba-4599-956e-950aa14e4ed3",
        "deepnote_cell_type": "markdown"
      }
    },
    {
      "cell_type": "markdown",
      "source": "**Metric 2: **\n*Top10UniqueWord* presents the top 10 words with highest frequencies of appearance in the book. We chose this metric because we think there might be a high frequency of female pronoun words used, such as \"she,\" \"her,\" and \"hers,\" given the Little Women is a story of a family with 4 daughters. At the same time, given the large volume of novels with male protagnists during the time, we thought it would be valuable to see the description of females in a book just as the Little Women. ",
      "metadata": {
        "tags": [],
        "cell_id": "00015-04adf38f-c5fb-4cc8-b6e6-bc1dd033ae63",
        "deepnote_cell_type": "markdown"
      }
    },
    {
      "cell_type": "code",
      "metadata": {
        "tags": [],
        "cell_id": "00016-c6136273-7a82-4056-abe8-f49e93456d25",
        "deepnote_to_be_reexecuted": false,
        "source_hash": "1488777f",
        "execution_millis": 1,
        "execution_start": 1614850708701,
        "deepnote_cell_type": "code"
      },
      "source": "import collections\nimport string",
      "execution_count": 2,
      "outputs": []
    },
    {
      "cell_type": "code",
      "metadata": {
        "tags": [],
        "cell_id": "00016-d3a1e843-723c-4499-814d-fb85ae9b5be6",
        "deepnote_to_be_reexecuted": false,
        "source_hash": "94129e40",
        "execution_millis": 111,
        "execution_start": 1614850737398,
        "deepnote_cell_type": "code"
      },
      "source": "fp = open('pg37106.txt')\nunique_words_counts = {}\nfor line in fp:\n    for word in line.split():\n        word = word.strip(string.punctuation)\n        if word in unique_words_counts:\n            unique_words_counts[word] += 1\n        else:\n            unique_words_counts[word] = 1\n\ncounter = collections.Counter(unique_words_counts)\n\nTop10UniqueWord = counter.most_common(10)\nTop10UniqueWord",
      "execution_count": 4,
      "outputs": [
        {
          "output_type": "execute_result",
          "execution_count": 4,
          "data": {
            "text/plain": "[('and', 8173),\n ('the', 7680),\n ('to', 5220),\n ('a', 4453),\n ('of', 3637),\n ('her', 3279),\n ('I', 3179),\n ('in', 2534),\n ('it', 2265),\n ('for', 2201)]"
          },
          "metadata": {}
        }
      ]
    },
    {
      "cell_type": "markdown",
      "source": "**Discussion**\nFor the top 10 most frequently used words, most of them are trival words, such as \"and\", \"the\", \"to\", etc. However, we did found the word \"her\" appeared with a frequency of 3279, confirming the female perspective taken by the writer and the novel.",
      "metadata": {
        "tags": [],
        "cell_id": "00019-a1426a0f-3cea-499d-b483-2b1bf49341da",
        "deepnote_cell_type": "markdown"
      }
    },
    {
      "cell_type": "markdown",
      "source": "**Metric 3: **\n*Average_Sentence_Length* measures the average length of sentences in the book. It could be hard for women to be literate during the Civil War given the social pressure and uncertain social environment, we postulate that Louisa May Alcott may tend to use concise and short sentences to write the book. Therefore, we measured the average sentence length of the Little Women and compare that number with other male English-spoken writers' novels - the Rolling Stones by O. Henry, the Pride and Prejudice by Jane Austen.",
      "metadata": {
        "tags": [],
        "cell_id": "00015-ae8e3c52-2007-4a39-8fd7-f657f464ea45",
        "deepnote_cell_type": "markdown"
      }
    },
    {
      "cell_type": "code",
      "source": "import re",
      "metadata": {
        "tags": [],
        "cell_id": "00047-62ea5e01-4338-422b-a928-6ca1cae0ac72",
        "deepnote_to_be_reexecuted": false,
        "source_hash": "424ea89c",
        "execution_millis": 0,
        "execution_start": 1614851881963,
        "deepnote_cell_type": "code"
      },
      "outputs": [],
      "execution_count": 17
    },
    {
      "cell_type": "code",
      "metadata": {
        "tags": [],
        "cell_id": "00015-f370fd7c-340a-44e8-9d30-06d363a77ef9",
        "deepnote_to_be_reexecuted": false,
        "source_hash": "495ed6dd",
        "execution_millis": 87,
        "execution_start": 1614852438211,
        "deepnote_cell_type": "code"
      },
      "source": "fp = open('pg37106.txt')\ntotal_word = 0\nnum_sentence= 0\nfor line in fp:\n    num_sentence += len(re.split(r'[.!?]+', str(line))) - 1\n    total_word += len(line.split())\nAverage_Sentence_Length = total_word/num_sentence\nAverage_Sentence_Length",
      "execution_count": 21,
      "outputs": [
        {
          "output_type": "execute_result",
          "execution_count": 21,
          "data": {
            "text/plain": "19.262241887905606"
          },
          "metadata": {}
        }
      ]
    },
    {
      "cell_type": "code",
      "metadata": {
        "tags": [],
        "cell_id": "00022-03810383-81ac-4447-b790-6ca53d2a11d0",
        "deepnote_to_be_reexecuted": false,
        "source_hash": "a28b8dee",
        "execution_millis": 74,
        "execution_start": 1614852532309,
        "deepnote_cell_type": "code"
      },
      "source": "if not os.path.exists('3815-0.txt'):\n    !wget https://www.gutenberg.org/files/3815/3815-0.txt #get the Rolling Stones\n\nfp1 = open('3815-0.txt')\ntotal_word1 = 0\nnum_sentence1= 0\nfor line in fp1:\n    num_sentence1 += len(re.split(r'[.!?]+', str(line))) - 1\n    total_word1 += len(line.split())\nAverage_Sentence_Length1 = total_word1/num_sentence1\nAverage_Sentence_Length1",
      "execution_count": 25,
      "outputs": [
        {
          "output_type": "execute_result",
          "execution_count": 25,
          "data": {
            "text/plain": "14.21091811414392"
          },
          "metadata": {}
        }
      ]
    },
    {
      "cell_type": "code",
      "metadata": {
        "tags": [],
        "cell_id": "00023-130e8d7b-962f-4c86-8e9a-fd154c314879",
        "deepnote_to_be_reexecuted": false,
        "source_hash": "c5ad29fb",
        "execution_millis": 6,
        "execution_start": 1614852556219,
        "deepnote_cell_type": "code"
      },
      "source": "if not os.path.exists('1342-0.txt'):\n    !wget https://www.gutenberg.org/files/1342/1342-0.txt #get the Pride and Prejudice\n\nfp2 = open('1342-0.txt')\ntotal_word2 = 0\nnum_sentence2= 0\nfor line in fp2:\n    num_sentence2 += 1\n    total_word2 += len(line.split())\nAverage_Sentence_Length2 = total_word2/num_sentence2\nAverage_Sentence_Length2",
      "execution_count": 26,
      "outputs": [
        {
          "output_type": "execute_result",
          "execution_count": 26,
          "data": {
            "text/plain": "8.555761316872427"
          },
          "metadata": {}
        }
      ]
    },
    {
      "cell_type": "code",
      "metadata": {
        "tags": [],
        "cell_id": "00024-f27a5f39-0c1f-44ff-8e13-a1530b3fcce7",
        "deepnote_to_be_reexecuted": false,
        "source_hash": "6a85a983",
        "execution_millis": 12,
        "execution_start": 1614852587659,
        "deepnote_cell_type": "code"
      },
      "source": "AverageLength = {}\nAverageLength={'the Little Women':Average_Sentence_Length,'the Rolling Stones': Average_Sentence_Length1,'the Pride and Prejudice':Average_Sentence_Length2}\nAverageLength",
      "execution_count": 27,
      "outputs": [
        {
          "output_type": "execute_result",
          "execution_count": 27,
          "data": {
            "text/plain": "{'the Little Women': 19.262241887905606,\n 'the Rolling Stones': 14.21091811414392,\n 'the Pride and Prejudice': 8.555761316872427}"
          },
          "metadata": {}
        }
      ]
    },
    {
      "cell_type": "markdown",
      "source": "**Discussion**\nAs shown in the dictionary - AverageLength, the Little Women has the greatest average length, compared to the Rolling Stones and the Pride and Prejudice. This is a contradiction to our expectation. It indicates inspite of the social pressure and uncertain social environment under the Civil War, Louisa May Alcott didn't compromise to be consice and short; instead, she took the courage to express freely and completely.",
      "metadata": {
        "tags": [],
        "cell_id": "00025-cb1b54a4-3495-4ec1-a25d-055767eb39c1",
        "deepnote_cell_type": "markdown"
      }
    },
    {
      "cell_type": "markdown",
      "source": "# Question 4\n## Programmable Web\nFind a web API that provides some numeric data that interests you. There are tons of data available in the world of finance, sports, environment, travel, etc. A great place to look is at [The Programmable Web](https://www.programmableweb.com/). \n\nExplain which APIs you were interested in, which you tried but couldn't use, e.g. some require a subscription, there may also be services you want to get data from that don't offer an API (e.g. Tiktok).\n\nUse the web API to obtain the data. Most sites are going to provide it in JSON format similar to what we saw. \n\nPrepare examples, similar to what I shared with you in the New York Times API notebook and the Python notebook, that show other students how to use the API you picked, what interesting data you can gather, and use them to answer a simple question. For instance, we answered the question of how many weeks a book stays on the bestseller list in the API notebook.",
      "metadata": {
        "id": "Skt2EJio2oNG",
        "cell_id": "00004-50bf86a7-a607-41db-93fa-8d6a4385f6ec",
        "deepnote_cell_type": "markdown"
      }
    },
    {
      "cell_type": "markdown",
      "source": "The YouTube API first interested us. The data API allows people to integrate their program with YouTube and allow it to perform many of the operations available on the website. The API also supports methods to insert, update, or delete many of these resources. However, when we worked on the API available on the website, we found it in javascript, which is not ideal for us since we were looking for a json API. Therefore, we moved to [lyrics.ovh](https://lyricsovh.docs.apiary.io/), an json based API to for retrieving the lyrics of a song. We also used the [MusicBrainz API](https://musicbrainz.org/doc/MusicBrainz_API), which allows us to search tracks/artists in its database.\n\nThe Microsoft Azure API offers a scalable, multi-cloud API management platform for securing, publishing, and analyzing APIs. However, it needs subscription.",
      "metadata": {
        "tags": [],
        "cell_id": "00017-bfcea7ad-e87b-4f95-8736-0321e5a93b2e",
        "deepnote_cell_type": "markdown"
      }
    },
    {
      "cell_type": "code",
      "source": "!sudo apt-get update\n!sudo apt-get install -y jq",
      "metadata": {
        "tags": [],
        "cell_id": "00057-257a247c-2e11-485e-becf-f7b6300a9207",
        "deepnote_to_be_reexecuted": false,
        "source_hash": "dab2021e",
        "execution_start": 1614870373549,
        "execution_millis": 3290,
        "deepnote_cell_type": "code"
      },
      "outputs": [
        {
          "name": "stdout",
          "text": "Hit:1 http://deb.debian.org/debian buster InRelease\nHit:2 http://deb.debian.org/debian buster-updates InRelease\nHit:3 http://security.debian.org/debian-security buster/updates InRelease\n\n\n\n\njq is already the newest version (1.5+dfsg-2+b1).\n0 upgraded, 0 newly installed, 0 to remove and 0 not upgraded.\n",
          "output_type": "stream"
        }
      ],
      "execution_count": 62
    },
    {
      "cell_type": "code",
      "source": "artist_name = input(\"Enter the artist's name: \").replace(' ', '%20')",
      "metadata": {
        "tags": [],
        "cell_id": "00058-0b1f81eb-8595-4650-a231-52c9d978e486",
        "deepnote_to_be_reexecuted": false,
        "source_hash": "78d4230c",
        "execution_millis": 4979,
        "execution_start": 1614880906346,
        "deepnote_cell_type": "code"
      },
      "outputs": [],
      "execution_count": 203
    },
    {
      "cell_type": "markdown",
      "source": "**Query Parameters:**\n\n1. query\n    * artist\n    * primarytype: Single\n    * country: US\n2. fmt = json\n3. limit = 10\n\nFrom the MusicBrainz database, retrieve 10 entries that satisfy the given parameters(artist, primarytype, country) in json format.",
      "metadata": {
        "tags": [],
        "cell_id": "00059-937a2d6f-d54b-4a66-ba1b-e412b6f6c37e",
        "deepnote_cell_type": "markdown"
      }
    },
    {
      "cell_type": "code",
      "source": "!curl --request GET -o tracks_raw.json \"https://musicbrainz.org/ws/2/recording/?query=artist:'\"'$artist_name'\"'%20AND%20primarytype:Single%20AND%20country:US&fmt=json&limit=10\"",
      "metadata": {
        "tags": [],
        "cell_id": "00058-bb1524e3-f7b6-4977-a7fe-bfddf8d68f24",
        "deepnote_to_be_reexecuted": false,
        "source_hash": "6d021365",
        "execution_millis": 1588,
        "execution_start": 1614880913600,
        "deepnote_cell_type": "code"
      },
      "outputs": [
        {
          "name": "stdout",
          "text": "  % Total    % Received % Xferd  Average Speed   Time    Time     Time  Current\n                                 Dload  Upload   Total   Spent    Left  Speed\n100 77179    0 77179    0     0  92209      0 --:--:-- --:--:-- --:--:-- 92099\n",
          "output_type": "stream"
        }
      ],
      "execution_count": 204
    },
    {
      "cell_type": "code",
      "source": "!jq < tracks_raw.json",
      "metadata": {
        "tags": [],
        "cell_id": "00057-d85a0130-7fa8-4f51-aa30-bf77aa468983",
        "deepnote_to_be_reexecuted": false,
        "source_hash": "c6c07a20",
        "execution_millis": 831,
        "execution_start": 1614880917283,
        "deepnote_cell_type": "code"
      },
      "outputs": [
        {
          "name": "stdout",
          "text": "                  \u001b[0m\u001b[34;1m\"title\"\u001b[0m\u001b[1;39m: \u001b[0m\u001b[0;32m\"Bad Liar\"\u001b[0m\u001b[1;39m,\n                  \u001b[0m\u001b[34;1m\"length\"\u001b[0m\u001b[1;39m: \u001b[0m\u001b[0;39m262173\u001b[0m\u001b[1;39m\n                \u001b[1;39m}\u001b[0m\u001b[1;39m\n              \u001b[1;39m]\u001b[0m\u001b[1;39m,\n              \u001b[0m\u001b[34;1m\"track-count\"\u001b[0m\u001b[1;39m: \u001b[0m\u001b[0;39m20\u001b[0m\u001b[1;39m,\n              \u001b[0m\u001b[34;1m\"track-offset\"\u001b[0m\u001b[1;39m: \u001b[0m\u001b[0;39m3\u001b[0m\u001b[1;39m\n            \u001b[1;39m}\u001b[0m\u001b[1;39m\n          \u001b[1;39m]\u001b[0m\u001b[1;39m\n        \u001b[1;39m}\u001b[0m\u001b[1;39m,\n        \u001b[1;39m{\n          \u001b[0m\u001b[34;1m\"id\"\u001b[0m\u001b[1;39m: \u001b[0m\u001b[0;32m\"9a279da6-ecc2-4370-93dc-3e935673d0f4\"\u001b[0m\u001b[1;39m,\n          \u001b[0m\u001b[34;1m\"status-id\"\u001b[0m\u001b[1;39m: \u001b[0m\u001b[0;32m\"4e304316-386d-3409-af2e-78857eec5cfe\"\u001b[0m\u001b[1;39m,\n          \u001b[0m\u001b[34;1m\"count\"\u001b[0m\u001b[1;39m: \u001b[0m\u001b[0;39m2\u001b[0m\u001b[1;39m,\n          \u001b[0m\u001b[34;1m\"title\"\u001b[0m\u001b[1;39m: \u001b[0m\u001b[0;32m\"Best of 2019: Frühlingshits\"\u001b[0m\u001b[1;39m,\n          \u001b[0m\u001b[34;1m\"status\"\u001b[0m\u001b[1;39m: \u001b[0m\u001b[0;32m\"Official\"\u001b[0m\u001b[1;39m,\n          \u001b[0m\u001b[34;1m\"artist-credit\"\u001b[0m\u001b[1;39m: \u001b[0m\u001b[1;39m[\n            \u001b[1;39m{\n              \u001b[0m\u001b[34;1m\"name\"\u001b[0m\u001b[1;39m: \u001b[0m\u001b[0;32m\"Various Artists\"\u001b[0m\u001b[1;39m,\n              \u001b[0m\u001b[34;1m\"artist\"\u001b[0m\u001b[1;39m: \u001b[0m\u001b[1;39m{\n                \u001b[0m\u001b[34;1m\"id\"\u001b[0m\u001b[1;39m: \u001b[0m\u001b[0;32m\"89ad4ac3-39f7-470e-963a-56509c546377\"\u001b[0m\u001b[1;39m,\n                \u001b[0m\u001b[34;1m\"name\"\u001b[0m\u001b[1;39m: \u001b[0m\u001b[0;32m\"Various Artists\"\u001b[0m\u001b[1;39m,\n                \u001b[0m\u001b[34;1m\"sort-name\"\u001b[0m\u001b[1;39m: \u001b[0m\u001b[0;32m\"Various Artists\"\u001b[0m\u001b[1;39m,\n                \u001b[0m\u001b[34;1m\"disambiguation\"\u001b[0m\u001b[1;39m: \u001b[0m\u001b[0;32m\"add compilations to this artist\"\u001b[0m\u001b[1;39m\n              \u001b[1;39m}\u001b[0m\u001b[1;39m\n            \u001b[1;39m}\u001b[0m\u001b[1;39m\n          \u001b[1;39m]\u001b[0m\u001b[1;39m,\n          \u001b[0m\u001b[34;1m\"release-group\"\u001b[0m\u001b[1;39m: \u001b[0m\u001b[1;39m{\n            \u001b[0m\u001b[34;1m\"id\"\u001b[0m\u001b[1;39m: \u001b[0m\u001b[0;32m\"c357b83f-2051-4994-97bf-e691875cd19c\"\u001b[0m\u001b[1;39m,\n            \u001b[0m\u001b[34;1m\"type-id\"\u001b[0m\u001b[1;39m: \u001b[0m\u001b[0;32m\"dd2a21e1-0c00-3729-a7a0-de60b84eb5d1\"\u001b[0m\u001b[1;39m,\n            \u001b[0m\u001b[34;1m\"primary-type-id\"\u001b[0m\u001b[1;39m: \u001b[0m\u001b[0;32m\"f529b476-6e62-324f-b0aa-1f3e33d313fc\"\u001b[0m\u001b[1;39m,\n            \u001b[0m\u001b[34;1m\"title\"\u001b[0m\u001b[1;39m: \u001b[0m\u001b[0;32m\"Best of 2019: Frühlingshits\"\u001b[0m\u001b[1;39m,\n            \u001b[0m\u001b[34;1m\"primary-type\"\u001b[0m\u001b[1;39m: \u001b[0m\u001b[0;32m\"Album\"\u001b[0m\u001b[1;39m,\n            \u001b[0m\u001b[34;1m\"secondary-types\"\u001b[0m\u001b[1;39m: \u001b[0m\u001b[1;39m[\n              \u001b[0;32m\"Compilation\"\u001b[0m\u001b[1;39m\n            \u001b[1;39m]\u001b[0m\u001b[1;39m,\n            \u001b[0m\u001b[34;1m\"secondary-type-ids\"\u001b[0m\u001b[1;39m: \u001b[0m\u001b[1;39m[\n              \u001b[0;32m\"dd2a21e1-0c00-3729-a7a0-de60b84eb5d1\"\u001b[0m\u001b[1;39m\n            \u001b[1;39m]\u001b[0m\u001b[1;39m\n          \u001b[1;39m}\u001b[0m\u001b[1;39m,\n          \u001b[0m\u001b[34;1m\"track-count\"\u001b[0m\u001b[1;39m: \u001b[0m\u001b[0;39m46\u001b[0m\u001b[1;39m,\n          \u001b[0m\u001b[34;1m\"media\"\u001b[0m\u001b[1;39m: \u001b[0m\u001b[1;39m[\n            \u001b[1;39m{\n              \u001b[0m\u001b[34;1m\"position\"\u001b[0m\u001b[1;39m: \u001b[0m\u001b[0;39m1\u001b[0m\u001b[1;39m,\n              \u001b[0m\u001b[34;1m\"format\"\u001b[0m\u001b[1;39m: \u001b[0m\u001b[0;32m\"CD\"\u001b[0m\u001b[1;39m,\n              \u001b[0m\u001b[34;1m\"track\"\u001b[0m\u001b[1;39m: \u001b[0m\u001b[1;39m[\n                \u001b[1;39m{\n                  \u001b[0m\u001b[34;1m\"id\"\u001b[0m\u001b[1;39m: \u001b[0m\u001b[0;32m\"db10e6b1-d4f8-4482-a927-c99fb29f3073\"\u001b[0m\u001b[1;39m,\n                  \u001b[0m\u001b[34;1m\"number\"\u001b[0m\u001b[1;39m: \u001b[0m\u001b[0;32m\"7\"\u001b[0m\u001b[1;39m,\n                  \u001b[0m\u001b[34;1m\"title\"\u001b[0m\u001b[1;39m: \u001b[0m\u001b[0;32m\"Bad Liar\"\u001b[0m\u001b[1;39m,\n                  \u001b[0m\u001b[34;1m\"length\"\u001b[0m\u001b[1;39m: \u001b[0m\u001b[0;39m260946\u001b[0m\u001b[1;39m\n                \u001b[1;39m}\u001b[0m\u001b[1;39m\n              \u001b[1;39m]\u001b[0m\u001b[1;39m,\n              \u001b[0m\u001b[34;1m\"track-count\"\u001b[0m\u001b[1;39m: \u001b[0m\u001b[0;39m23\u001b[0m\u001b[1;39m,\n              \u001b[0m\u001b[34;1m\"track-offset\"\u001b[0m\u001b[1;39m: \u001b[0m\u001b[0;39m6\u001b[0m\u001b[1;39m\n            \u001b[1;39m}\u001b[0m\u001b[1;39m\n          \u001b[1;39m]\u001b[0m\u001b[1;39m\n        \u001b[1;39m}\u001b[0m\u001b[1;39m,\n        \u001b[1;39m{\n          \u001b[0m\u001b[34;1m\"id\"\u001b[0m\u001b[1;39m: \u001b[0m\u001b[0;32m\"eb5d3c6c-fcc2-46ad-abbd-f2c5e208bf3a\"\u001b[0m\u001b[1;39m,\n          \u001b[0m\u001b[34;1m\"status-id\"\u001b[0m\u001b[1;39m: \u001b[0m\u001b[0;32m\"4e304316-386d-3409-af2e-78857eec5cfe\"\u001b[0m\u001b[1;39m,\n          \u001b[0m\u001b[34;1m\"count\"\u001b[0m\u001b[1;39m: \u001b[0m\u001b[0;39m1\u001b[0m\u001b[1;39m,\n          \u001b[0m\u001b[34;1m\"title\"\u001b[0m\u001b[1;39m: \u001b[0m\u001b[0;32m\"NOW That’s What I Call Music! 70\"\u001b[0m\u001b[1;39m,\n          \u001b[0m\u001b[34;1m\"status\"\u001b[0m\u001b[1;39m: \u001b[0m\u001b[0;32m\"Official\"\u001b[0m\u001b[1;39m,\n          \u001b[0m\u001b[34;1m\"artist-credit\"\u001b[0m\u001b[1;39m: \u001b[0m\u001b[1;39m[\n            \u001b[1;39m{\n              \u001b[0m\u001b[34;1m\"name\"\u001b[0m\u001b[1;39m: \u001b[0m\u001b[0;32m\"Various Artists\"\u001b[0m\u001b[1;39m,\n              \u001b[0m\u001b[34;1m\"artist\"\u001b[0m\u001b[1;39m: \u001b[0m\u001b[1;39m{\n                \u001b[0m\u001b[34;1m\"id\"\u001b[0m\u001b[1;39m: \u001b[0m\u001b[0;32m\"89ad4ac3-39f7-470e-963a-56509c546377\"\u001b[0m\u001b[1;39m,\n                \u001b[0m\u001b[34;1m\"name\"\u001b[0m\u001b[1;39m: \u001b[0m\u001b[0;32m\"Various Artists\"\u001b[0m\u001b[1;39m,\n                \u001b[0m\u001b[34;1m\"sort-name\"\u001b[0m\u001b[1;39m: \u001b[0m\u001b[0;32m\"Various Artists\"\u001b[0m\u001b[1;39m,\n                \u001b[0m\u001b[34;1m\"disambiguation\"\u001b[0m\u001b[1;39m: \u001b[0m\u001b[0;32m\"add compilations to this artist\"\u001b[0m\u001b[1;39m\n              \u001b[1;39m}\u001b[0m\u001b[1;39m\n            \u001b[1;39m}\u001b[0m\u001b[1;39m\n          \u001b[1;39m]\u001b[0m\u001b[1;39m,\n          \u001b[0m\u001b[34;1m\"release-group\"\u001b[0m\u001b[1;39m: \u001b[0m\u001b[1;39m{\n            \u001b[0m\u001b[34;1m\"id\"\u001b[0m\u001b[1;39m: \u001b[0m\u001b[0;32m\"6eeec16a-b334-4120-86aa-296910006623\"\u001b[0m\u001b[1;39m,\n            \u001b[0m\u001b[34;1m\"type-id\"\u001b[0m\u001b[1;39m: \u001b[0m\u001b[0;32m\"dd2a21e1-0c00-3729-a7a0-de60b84eb5d1\"\u001b[0m\u001b[1;39m,\n            \u001b[0m\u001b[34;1m\"primary-type-id\"\u001b[0m\u001b[1;39m: \u001b[0m\u001b[0;32m\"f529b476-6e62-324f-b0aa-1f3e33d313fc\"\u001b[0m\u001b[1;39m,\n            \u001b[0m\u001b[34;1m\"title\"\u001b[0m\u001b[1;39m: \u001b[0m\u001b[0;32m\"NOW That’s What I Call Music! 70\"\u001b[0m\u001b[1;39m,\n            \u001b[0m\u001b[34;1m\"disambiguation\"\u001b[0m\u001b[1;39m: \u001b[0m\u001b[0;32m\"USA\"\u001b[0m\u001b[1;39m,\n            \u001b[0m\u001b[34;1m\"primary-type\"\u001b[0m\u001b[1;39m: \u001b[0m\u001b[0;32m\"Album\"\u001b[0m\u001b[1;39m,\n            \u001b[0m\u001b[34;1m\"secondary-types\"\u001b[0m\u001b[1;39m: \u001b[0m\u001b[1;39m[\n              \u001b[0;32m\"Compilation\"\u001b[0m\u001b[1;39m\n            \u001b[1;39m]\u001b[0m\u001b[1;39m,\n            \u001b[0m\u001b[34;1m\"secondary-type-ids\"\u001b[0m\u001b[1;39m: \u001b[0m\u001b[1;39m[\n              \u001b[0;32m\"dd2a21e1-0c00-3729-a7a0-de60b84eb5d1\"\u001b[0m\u001b[1;39m\n            \u001b[1;39m]\u001b[0m\u001b[1;39m\n          \u001b[1;39m}\u001b[0m\u001b[1;39m,\n          \u001b[0m\u001b[34;1m\"date\"\u001b[0m\u001b[1;39m: \u001b[0m\u001b[0;32m\"2019-05-03\"\u001b[0m\u001b[1;39m,\n          \u001b[0m\u001b[34;1m\"country\"\u001b[0m\u001b[1;39m: \u001b[0m\u001b[0;32m\"US\"\u001b[0m\u001b[1;39m,\n          \u001b[0m\u001b[34;1m\"release-events\"\u001b[0m\u001b[1;39m: \u001b[0m\u001b[1;39m[\n            \u001b[1;39m{\n              \u001b[0m\u001b[34;1m\"date\"\u001b[0m\u001b[1;39m: \u001b[0m\u001b[0;32m\"2019-05-03\"\u001b[0m\u001b[1;39m,\n              \u001b[0m\u001b[34;1m\"area\"\u001b[0m\u001b[1;39m: \u001b[0m\u001b[1;39m{\n                \u001b[0m\u001b[34;1m\"id\"\u001b[0m\u001b[1;39m: \u001b[0m\u001b[0;32m\"489ce91b-6658-3307-9877-795b68554c98\"\u001b[0m\u001b[1;39m,\n                \u001b[0m\u001b[34;1m\"name\"\u001b[0m\u001b[1;39m: \u001b[0m\u001b[0;32m\"United States\"\u001b[0m\u001b[1;39m,\n                \u001b[0m\u001b[34;1m\"sort-name\"\u001b[0m\u001b[1;39m: \u001b[0m\u001b[0;32m\"United States\"\u001b[0m\u001b[1;39m,\n                \u001b[0m\u001b[34;1m\"iso-3166-1-codes\"\u001b[0m\u001b[1;39m: \u001b[0m\u001b[1;39m[\n                  \u001b[0;32m\"US\"\u001b[0m\u001b[1;39m\n                \u001b[1;39m]\u001b[0m\u001b[1;39m\n              \u001b[1;39m}\u001b[0m\u001b[1;39m\n            \u001b[1;39m}\u001b[0m\u001b[1;39m\n          \u001b[1;39m]\u001b[0m\u001b[1;39m,\n          \u001b[0m\u001b[34;1m\"track-count\"\u001b[0m\u001b[1;39m: \u001b[0m\u001b[0;39m21\u001b[0m\u001b[1;39m,\n          \u001b[0m\u001b[34;1m\"media\"\u001b[0m\u001b[1;39m: \u001b[0m\u001b[1;39m[\n            \u001b[1;39m{\n              \u001b[0m\u001b[34;1m\"position\"\u001b[0m\u001b[1;39m: \u001b[0m\u001b[0;39m1\u001b[0m\u001b[1;39m,\n              \u001b[0m\u001b[34;1m\"format\"\u001b[0m\u001b[1;39m: \u001b[0m\u001b[0;32m\"Digital Media\"\u001b[0m\u001b[1;39m,\n              \u001b[0m\u001b[34;1m\"track\"\u001b[0m\u001b[1;39m: \u001b[0m\u001b[1;39m[\n                \u001b[1;39m{\n                  \u001b[0m\u001b[34;1m\"id\"\u001b[0m\u001b[1;39m: \u001b[0m\u001b[0;32m\"f97ce93f-e8c0-436d-89c1-3751b5195ed2\"\u001b[0m\u001b[1;39m,\n                  \u001b[0m\u001b[34;1m\"number\"\u001b[0m\u001b[1;39m: \u001b[0m\u001b[0;32m\"13\"\u001b[0m\u001b[1;39m,\n                  \u001b[0m\u001b[34;1m\"title\"\u001b[0m\u001b[1;39m: \u001b[0m\u001b[0;32m\"Bad Liar\"\u001b[0m\u001b[1;39m,\n                  \u001b[0m\u001b[34;1m\"length\"\u001b[0m\u001b[1;39m: \u001b[0m\u001b[0;39m258480\u001b[0m\u001b[1;39m\n                \u001b[1;39m}\u001b[0m\u001b[1;39m\n              \u001b[1;39m]\u001b[0m\u001b[1;39m,\n              \u001b[0m\u001b[34;1m\"track-count\"\u001b[0m\u001b[1;39m: \u001b[0m\u001b[0;39m21\u001b[0m\u001b[1;39m,\n              \u001b[0m\u001b[34;1m\"track-offset\"\u001b[0m\u001b[1;39m: \u001b[0m\u001b[0;39m12\u001b[0m\u001b[1;39m\n            \u001b[1;39m}\u001b[0m\u001b[1;39m\n          \u001b[1;39m]\u001b[0m\u001b[1;39m\n        \u001b[1;39m}\u001b[0m\u001b[1;39m,\n        \u001b[1;39m{\n          \u001b[0m\u001b[34;1m\"id\"\u001b[0m\u001b[1;39m: \u001b[0m\u001b[0;32m\"2abc39bb-6f5e-432b-a431-9cf5b6758744\"\u001b[0m\u001b[1;39m,\n          \u001b[0m\u001b[34;1m\"status-id\"\u001b[0m\u001b[1;39m: \u001b[0m\u001b[0;32m\"4e304316-386d-3409-af2e-78857eec5cfe\"\u001b[0m\u001b[1;39m,\n          \u001b[0m\u001b[34;1m\"count\"\u001b[0m\u001b[1;39m: \u001b[0m\u001b[0;39m1\u001b[0m\u001b[1;39m,\n          \u001b[0m\u001b[34;1m\"title\"\u001b[0m\u001b[1;39m: \u001b[0m\u001b[0;32m\"Origins (international deluxe)\"\u001b[0m\u001b[1;39m,\n          \u001b[0m\u001b[34;1m\"status\"\u001b[0m\u001b[1;39m: \u001b[0m\u001b[0;32m\"Official\"\u001b[0m\u001b[1;39m,\n          \u001b[0m\u001b[34;1m\"release-group\"\u001b[0m\u001b[1;39m: \u001b[0m\u001b[1;39m{\n            \u001b[0m\u001b[34;1m\"id\"\u001b[0m\u001b[1;39m: \u001b[0m\u001b[0;32m\"042160ca-6094-42b4-8399-9e0141fa9515\"\u001b[0m\u001b[1;39m,\n            \u001b[0m\u001b[34;1m\"type-id\"\u001b[0m\u001b[1;39m: \u001b[0m\u001b[0;32m\"f529b476-6e62-324f-b0aa-1f3e33d313fc\"\u001b[0m\u001b[1;39m,\n            \u001b[0m\u001b[34;1m\"primary-type-id\"\u001b[0m\u001b[1;39m: \u001b[0m\u001b[0;32m\"f529b476-6e62-324f-b0aa-1f3e33d313fc\"\u001b[0m\u001b[1;39m,\n            \u001b[0m\u001b[34;1m\"title\"\u001b[0m\u001b[1;39m: \u001b[0m\u001b[0;32m\"Origins\"\u001b[0m\u001b[1;39m,\n            \u001b[0m\u001b[34;1m\"primary-type\"\u001b[0m\u001b[1;39m: \u001b[0m\u001b[0;32m\"Album\"\u001b[0m\u001b[1;39m\n          \u001b[1;39m}\u001b[0m\u001b[1;39m,\n          \u001b[0m\u001b[34;1m\"date\"\u001b[0m\u001b[1;39m: \u001b[0m\u001b[0;32m\"2018-11-09\"\u001b[0m\u001b[1;39m,\n          \u001b[0m\u001b[34;1m\"country\"\u001b[0m\u001b[1;39m: \u001b[0m\u001b[0;32m\"FR\"\u001b[0m\u001b[1;39m,\n          \u001b[0m\u001b[34;1m\"release-events\"\u001b[0m\u001b[1;39m: \u001b[0m\u001b[1;39m[\n            \u001b[1;39m{\n              \u001b[0m\u001b[34;1m\"date\"\u001b[0m\u001b[1;39m: \u001b[0m\u001b[0;32m\"2018-11-09\"\u001b[0m\u001b[1;39m,\n              \u001b[0m\u001b[34;1m\"area\"\u001b[0m\u001b[1;39m: \u001b[0m\u001b[1;39m{\n                \u001b[0m\u001b[34;1m\"id\"\u001b[0m\u001b[1;39m: \u001b[0m\u001b[0;32m\"08310658-51eb-3801-80de-5a0739207115\"\u001b[0m\u001b[1;39m,\n                \u001b[0m\u001b[34;1m\"name\"\u001b[0m\u001b[1;39m: \u001b[0m\u001b[0;32m\"France\"\u001b[0m\u001b[1;39m,\n                \u001b[0m\u001b[34;1m\"sort-name\"\u001b[0m\u001b[1;39m: \u001b[0m\u001b[0;32m\"France\"\u001b[0m\u001b[1;39m,\n                \u001b[0m\u001b[34;1m\"iso-3166-1-codes\"\u001b[0m\u001b[1;39m: \u001b[0m\u001b[1;39m[\n                  \u001b[0;32m\"FR\"\u001b[0m\u001b[1;39m\n                \u001b[1;39m]\u001b[0m\u001b[1;39m\n              \u001b[1;39m}\u001b[0m\u001b[1;39m\n            \u001b[1;39m}\u001b[0m\u001b[1;39m,\n            \u001b[1;39m{\n              \u001b[0m\u001b[34;1m\"date\"\u001b[0m\u001b[1;39m: \u001b[0m\u001b[0;32m\"2018-11-09\"\u001b[0m\u001b[1;39m,\n              \u001b[0m\u001b[34;1m\"area\"\u001b[0m\u001b[1;39m: \u001b[0m\u001b[1;39m{\n                \u001b[0m\u001b[34;1m\"id\"\u001b[0m\u001b[1;39m: \u001b[0m\u001b[0;32m\"85752fda-13c4-31a3-bee5-0e5cb1f51dad\"\u001b[0m\u001b[1;39m,\n                \u001b[0m\u001b[34;1m\"name\"\u001b[0m\u001b[1;39m: \u001b[0m\u001b[0;32m\"Germany\"\u001b[0m\u001b[1;39m,\n                \u001b[0m\u001b[34;1m\"sort-name\"\u001b[0m\u001b[1;39m: \u001b[0m\u001b[0;32m\"Germany\"\u001b[0m\u001b[1;39m,\n                \u001b[0m\u001b[34;1m\"iso-3166-1-codes\"\u001b[0m\u001b[1;39m: \u001b[0m\u001b[1;39m[\n                  \u001b[0;32m\"DE\"\u001b[0m\u001b[1;39m\n                \u001b[1;39m]\u001b[0m\u001b[1;39m\n              \u001b[1;39m}\u001b[0m\u001b[1;39m\n            \u001b[1;39m}\u001b[0m\u001b[1;39m\n          \u001b[1;39m]\u001b[0m\u001b[1;39m,\n          \u001b[0m\u001b[34;1m\"track-count\"\u001b[0m\u001b[1;39m: \u001b[0m\u001b[0;39m16\u001b[0m\u001b[1;39m,\n          \u001b[0m\u001b[34;1m\"media\"\u001b[0m\u001b[1;39m: \u001b[0m\u001b[1;39m[\n            \u001b[1;39m{\n              \u001b[0m\u001b[34;1m\"position\"\u001b[0m\u001b[1;39m: \u001b[0m\u001b[0;39m1\u001b[0m\u001b[1;39m,\n              \u001b[0m\u001b[34;1m\"format\"\u001b[0m\u001b[1;39m: \u001b[0m\u001b[0;32m\"CD\"\u001b[0m\u001b[1;39m,\n              \u001b[0m\u001b[34;1m\"track\"\u001b[0m\u001b[1;39m: \u001b[0m\u001b[1;39m[\n                \u001b[1;39m{\n                  \u001b[0m\u001b[34;1m\"id\"\u001b[0m\u001b[1;39m: \u001b[0m\u001b[0;32m\"41ac6db7-67ad-4dc2-8c21-ebd884200505\"\u001b[0m\u001b[1;39m,\n                  \u001b[0m\u001b[34;1m\"number\"\u001b[0m\u001b[1;39m: \u001b[0m\u001b[0;32m\"5\"\u001b[0m\u001b[1;39m,\n                  \u001b[0m\u001b[34;1m\"title\"\u001b[0m\u001b[1;39m: \u001b[0m\u001b[0;32m\"Bad Liar\"\u001b[0m\u001b[1;39m,\n                  \u001b[0m\u001b[34;1m\"length\"\u001b[0m\u001b[1;39m: \u001b[0m\u001b[0;39m261000\u001b[0m\u001b[1;39m\n                \u001b[1;39m}\u001b[0m\u001b[1;39m\n              \u001b[1;39m]\u001b[0m\u001b[1;39m,\n              \u001b[0m\u001b[34;1m\"track-count\"\u001b[0m\u001b[1;39m: \u001b[0m\u001b[0;39m16\u001b[0m\u001b[1;39m,\n              \u001b[0m\u001b[34;1m\"track-offset\"\u001b[0m\u001b[1;39m: \u001b[0m\u001b[0;39m4\u001b[0m\u001b[1;39m\n            \u001b[1;39m}\u001b[0m\u001b[1;39m\n          \u001b[1;39m]\u001b[0m\u001b[1;39m\n        \u001b[1;39m}\u001b[0m\u001b[1;39m,\n        \u001b[1;39m{\n          \u001b[0m\u001b[34;1m\"id\"\u001b[0m\u001b[1;39m: \u001b[0m\u001b[0;32m\"87749c01-e3d7-4491-9e57-c6564f4baebb\"\u001b[0m\u001b[1;39m,\n          \u001b[0m\u001b[34;1m\"status-id\"\u001b[0m\u001b[1;39m: \u001b[0m\u001b[0;32m\"4e304316-386d-3409-af2e-78857eec5cfe\"\u001b[0m\u001b[1;39m,\n          \u001b[0m\u001b[34;1m\"count\"\u001b[0m\u001b[1;39m: \u001b[0m\u001b[0;39m1\u001b[0m\u001b[1;39m,\n          \u001b[0m\u001b[34;1m\"title\"\u001b[0m\u001b[1;39m: \u001b[0m\u001b[0;32m\"Energy NRJ Hits 2019\"\u001b[0m\u001b[1;39m,\n          \u001b[0m\u001b[34;1m\"status\"\u001b[0m\u001b[1;39m: \u001b[0m\u001b[0;32m\"Official\"\u001b[0m\u001b[1;39m,\n          \u001b[0m\u001b[34;1m\"artist-credit\"\u001b[0m\u001b[1;39m: \u001b[0m\u001b[1;39m[\n            \u001b[1;39m{\n              \u001b[0m\u001b[34;1m\"name\"\u001b[0m\u001b[1;39m: \u001b[0m\u001b[0;32m\"Various Artists\"\u001b[0m\u001b[1;39m,\n              \u001b[0m\u001b[34;1m\"artist\"\u001b[0m\u001b[1;39m: \u001b[0m\u001b[1;39m{\n                \u001b[0m\u001b[34;1m\"id\"\u001b[0m\u001b[1;39m: \u001b[0m\u001b[0;32m\"89ad4ac3-39f7-470e-963a-56509c546377\"\u001b[0m\u001b[1;39m,\n                \u001b[0m\u001b[34;1m\"name\"\u001b[0m\u001b[1;39m: \u001b[0m\u001b[0;32m\"Various Artists\"\u001b[0m\u001b[1;39m,\n                \u001b[0m\u001b[34;1m\"sort-name\"\u001b[0m\u001b[1;39m: \u001b[0m\u001b[0;32m\"Various Artists\"\u001b[0m\u001b[1;39m,\n                \u001b[0m\u001b[34;1m\"disambiguation\"\u001b[0m\u001b[1;39m: \u001b[0m\u001b[0;32m\"add compilations to this artist\"\u001b[0m\u001b[1;39m\n              \u001b[1;39m}\u001b[0m\u001b[1;39m\n            \u001b[1;39m}\u001b[0m\u001b[1;39m\n          \u001b[1;39m]\u001b[0m\u001b[1;39m,\n          \u001b[0m\u001b[34;1m\"release-group\"\u001b[0m\u001b[1;39m: \u001b[0m\u001b[1;39m{\n            \u001b[0m\u001b[34;1m\"id\"\u001b[0m\u001b[1;39m: \u001b[0m\u001b[0;32m\"187db0f9-fe7c-4c59-8660-e257d2a7702d\"\u001b[0m\u001b[1;39m,\n            \u001b[0m\u001b[34;1m\"type-id\"\u001b[0m\u001b[1;39m: \u001b[0m\u001b[0;32m\"dd2a21e1-0c00-3729-a7a0-de60b84eb5d1\"\u001b[0m\u001b[1;39m,\n            \u001b[0m\u001b[34;1m\"primary-type-id\"\u001b[0m\u001b[1;39m: \u001b[0m\u001b[0;32m\"f529b476-6e62-324f-b0aa-1f3e33d313fc\"\u001b[0m\u001b[1;39m,\n            \u001b[0m\u001b[34;1m\"title\"\u001b[0m\u001b[1;39m: \u001b[0m\u001b[0;32m\"Energy NRJ Hits 2019\"\u001b[0m\u001b[1;39m,\n            \u001b[0m\u001b[34;1m\"primary-type\"\u001b[0m\u001b[1;39m: \u001b[0m\u001b[0;32m\"Album\"\u001b[0m\u001b[1;39m,\n            \u001b[0m\u001b[34;1m\"secondary-types\"\u001b[0m\u001b[1;39m: \u001b[0m\u001b[1;39m[\n              \u001b[0;32m\"Compilation\"\u001b[0m\u001b[1;39m\n            \u001b[1;39m]\u001b[0m\u001b[1;39m,\n            \u001b[0m\u001b[34;1m\"secondary-type-ids\"\u001b[0m\u001b[1;39m: \u001b[0m\u001b[1;39m[\n              \u001b[0;32m\"dd2a21e1-0c00-3729-a7a0-de60b84eb5d1\"\u001b[0m\u001b[1;39m\n            \u001b[1;39m]\u001b[0m\u001b[1;39m\n          \u001b[1;39m}\u001b[0m\u001b[1;39m,\n          \u001b[0m\u001b[34;1m\"date\"\u001b[0m\u001b[1;39m: \u001b[0m\u001b[0;32m\"2019-05-10\"\u001b[0m\u001b[1;39m,\n          \u001b[0m\u001b[34;1m\"country\"\u001b[0m\u001b[1;39m: \u001b[0m\u001b[0;32m\"FR\"\u001b[0m\u001b[1;39m,\n          \u001b[0m\u001b[34;1m\"release-events\"\u001b[0m\u001b[1;39m: \u001b[0m\u001b[1;39m[\n            \u001b[1;39m{\n              \u001b[0m\u001b[34;1m\"date\"\u001b[0m\u001b[1;39m: \u001b[0m\u001b[0;32m\"2019-05-10\"\u001b[0m\u001b[1;39m,\n              \u001b[0m\u001b[34;1m\"area\"\u001b[0m\u001b[1;39m: \u001b[0m\u001b[1;39m{\n                \u001b[0m\u001b[34;1m\"id\"\u001b[0m\u001b[1;39m: \u001b[0m\u001b[0;32m\"08310658-51eb-3801-80de-5a0739207115\"\u001b[0m\u001b[1;39m,\n                \u001b[0m\u001b[34;1m\"name\"\u001b[0m\u001b[1;39m: \u001b[0m\u001b[0;32m\"France\"\u001b[0m\u001b[1;39m,\n                \u001b[0m\u001b[34;1m\"sort-name\"\u001b[0m\u001b[1;39m: \u001b[0m\u001b[0;32m\"France\"\u001b[0m\u001b[1;39m,\n                \u001b[0m\u001b[34;1m\"iso-3166-1-codes\"\u001b[0m\u001b[1;39m: \u001b[0m\u001b[1;39m[\n                  \u001b[0;32m\"FR\"\u001b[0m\u001b[1;39m\n                \u001b[1;39m]\u001b[0m\u001b[1;39m\n              \u001b[1;39m}\u001b[0m\u001b[1;39m\n            \u001b[1;39m}\u001b[0m\u001b[1;39m\n          \u001b[1;39m]\u001b[0m\u001b[1;39m,\n          \u001b[0m\u001b[34;1m\"track-count\"\u001b[0m\u001b[1;39m: \u001b[0m\u001b[0;39m44\u001b[0m\u001b[1;39m,\n          \u001b[0m\u001b[34;1m\"media\"\u001b[0m\u001b[1;39m: \u001b[0m\u001b[1;39m[\n            \u001b[1;39m{\n              \u001b[0m\u001b[34;1m\"position\"\u001b[0m\u001b[1;39m: \u001b[0m\u001b[0;39m1\u001b[0m\u001b[1;39m,\n              \u001b[0m\u001b[34;1m\"format\"\u001b[0m\u001b[1;39m: \u001b[0m\u001b[0;32m\"Digital Media\"\u001b[0m\u001b[1;39m,\n              \u001b[0m\u001b[34;1m\"track\"\u001b[0m\u001b[1;39m: \u001b[0m\u001b[1;39m[\n                \u001b[1;39m{\n                  \u001b[0m\u001b[34;1m\"id\"\u001b[0m\u001b[1;39m: \u001b[0m\u001b[0;32m\"b92794ad-f878-4ca5-97e6-111090e15607\"\u001b[0m\u001b[1;39m,\n                  \u001b[0m\u001b[34;1m\"number\"\u001b[0m\u001b[1;39m: \u001b[0m\u001b[0;32m\"23\"\u001b[0m\u001b[1;39m,\n                  \u001b[0m\u001b[34;1m\"title\"\u001b[0m\u001b[1;39m: \u001b[0m\u001b[0;32m\"Bad Liar\"\u001b[0m\u001b[1;39m,\n                  \u001b[0m\u001b[34;1m\"length\"\u001b[0m\u001b[1;39m: \u001b[0m\u001b[0;39m261000\u001b[0m\u001b[1;39m\n                \u001b[1;39m}\u001b[0m\u001b[1;39m\n              \u001b[1;39m]\u001b[0m\u001b[1;39m,\n              \u001b[0m\u001b[34;1m\"track-count\"\u001b[0m\u001b[1;39m: \u001b[0m\u001b[0;39m44\u001b[0m\u001b[1;39m,\n              \u001b[0m\u001b[34;1m\"track-offset\"\u001b[0m\u001b[1;39m: \u001b[0m\u001b[0;39m22\u001b[0m\u001b[1;39m\n            \u001b[1;39m}\u001b[0m\u001b[1;39m\n          \u001b[1;39m]\u001b[0m\u001b[1;39m\n        \u001b[1;39m}\u001b[0m\u001b[1;39m,\n        \u001b[1;39m{\n          \u001b[0m\u001b[34;1m\"id\"\u001b[0m\u001b[1;39m: \u001b[0m\u001b[0;32m\"8a23659e-8ddf-453b-aa9c-314f1e91c668\"\u001b[0m\u001b[1;39m,\n          \u001b[0m\u001b[34;1m\"status-id\"\u001b[0m\u001b[1;39m: \u001b[0m\u001b[0;32m\"4e304316-386d-3409-af2e-78857eec5cfe\"\u001b[0m\u001b[1;39m,\n          \u001b[0m\u001b[34;1m\"count\"\u001b[0m\u001b[1;39m: \u001b[0m\u001b[0;39m2\u001b[0m\u001b[1;39m,\n          \u001b[0m\u001b[34;1m\"title\"\u001b[0m\u001b[1;39m: \u001b[0m\u001b[0;32m\"Bravo Hits Wiosna 2019\"\u001b[0m\u001b[1;39m,\n          \u001b[0m\u001b[34;1m\"status\"\u001b[0m\u001b[1;39m: \u001b[0m\u001b[0;32m\"Official\"\u001b[0m\u001b[1;39m,\n          \u001b[0m\u001b[34;1m\"artist-credit\"\u001b[0m\u001b[1;39m: \u001b[0m\u001b[1;39m[\n            \u001b[1;39m{\n              \u001b[0m\u001b[34;1m\"name\"\u001b[0m\u001b[1;39m: \u001b[0m\u001b[0;32m\"Various Artists\"\u001b[0m\u001b[1;39m,\n              \u001b[0m\u001b[34;1m\"artist\"\u001b[0m\u001b[1;39m: \u001b[0m\u001b[1;39m{\n                \u001b[0m\u001b[34;1m\"id\"\u001b[0m\u001b[1;39m: \u001b[0m\u001b[0;32m\"89ad4ac3-39f7-470e-963a-56509c546377\"\u001b[0m\u001b[1;39m,\n                \u001b[0m\u001b[34;1m\"name\"\u001b[0m\u001b[1;39m: \u001b[0m\u001b[0;32m\"Various Artists\"\u001b[0m\u001b[1;39m,\n                \u001b[0m\u001b[34;1m\"sort-name\"\u001b[0m\u001b[1;39m: \u001b[0m\u001b[0;32m\"Various Artists\"\u001b[0m\u001b[1;39m,\n                \u001b[0m\u001b[34;1m\"disambiguation\"\u001b[0m\u001b[1;39m: \u001b[0m\u001b[0;32m\"add compilations to this artist\"\u001b[0m\u001b[1;39m\n              \u001b[1;39m}\u001b[0m\u001b[1;39m\n            \u001b[1;39m}\u001b[0m\u001b[1;39m\n          \u001b[1;39m]\u001b[0m\u001b[1;39m,\n          \u001b[0m\u001b[34;1m\"release-group\"\u001b[0m\u001b[1;39m: \u001b[0m\u001b[1;39m{\n            \u001b[0m\u001b[34;1m\"id\"\u001b[0m\u001b[1;39m: \u001b[0m\u001b[0;32m\"02837d5c-9e87-4206-b40f-7f8b22e84fd2\"\u001b[0m\u001b[1;39m,\n            \u001b[0m\u001b[34;1m\"type-id\"\u001b[0m\u001b[1;39m: \u001b[0m\u001b[0;32m\"dd2a21e1-0c00-3729-a7a0-de60b84eb5d1\"\u001b[0m\u001b[1;39m,\n            \u001b[0m\u001b[34;1m\"primary-type-id\"\u001b[0m\u001b[1;39m: \u001b[0m\u001b[0;32m\"f529b476-6e62-324f-b0aa-1f3e33d313fc\"\u001b[0m\u001b[1;39m,\n            \u001b[0m\u001b[34;1m\"title\"\u001b[0m\u001b[1;39m: \u001b[0m\u001b[0;32m\"Bravo Hits Wiosna 2019\"\u001b[0m\u001b[1;39m,\n            \u001b[0m\u001b[34;1m\"primary-type\"\u001b[0m\u001b[1;39m: \u001b[0m\u001b[0;32m\"Album\"\u001b[0m\u001b[1;39m,\n            \u001b[0m\u001b[34;1m\"secondary-types\"\u001b[0m\u001b[1;39m: \u001b[0m\u001b[1;39m[\n              \u001b[0;32m\"Compilation\"\u001b[0m\u001b[1;39m\n            \u001b[1;39m]\u001b[0m\u001b[1;39m,\n            \u001b[0m\u001b[34;1m\"secondary-type-ids\"\u001b[0m\u001b[1;39m: \u001b[0m\u001b[1;39m[\n              \u001b[0;32m\"dd2a21e1-0c00-3729-a7a0-de60b84eb5d1\"\u001b[0m\u001b[1;39m\n            \u001b[1;39m]\u001b[0m\u001b[1;39m\n          \u001b[1;39m}\u001b[0m\u001b[1;39m,\n          \u001b[0m\u001b[34;1m\"date\"\u001b[0m\u001b[1;39m: \u001b[0m\u001b[0;32m\"2019-03-08\"\u001b[0m\u001b[1;39m,\n          \u001b[0m\u001b[34;1m\"country\"\u001b[0m\u001b[1;39m: \u001b[0m\u001b[0;32m\"PL\"\u001b[0m\u001b[1;39m,\n          \u001b[0m\u001b[34;1m\"release-events\"\u001b[0m\u001b[1;39m: \u001b[0m\u001b[1;39m[\n            \u001b[1;39m{\n              \u001b[0m\u001b[34;1m\"date\"\u001b[0m\u001b[1;39m: \u001b[0m\u001b[0;32m\"2019-03-08\"\u001b[0m\u001b[1;39m,\n              \u001b[0m\u001b[34;1m\"area\"\u001b[0m\u001b[1;39m: \u001b[0m\u001b[1;39m{\n                \u001b[0m\u001b[34;1m\"id\"\u001b[0m\u001b[1;39m: \u001b[0m\u001b[0;32m\"dd7f80c8-f017-3d01-8608-2a8c9c32b954\"\u001b[0m\u001b[1;39m,\n                \u001b[0m\u001b[34;1m\"name\"\u001b[0m\u001b[1;39m: \u001b[0m\u001b[0;32m\"Poland\"\u001b[0m\u001b[1;39m,\n                \u001b[0m\u001b[34;1m\"sort-name\"\u001b[0m\u001b[1;39m: \u001b[0m\u001b[0;32m\"Poland\"\u001b[0m\u001b[1;39m,\n                \u001b[0m\u001b[34;1m\"iso-3166-1-codes\"\u001b[0m\u001b[1;39m: \u001b[0m\u001b[1;39m[\n                  \u001b[0;32m\"PL\"\u001b[0m\u001b[1;39m\n                \u001b[1;39m]\u001b[0m\u001b[1;39m\n              \u001b[1;39m}\u001b[0m\u001b[1;39m\n            \u001b[1;39m}\u001b[0m\u001b[1;39m\n          \u001b[1;39m]\u001b[0m\u001b[1;39m,\n          \u001b[0m\u001b[34;1m\"track-count\"\u001b[0m\u001b[1;39m: \u001b[0m\u001b[0;39m40\u001b[0m\u001b[1;39m,\n          \u001b[0m\u001b[34;1m\"media\"\u001b[0m\u001b[1;39m: \u001b[0m\u001b[1;39m[\n            \u001b[1;39m{\n              \u001b[0m\u001b[34;1m\"position\"\u001b[0m\u001b[1;39m: \u001b[0m\u001b[0;39m1\u001b[0m\u001b[1;39m,\n              \u001b[0m\u001b[34;1m\"format\"\u001b[0m\u001b[1;39m: \u001b[0m\u001b[0;32m\"CD\"\u001b[0m\u001b[1;39m,\n              \u001b[0m\u001b[34;1m\"track\"\u001b[0m\u001b[1;39m: \u001b[0m\u001b[1;39m[\n                \u001b[1;39m{\n                  \u001b[0m\u001b[34;1m\"id\"\u001b[0m\u001b[1;39m: \u001b[0m\u001b[0;32m\"3025c2a7-6b37-4bb3-8d51-c0b2121aa043\"\u001b[0m\u001b[1;39m,\n                  \u001b[0m\u001b[34;1m\"number\"\u001b[0m\u001b[1;39m: \u001b[0m\u001b[0;32m\"12\"\u001b[0m\u001b[1;39m,\n                  \u001b[0m\u001b[34;1m\"title\"\u001b[0m\u001b[1;39m: \u001b[0m\u001b[0;32m\"Bad Liar\"\u001b[0m\u001b[1;39m,\n                  \u001b[0m\u001b[34;1m\"length\"\u001b[0m\u001b[1;39m: \u001b[0m\u001b[0;39m262000\u001b[0m\u001b[1;39m\n                \u001b[1;39m}\u001b[0m\u001b[1;39m\n              \u001b[1;39m]\u001b[0m\u001b[1;39m,\n              \u001b[0m\u001b[34;1m\"track-count\"\u001b[0m\u001b[1;39m: \u001b[0m\u001b[0;39m20\u001b[0m\u001b[1;39m,\n              \u001b[0m\u001b[34;1m\"track-offset\"\u001b[0m\u001b[1;39m: \u001b[0m\u001b[0;39m11\u001b[0m\u001b[1;39m\n            \u001b[1;39m}\u001b[0m\u001b[1;39m\n          \u001b[1;39m]\u001b[0m\u001b[1;39m\n        \u001b[1;39m}\u001b[0m\u001b[1;39m,\n        \u001b[1;39m{\n          \u001b[0m\u001b[34;1m\"id\"\u001b[0m\u001b[1;39m: \u001b[0m\u001b[0;32m\"350d30da-fb90-45f6-9fdf-70c2fcb6889e\"\u001b[0m\u001b[1;39m,\n          \u001b[0m\u001b[34;1m\"status-id\"\u001b[0m\u001b[1;39m: \u001b[0m\u001b[0;32m\"4e304316-386d-3409-af2e-78857eec5cfe\"\u001b[0m\u001b[1;39m,\n          \u001b[0m\u001b[34;1m\"count\"\u001b[0m\u001b[1;39m: \u001b[0m\u001b[0;39m2\u001b[0m\u001b[1;39m,\n          \u001b[0m\u001b[34;1m\"title\"\u001b[0m\u001b[1;39m: \u001b[0m\u001b[0;32m\"Bravo Hits 104\"\u001b[0m\u001b[1;39m,\n          \u001b[0m\u001b[34;1m\"status\"\u001b[0m\u001b[1;39m: \u001b[0m\u001b[0;32m\"Official\"\u001b[0m\u001b[1;39m,\n          \u001b[0m\u001b[34;1m\"artist-credit\"\u001b[0m\u001b[1;39m: \u001b[0m\u001b[1;39m[\n            \u001b[1;39m{\n              \u001b[0m\u001b[34;1m\"name\"\u001b[0m\u001b[1;39m: \u001b[0m\u001b[0;32m\"Various Artists\"\u001b[0m\u001b[1;39m,\n              \u001b[0m\u001b[34;1m\"artist\"\u001b[0m\u001b[1;39m: \u001b[0m\u001b[1;39m{\n                \u001b[0m\u001b[34;1m\"id\"\u001b[0m\u001b[1;39m: \u001b[0m\u001b[0;32m\"89ad4ac3-39f7-470e-963a-56509c546377\"\u001b[0m\u001b[1;39m,\n                \u001b[0m\u001b[34;1m\"name\"\u001b[0m\u001b[1;39m: \u001b[0m\u001b[0;32m\"Various Artists\"\u001b[0m\u001b[1;39m,\n                \u001b[0m\u001b[34;1m\"sort-name\"\u001b[0m\u001b[1;39m: \u001b[0m\u001b[0;32m\"Various Artists\"\u001b[0m\u001b[1;39m,\n                \u001b[0m\u001b[34;1m\"disambiguation\"\u001b[0m\u001b[1;39m: \u001b[0m\u001b[0;32m\"add compilations to this artist\"\u001b[0m\u001b[1;39m\n              \u001b[1;39m}\u001b[0m\u001b[1;39m\n            \u001b[1;39m}\u001b[0m\u001b[1;39m\n          \u001b[1;39m]\u001b[0m\u001b[1;39m,\n          \u001b[0m\u001b[34;1m\"release-group\"\u001b[0m\u001b[1;39m: \u001b[0m\u001b[1;39m{\n            \u001b[0m\u001b[34;1m\"id\"\u001b[0m\u001b[1;39m: \u001b[0m\u001b[0;32m\"9ae1beb3-4d10-409a-b0a5-32410d088c1f\"\u001b[0m\u001b[1;39m,\n            \u001b[0m\u001b[34;1m\"type-id\"\u001b[0m\u001b[1;39m: \u001b[0m\u001b[0;32m\"dd2a21e1-0c00-3729-a7a0-de60b84eb5d1\"\u001b[0m\u001b[1;39m,\n            \u001b[0m\u001b[34;1m\"primary-type-id\"\u001b[0m\u001b[1;39m: \u001b[0m\u001b[0;32m\"f529b476-6e62-324f-b0aa-1f3e33d313fc\"\u001b[0m\u001b[1;39m,\n            \u001b[0m\u001b[34;1m\"title\"\u001b[0m\u001b[1;39m: \u001b[0m\u001b[0;32m\"Bravo Hits 104\"\u001b[0m\u001b[1;39m,\n            \u001b[0m\u001b[34;1m\"primary-type\"\u001b[0m\u001b[1;39m: \u001b[0m\u001b[0;32m\"Album\"\u001b[0m\u001b[1;39m,\n            \u001b[0m\u001b[34;1m\"secondary-types\"\u001b[0m\u001b[1;39m: \u001b[0m\u001b[1;39m[\n              \u001b[0;32m\"Compilation\"\u001b[0m\u001b[1;39m\n            \u001b[1;39m]\u001b[0m\u001b[1;39m,\n            \u001b[0m\u001b[34;1m\"secondary-type-ids\"\u001b[0m\u001b[1;39m: \u001b[0m\u001b[1;39m[\n              \u001b[0;32m\"dd2a21e1-0c00-3729-a7a0-de60b84eb5d1\"\u001b[0m\u001b[1;39m\n            \u001b[1;39m]\u001b[0m\u001b[1;39m\n          \u001b[1;39m}\u001b[0m\u001b[1;39m,\n          \u001b[0m\u001b[34;1m\"date\"\u001b[0m\u001b[1;39m: \u001b[0m\u001b[0;32m\"2019-02-15\"\u001b[0m\u001b[1;39m,\n          \u001b[0m\u001b[34;1m\"country\"\u001b[0m\u001b[1;39m: \u001b[0m\u001b[0;32m\"DE\"\u001b[0m\u001b[1;39m,\n          \u001b[0m\u001b[34;1m\"release-events\"\u001b[0m\u001b[1;39m: \u001b[0m\u001b[1;39m[\n            \u001b[1;39m{\n              \u001b[0m\u001b[34;1m\"date\"\u001b[0m\u001b[1;39m: \u001b[0m\u001b[0;32m\"2019-02-15\"\u001b[0m\u001b[1;39m,\n              \u001b[0m\u001b[34;1m\"area\"\u001b[0m\u001b[1;39m: \u001b[0m\u001b[1;39m{\n                \u001b[0m\u001b[34;1m\"id\"\u001b[0m\u001b[1;39m: \u001b[0m\u001b[0;32m\"85752fda-13c4-31a3-bee5-0e5cb1f51dad\"\u001b[0m\u001b[1;39m,\n                \u001b[0m\u001b[34;1m\"name\"\u001b[0m\u001b[1;39m: \u001b[0m\u001b[0;32m\"Germany\"\u001b[0m\u001b[1;39m,\n                \u001b[0m\u001b[34;1m\"sort-name\"\u001b[0m\u001b[1;39m: \u001b[0m\u001b[0;32m\"Germany\"\u001b[0m\u001b[1;39m,\n                \u001b[0m\u001b[34;1m\"iso-3166-1-codes\"\u001b[0m\u001b[1;39m: \u001b[0m\u001b[1;39m[\n                  \u001b[0;32m\"DE\"\u001b[0m\u001b[1;39m\n                \u001b[1;39m]\u001b[0m\u001b[1;39m\n              \u001b[1;39m}\u001b[0m\u001b[1;39m\n            \u001b[1;39m}\u001b[0m\u001b[1;39m\n          \u001b[1;39m]\u001b[0m\u001b[1;39m,\n          \u001b[0m\u001b[34;1m\"track-count\"\u001b[0m\u001b[1;39m: \u001b[0m\u001b[0;39m46\u001b[0m\u001b[1;39m,\n          \u001b[0m\u001b[34;1m\"media\"\u001b[0m\u001b[1;39m: \u001b[0m\u001b[1;39m[\n            \u001b[1;39m{\n              \u001b[0m\u001b[34;1m\"position\"\u001b[0m\u001b[1;39m: \u001b[0m\u001b[0;39m1\u001b[0m\u001b[1;39m,\n              \u001b[0m\u001b[34;1m\"format\"\u001b[0m\u001b[1;39m: \u001b[0m\u001b[0;32m\"Digital Media\"\u001b[0m\u001b[1;39m,\n              \u001b[0m\u001b[34;1m\"track\"\u001b[0m\u001b[1;39m: \u001b[0m\u001b[1;39m[\n                \u001b[1;39m{\n                  \u001b[0m\u001b[34;1m\"id\"\u001b[0m\u001b[1;39m: \u001b[0m\u001b[0;32m\"fb12034c-b03f-43ae-b055-7dd1569e2e11\"\u001b[0m\u001b[1;39m,\n                  \u001b[0m\u001b[34;1m\"number\"\u001b[0m\u001b[1;39m: \u001b[0m\u001b[0;32m\"5\"\u001b[0m\u001b[1;39m,\n                  \u001b[0m\u001b[34;1m\"title\"\u001b[0m\u001b[1;39m: \u001b[0m\u001b[0;32m\"Bad Liar\"\u001b[0m\u001b[1;39m,\n                  \u001b[0m\u001b[34;1m\"length\"\u001b[0m\u001b[1;39m: \u001b[0m\u001b[0;39m260427\u001b[0m\u001b[1;39m\n                \u001b[1;39m}\u001b[0m\u001b[1;39m\n              \u001b[1;39m]\u001b[0m\u001b[1;39m,\n              \u001b[0m\u001b[34;1m\"track-count\"\u001b[0m\u001b[1;39m: \u001b[0m\u001b[0;39m23\u001b[0m\u001b[1;39m,\n              \u001b[0m\u001b[34;1m\"track-offset\"\u001b[0m\u001b[1;39m: \u001b[0m\u001b[0;39m4\u001b[0m\u001b[1;39m\n            \u001b[1;39m}\u001b[0m\u001b[1;39m\n          \u001b[1;39m]\u001b[0m\u001b[1;39m\n        \u001b[1;39m}\u001b[0m\u001b[1;39m,\n        \u001b[1;39m{\n          \u001b[0m\u001b[34;1m\"id\"\u001b[0m\u001b[1;39m: \u001b[0m\u001b[0;32m\"606ab41a-a273-462b-8428-be4ec7498247\"\u001b[0m\u001b[1;39m,\n          \u001b[0m\u001b[34;1m\"status-id\"\u001b[0m\u001b[1;39m: \u001b[0m\u001b[0;32m\"4e304316-386d-3409-af2e-78857eec5cfe\"\u001b[0m\u001b[1;39m,\n          \u001b[0m\u001b[34;1m\"count\"\u001b[0m\u001b[1;39m: \u001b[0m\u001b[0;39m1\u001b[0m\u001b[1;39m,\n          \u001b[0m\u001b[34;1m\"title\"\u001b[0m\u001b[1;39m: \u001b[0m\u001b[0;32m\"538: Hitzone 88\"\u001b[0m\u001b[1;39m,\n          \u001b[0m\u001b[34;1m\"status\"\u001b[0m\u001b[1;39m: \u001b[0m\u001b[0;32m\"Official\"\u001b[0m\u001b[1;39m,\n          \u001b[0m\u001b[34;1m\"artist-credit\"\u001b[0m\u001b[1;39m: \u001b[0m\u001b[1;39m[\n            \u001b[1;39m{\n              \u001b[0m\u001b[34;1m\"name\"\u001b[0m\u001b[1;39m: \u001b[0m\u001b[0;32m\"Various Artists\"\u001b[0m\u001b[1;39m,\n              \u001b[0m\u001b[34;1m\"artist\"\u001b[0m\u001b[1;39m: \u001b[0m\u001b[1;39m{\n                \u001b[0m\u001b[34;1m\"id\"\u001b[0m\u001b[1;39m: \u001b[0m\u001b[0;32m\"89ad4ac3-39f7-470e-963a-56509c546377\"\u001b[0m\u001b[1;39m,\n                \u001b[0m\u001b[34;1m\"name\"\u001b[0m\u001b[1;39m: \u001b[0m\u001b[0;32m\"Various Artists\"\u001b[0m\u001b[1;39m,\n                \u001b[0m\u001b[34;1m\"sort-name\"\u001b[0m\u001b[1;39m: \u001b[0m\u001b[0;32m\"Various Artists\"\u001b[0m\u001b[1;39m,\n                \u001b[0m\u001b[34;1m\"disambiguation\"\u001b[0m\u001b[1;39m: \u001b[0m\u001b[0;32m\"add compilations to this artist\"\u001b[0m\u001b[1;39m\n              \u001b[1;39m}\u001b[0m\u001b[1;39m\n            \u001b[1;39m}\u001b[0m\u001b[1;39m\n          \u001b[1;39m]\u001b[0m\u001b[1;39m,\n          \u001b[0m\u001b[34;1m\"release-group\"\u001b[0m\u001b[1;39m: \u001b[0m\u001b[1;39m{\n            \u001b[0m\u001b[34;1m\"id\"\u001b[0m\u001b[1;39m: \u001b[0m\u001b[0;32m\"92048c43-e546-47c9-87b7-72bdae6dd9e9\"\u001b[0m\u001b[1;39m,\n            \u001b[0m\u001b[34;1m\"type-id\"\u001b[0m\u001b[1;39m: \u001b[0m\u001b[0;32m\"dd2a21e1-0c00-3729-a7a0-de60b84eb5d1\"\u001b[0m\u001b[1;39m,\n            \u001b[0m\u001b[34;1m\"primary-type-id\"\u001b[0m\u001b[1;39m: \u001b[0m\u001b[0;32m\"f529b476-6e62-324f-b0aa-1f3e33d313fc\"\u001b[0m\u001b[1;39m,\n            \u001b[0m\u001b[34;1m\"title\"\u001b[0m\u001b[1;39m: \u001b[0m\u001b[0;32m\"538: Hitzone 88\"\u001b[0m\u001b[1;39m,\n            \u001b[0m\u001b[34;1m\"primary-type\"\u001b[0m\u001b[1;39m: \u001b[0m\u001b[0;32m\"Album\"\u001b[0m\u001b[1;39m,\n            \u001b[0m\u001b[34;1m\"secondary-types\"\u001b[0m\u001b[1;39m: \u001b[0m\u001b[1;39m[\n              \u001b[0;32m\"Compilation\"\u001b[0m\u001b[1;39m\n            \u001b[1;39m]\u001b[0m\u001b[1;39m,\n            \u001b[0m\u001b[34;1m\"secondary-type-ids\"\u001b[0m\u001b[1;39m: \u001b[0m\u001b[1;39m[\n              \u001b[0;32m\"dd2a21e1-0c00-3729-a7a0-de60b84eb5d1\"\u001b[0m\u001b[1;39m\n            \u001b[1;39m]\u001b[0m\u001b[1;39m\n          \u001b[1;39m}\u001b[0m\u001b[1;39m,\n          \u001b[0m\u001b[34;1m\"date\"\u001b[0m\u001b[1;39m: \u001b[0m\u001b[0;32m\"2019-03-01\"\u001b[0m\u001b[1;39m,\n          \u001b[0m\u001b[34;1m\"country\"\u001b[0m\u001b[1;39m: \u001b[0m\u001b[0;32m\"NL\"\u001b[0m\u001b[1;39m,\n          \u001b[0m\u001b[34;1m\"release-events\"\u001b[0m\u001b[1;39m: \u001b[0m\u001b[1;39m[\n            \u001b[1;39m{\n              \u001b[0m\u001b[34;1m\"date\"\u001b[0m\u001b[1;39m: \u001b[0m\u001b[0;32m\"2019-03-01\"\u001b[0m\u001b[1;39m,\n              \u001b[0m\u001b[34;1m\"area\"\u001b[0m\u001b[1;39m: \u001b[0m\u001b[1;39m{\n                \u001b[0m\u001b[34;1m\"id\"\u001b[0m\u001b[1;39m: \u001b[0m\u001b[0;32m\"ef1b7cc0-cd26-36f4-8ea0-04d9623786c7\"\u001b[0m\u001b[1;39m,\n                \u001b[0m\u001b[34;1m\"name\"\u001b[0m\u001b[1;39m: \u001b[0m\u001b[0;32m\"Netherlands\"\u001b[0m\u001b[1;39m,\n                \u001b[0m\u001b[34;1m\"sort-name\"\u001b[0m\u001b[1;39m: \u001b[0m\u001b[0;32m\"Netherlands\"\u001b[0m\u001b[1;39m,\n                \u001b[0m\u001b[34;1m\"iso-3166-1-codes\"\u001b[0m\u001b[1;39m: \u001b[0m\u001b[1;39m[\n                  \u001b[0;32m\"NL\"\u001b[0m\u001b[1;39m\n                \u001b[1;39m]\u001b[0m\u001b[1;39m\n              \u001b[1;39m}\u001b[0m\u001b[1;39m\n            \u001b[1;39m}\u001b[0m\u001b[1;39m\n          \u001b[1;39m]\u001b[0m\u001b[1;39m,\n          \u001b[0m\u001b[34;1m\"track-count\"\u001b[0m\u001b[1;39m: \u001b[0m\u001b[0;39m22\u001b[0m\u001b[1;39m,\n          \u001b[0m\u001b[34;1m\"media\"\u001b[0m\u001b[1;39m: \u001b[0m\u001b[1;39m[\n            \u001b[1;39m{\n              \u001b[0m\u001b[34;1m\"position\"\u001b[0m\u001b[1;39m: \u001b[0m\u001b[0;39m1\u001b[0m\u001b[1;39m,\n              \u001b[0m\u001b[34;1m\"format\"\u001b[0m\u001b[1;39m: \u001b[0m\u001b[0;32m\"CD\"\u001b[0m\u001b[1;39m,\n              \u001b[0m\u001b[34;1m\"track\"\u001b[0m\u001b[1;39m: \u001b[0m\u001b[1;39m[\n                \u001b[1;39m{\n                  \u001b[0m\u001b[34;1m\"id\"\u001b[0m\u001b[1;39m: \u001b[0m\u001b[0;32m\"61591a84-2140-45c3-b90b-9dca34c7320b\"\u001b[0m\u001b[1;39m,\n                  \u001b[0m\u001b[34;1m\"number\"\u001b[0m\u001b[1;39m: \u001b[0m\u001b[0;32m\"9\"\u001b[0m\u001b[1;39m,\n                  \u001b[0m\u001b[34;1m\"title\"\u001b[0m\u001b[1;39m: \u001b[0m\u001b[0;32m\"Bad Liar\"\u001b[0m\u001b[1;39m,\n                  \u001b[0m\u001b[34;1m\"length\"\u001b[0m\u001b[1;39m: \u001b[0m\u001b[0;39m262000\u001b[0m\u001b[1;39m\n                \u001b[1;39m}\u001b[0m\u001b[1;39m\n              \u001b[1;39m]\u001b[0m\u001b[1;39m,\n              \u001b[0m\u001b[34;1m\"track-count\"\u001b[0m\u001b[1;39m: \u001b[0m\u001b[0;39m22\u001b[0m\u001b[1;39m,\n              \u001b[0m\u001b[34;1m\"track-offset\"\u001b[0m\u001b[1;39m: \u001b[0m\u001b[0;39m8\u001b[0m\u001b[1;39m\n            \u001b[1;39m}\u001b[0m\u001b[1;39m\n          \u001b[1;39m]\u001b[0m\u001b[1;39m\n        \u001b[1;39m}\u001b[0m\u001b[1;39m,\n        \u001b[1;39m{\n          \u001b[0m\u001b[34;1m\"id\"\u001b[0m\u001b[1;39m: \u001b[0m\u001b[0;32m\"9a410782-26a2-49b2-9e3d-c68992a69948\"\u001b[0m\u001b[1;39m,\n          \u001b[0m\u001b[34;1m\"status-id\"\u001b[0m\u001b[1;39m: \u001b[0m\u001b[0;32m\"4e304316-386d-3409-af2e-78857eec5cfe\"\u001b[0m\u001b[1;39m,\n          \u001b[0m\u001b[34;1m\"count\"\u001b[0m\u001b[1;39m: \u001b[0m\u001b[0;39m2\u001b[0m\u001b[1;39m,\n          \u001b[0m\u001b[34;1m\"title\"\u001b[0m\u001b[1;39m: \u001b[0m\u001b[0;32m\"Bravo Hits 104\"\u001b[0m\u001b[1;39m,\n          \u001b[0m\u001b[34;1m\"status\"\u001b[0m\u001b[1;39m: \u001b[0m\u001b[0;32m\"Official\"\u001b[0m\u001b[1;39m,\n          \u001b[0m\u001b[34;1m\"artist-credit\"\u001b[0m\u001b[1;39m: \u001b[0m\u001b[1;39m[\n            \u001b[1;39m{\n              \u001b[0m\u001b[34;1m\"name\"\u001b[0m\u001b[1;39m: \u001b[0m\u001b[0;32m\"Various Artists\"\u001b[0m\u001b[1;39m,\n              \u001b[0m\u001b[34;1m\"artist\"\u001b[0m\u001b[1;39m: \u001b[0m\u001b[1;39m{\n                \u001b[0m\u001b[34;1m\"id\"\u001b[0m\u001b[1;39m: \u001b[0m\u001b[0;32m\"89ad4ac3-39f7-470e-963a-56509c546377\"\u001b[0m\u001b[1;39m,\n                \u001b[0m\u001b[34;1m\"name\"\u001b[0m\u001b[1;39m: \u001b[0m\u001b[0;32m\"Various Artists\"\u001b[0m\u001b[1;39m,\n                \u001b[0m\u001b[34;1m\"sort-name\"\u001b[0m\u001b[1;39m: \u001b[0m\u001b[0;32m\"Various Artists\"\u001b[0m\u001b[1;39m,\n                \u001b[0m\u001b[34;1m\"disambiguation\"\u001b[0m\u001b[1;39m: \u001b[0m\u001b[0;32m\"add compilations to this artist\"\u001b[0m\u001b[1;39m\n              \u001b[1;39m}\u001b[0m\u001b[1;39m\n            \u001b[1;39m}\u001b[0m\u001b[1;39m\n          \u001b[1;39m]\u001b[0m\u001b[1;39m,\n          \u001b[0m\u001b[34;1m\"release-group\"\u001b[0m\u001b[1;39m: \u001b[0m\u001b[1;39m{\n            \u001b[0m\u001b[34;1m\"id\"\u001b[0m\u001b[1;39m: \u001b[0m\u001b[0;32m\"9ae1beb3-4d10-409a-b0a5-32410d088c1f\"\u001b[0m\u001b[1;39m,\n            \u001b[0m\u001b[34;1m\"type-id\"\u001b[0m\u001b[1;39m: \u001b[0m\u001b[0;32m\"dd2a21e1-0c00-3729-a7a0-de60b84eb5d1\"\u001b[0m\u001b[1;39m,\n            \u001b[0m\u001b[34;1m\"primary-type-id\"\u001b[0m\u001b[1;39m: \u001b[0m\u001b[0;32m\"f529b476-6e62-324f-b0aa-1f3e33d313fc\"\u001b[0m\u001b[1;39m,\n            \u001b[0m\u001b[34;1m\"title\"\u001b[0m\u001b[1;39m: \u001b[0m\u001b[0;32m\"Bravo Hits 104\"\u001b[0m\u001b[1;39m,\n            \u001b[0m\u001b[34;1m\"primary-type\"\u001b[0m\u001b[1;39m: \u001b[0m\u001b[0;32m\"Album\"\u001b[0m\u001b[1;39m,\n            \u001b[0m\u001b[34;1m\"secondary-types\"\u001b[0m\u001b[1;39m: \u001b[0m\u001b[1;39m[\n              \u001b[0;32m\"Compilation\"\u001b[0m\u001b[1;39m\n            \u001b[1;39m]\u001b[0m\u001b[1;39m,\n            \u001b[0m\u001b[34;1m\"secondary-type-ids\"\u001b[0m\u001b[1;39m: \u001b[0m\u001b[1;39m[\n              \u001b[0;32m\"dd2a21e1-0c00-3729-a7a0-de60b84eb5d1\"\u001b[0m\u001b[1;39m\n            \u001b[1;39m]\u001b[0m\u001b[1;39m\n          \u001b[1;39m}\u001b[0m\u001b[1;39m,\n          \u001b[0m\u001b[34;1m\"date\"\u001b[0m\u001b[1;39m: \u001b[0m\u001b[0;32m\"2019-02-15\"\u001b[0m\u001b[1;39m,\n          \u001b[0m\u001b[34;1m\"country\"\u001b[0m\u001b[1;39m: \u001b[0m\u001b[0;32m\"DE\"\u001b[0m\u001b[1;39m,\n          \u001b[0m\u001b[34;1m\"release-events\"\u001b[0m\u001b[1;39m: \u001b[0m\u001b[1;39m[\n            \u001b[1;39m{\n              \u001b[0m\u001b[34;1m\"date\"\u001b[0m\u001b[1;39m: \u001b[0m\u001b[0;32m\"2019-02-15\"\u001b[0m\u001b[1;39m,\n              \u001b[0m\u001b[34;1m\"area\"\u001b[0m\u001b[1;39m: \u001b[0m\u001b[1;39m{\n                \u001b[0m\u001b[34;1m\"id\"\u001b[0m\u001b[1;39m: \u001b[0m\u001b[0;32m\"85752fda-13c4-31a3-bee5-0e5cb1f51dad\"\u001b[0m\u001b[1;39m,\n                \u001b[0m\u001b[34;1m\"name\"\u001b[0m\u001b[1;39m: \u001b[0m\u001b[0;32m\"Germany\"\u001b[0m\u001b[1;39m,\n                \u001b[0m\u001b[34;1m\"sort-name\"\u001b[0m\u001b[1;39m: \u001b[0m\u001b[0;32m\"Germany\"\u001b[0m\u001b[1;39m,\n                \u001b[0m\u001b[34;1m\"iso-3166-1-codes\"\u001b[0m\u001b[1;39m: \u001b[0m\u001b[1;39m[\n                  \u001b[0;32m\"DE\"\u001b[0m\u001b[1;39m\n                \u001b[1;39m]\u001b[0m\u001b[1;39m\n              \u001b[1;39m}\u001b[0m\u001b[1;39m\n            \u001b[1;39m}\u001b[0m\u001b[1;39m\n          \u001b[1;39m]\u001b[0m\u001b[1;39m,\n          \u001b[0m\u001b[34;1m\"track-count\"\u001b[0m\u001b[1;39m: \u001b[0m\u001b[0;39m46\u001b[0m\u001b[1;39m,\n          \u001b[0m\u001b[34;1m\"media\"\u001b[0m\u001b[1;39m: \u001b[0m\u001b[1;39m[\n            \u001b[1;39m{\n              \u001b[0m\u001b[34;1m\"position\"\u001b[0m\u001b[1;39m: \u001b[0m\u001b[0;39m1\u001b[0m\u001b[1;39m,\n              \u001b[0m\u001b[34;1m\"format\"\u001b[0m\u001b[1;39m: \u001b[0m\u001b[0;32m\"CD\"\u001b[0m\u001b[1;39m,\n              \u001b[0m\u001b[34;1m\"track\"\u001b[0m\u001b[1;39m: \u001b[0m\u001b[1;39m[\n                \u001b[1;39m{\n                  \u001b[0m\u001b[34;1m\"id\"\u001b[0m\u001b[1;39m: \u001b[0m\u001b[0;32m\"8025ef23-419f-4448-be7b-4d9578bb9cd8\"\u001b[0m\u001b[1;39m,\n                  \u001b[0m\u001b[34;1m\"number\"\u001b[0m\u001b[1;39m: \u001b[0m\u001b[0;32m\"5\"\u001b[0m\u001b[1;39m,\n                  \u001b[0m\u001b[34;1m\"title\"\u001b[0m\u001b[1;39m: \u001b[0m\u001b[0;32m\"Bad Liar\"\u001b[0m\u001b[1;39m,\n                  \u001b[0m\u001b[34;1m\"length\"\u001b[0m\u001b[1;39m: \u001b[0m\u001b[0;39m260000\u001b[0m\u001b[1;39m\n                \u001b[1;39m}\u001b[0m\u001b[1;39m\n              \u001b[1;39m]\u001b[0m\u001b[1;39m,\n              \u001b[0m\u001b[34;1m\"track-count\"\u001b[0m\u001b[1;39m: \u001b[0m\u001b[0;39m23\u001b[0m\u001b[1;39m,\n              \u001b[0m\u001b[34;1m\"track-offset\"\u001b[0m\u001b[1;39m: \u001b[0m\u001b[0;39m4\u001b[0m\u001b[1;39m\n            \u001b[1;39m}\u001b[0m\u001b[1;39m\n          \u001b[1;39m]\u001b[0m\u001b[1;39m\n        \u001b[1;39m}\u001b[0m\u001b[1;39m,\n        \u001b[1;39m{\n          \u001b[0m\u001b[34;1m\"id\"\u001b[0m\u001b[1;39m: \u001b[0m\u001b[0;32m\"3883933c-8b48-443d-ac6c-388bdd4fb24e\"\u001b[0m\u001b[1;39m,\n          \u001b[0m\u001b[34;1m\"status-id\"\u001b[0m\u001b[1;39m: \u001b[0m\u001b[0;32m\"4e304316-386d-3409-af2e-78857eec5cfe\"\u001b[0m\u001b[1;39m,\n          \u001b[0m\u001b[34;1m\"count\"\u001b[0m\u001b[1;39m: \u001b[0m\u001b[0;39m1\u001b[0m\u001b[1;39m,\n          \u001b[0m\u001b[34;1m\"title\"\u001b[0m\u001b[1;39m: \u001b[0m\u001b[0;32m\"Origins\"\u001b[0m\u001b[1;39m,\n          \u001b[0m\u001b[34;1m\"status\"\u001b[0m\u001b[1;39m: \u001b[0m\u001b[0;32m\"Official\"\u001b[0m\u001b[1;39m,\n          \u001b[0m\u001b[34;1m\"release-group\"\u001b[0m\u001b[1;39m: \u001b[0m\u001b[1;39m{\n            \u001b[0m\u001b[34;1m\"id\"\u001b[0m\u001b[1;39m: \u001b[0m\u001b[0;32m\"042160ca-6094-42b4-8399-9e0141fa9515\"\u001b[0m\u001b[1;39m,\n            \u001b[0m\u001b[34;1m\"type-id\"\u001b[0m\u001b[1;39m: \u001b[0m\u001b[0;32m\"f529b476-6e62-324f-b0aa-1f3e33d313fc\"\u001b[0m\u001b[1;39m,\n            \u001b[0m\u001b[34;1m\"primary-type-id\"\u001b[0m\u001b[1;39m: \u001b[0m\u001b[0;32m\"f529b476-6e62-324f-b0aa-1f3e33d313fc\"\u001b[0m\u001b[1;39m,\n            \u001b[0m\u001b[34;1m\"title\"\u001b[0m\u001b[1;39m: \u001b[0m\u001b[0;32m\"Origins\"\u001b[0m\u001b[1;39m,\n            \u001b[0m\u001b[34;1m\"primary-type\"\u001b[0m\u001b[1;39m: \u001b[0m\u001b[0;32m\"Album\"\u001b[0m\u001b[1;39m\n          \u001b[1;39m}\u001b[0m\u001b[1;39m,\n          \u001b[0m\u001b[34;1m\"track-count\"\u001b[0m\u001b[1;39m: \u001b[0m\u001b[0;39m12\u001b[0m\u001b[1;39m,\n          \u001b[0m\u001b[34;1m\"media\"\u001b[0m\u001b[1;39m: \u001b[0m\u001b[1;39m[\n            \u001b[1;39m{\n              \u001b[0m\u001b[34;1m\"position\"\u001b[0m\u001b[1;39m: \u001b[0m\u001b[0;39m1\u001b[0m\u001b[1;39m,\n              \u001b[0m\u001b[34;1m\"format\"\u001b[0m\u001b[1;39m: \u001b[0m\u001b[0;32m\"Digital Media\"\u001b[0m\u001b[1;39m,\n              \u001b[0m\u001b[34;1m\"track\"\u001b[0m\u001b[1;39m: \u001b[0m\u001b[1;39m[\n                \u001b[1;39m{\n                  \u001b[0m\u001b[34;1m\"id\"\u001b[0m\u001b[1;39m: \u001b[0m\u001b[0;32m\"3d30c0fa-adcf-4549-9e6d-c641779ba774\"\u001b[0m\u001b[1;39m,\n                  \u001b[0m\u001b[34;1m\"number\"\u001b[0m\u001b[1;39m: \u001b[0m\u001b[0;32m\"5\"\u001b[0m\u001b[1;39m,\n                  \u001b[0m\u001b[34;1m\"title\"\u001b[0m\u001b[1;39m: \u001b[0m\u001b[0;32m\"Bad Liar\"\u001b[0m\u001b[1;39m,\n                  \u001b[0m\u001b[34;1m\"length\"\u001b[0m\u001b[1;39m: \u001b[0m\u001b[0;39m260000\u001b[0m\u001b[1;39m\n                \u001b[1;39m}\u001b[0m\u001b[1;39m\n              \u001b[1;39m]\u001b[0m\u001b[1;39m,\n              \u001b[0m\u001b[34;1m\"track-count\"\u001b[0m\u001b[1;39m: \u001b[0m\u001b[0;39m12\u001b[0m\u001b[1;39m,\n              \u001b[0m\u001b[34;1m\"track-offset\"\u001b[0m\u001b[1;39m: \u001b[0m\u001b[0;39m4\u001b[0m\u001b[1;39m\n            \u001b[1;39m}\u001b[0m\u001b[1;39m\n          \u001b[1;39m]\u001b[0m\u001b[1;39m\n        \u001b[1;39m}\u001b[0m\u001b[1;39m,\n        \u001b[1;39m{\n          \u001b[0m\u001b[34;1m\"id\"\u001b[0m\u001b[1;39m: \u001b[0m\u001b[0;32m\"c4bdb98d-db28-4213-b1e2-a29437d69159\"\u001b[0m\u001b[1;39m,\n          \u001b[0m\u001b[34;1m\"status-id\"\u001b[0m\u001b[1;39m: \u001b[0m\u001b[0;32m\"4e304316-386d-3409-af2e-78857eec5cfe\"\u001b[0m\u001b[1;39m,\n          \u001b[0m\u001b[34;1m\"count\"\u001b[0m\u001b[1;39m: \u001b[0m\u001b[0;39m1\u001b[0m\u001b[1;39m,\n          \u001b[0m\u001b[34;1m\"title\"\u001b[0m\u001b[1;39m: \u001b[0m\u001b[0;32m\"Origins (international deluxe)\"\u001b[0m\u001b[1;39m,\n          \u001b[0m\u001b[34;1m\"status\"\u001b[0m\u001b[1;39m: \u001b[0m\u001b[0;32m\"Official\"\u001b[0m\u001b[1;39m,\n          \u001b[0m\u001b[34;1m\"release-group\"\u001b[0m\u001b[1;39m: \u001b[0m\u001b[1;39m{\n            \u001b[0m\u001b[34;1m\"id\"\u001b[0m\u001b[1;39m: \u001b[0m\u001b[0;32m\"042160ca-6094-42b4-8399-9e0141fa9515\"\u001b[0m\u001b[1;39m,\n            \u001b[0m\u001b[34;1m\"type-id\"\u001b[0m\u001b[1;39m: \u001b[0m\u001b[0;32m\"f529b476-6e62-324f-b0aa-1f3e33d313fc\"\u001b[0m\u001b[1;39m,\n            \u001b[0m\u001b[34;1m\"primary-type-id\"\u001b[0m\u001b[1;39m: \u001b[0m\u001b[0;32m\"f529b476-6e62-324f-b0aa-1f3e33d313fc\"\u001b[0m\u001b[1;39m,\n            \u001b[0m\u001b[34;1m\"title\"\u001b[0m\u001b[1;39m: \u001b[0m\u001b[0;32m\"Origins\"\u001b[0m\u001b[1;39m,\n            \u001b[0m\u001b[34;1m\"primary-type\"\u001b[0m\u001b[1;39m: \u001b[0m\u001b[0;32m\"Album\"\u001b[0m\u001b[1;39m\n          \u001b[1;39m}\u001b[0m\u001b[1;39m,\n          \u001b[0m\u001b[34;1m\"date\"\u001b[0m\u001b[1;39m: \u001b[0m\u001b[0;32m\"2018-11-09\"\u001b[0m\u001b[1;39m,\n          \u001b[0m\u001b[34;1m\"country\"\u001b[0m\u001b[1;39m: \u001b[0m\u001b[0;32m\"JP\"\u001b[0m\u001b[1;39m,\n          \u001b[0m\u001b[34;1m\"release-events\"\u001b[0m\u001b[1;39m: \u001b[0m\u001b[1;39m[\n            \u001b[1;39m{\n              \u001b[0m\u001b[34;1m\"date\"\u001b[0m\u001b[1;39m: \u001b[0m\u001b[0;32m\"2018-11-09\"\u001b[0m\u001b[1;39m,\n              \u001b[0m\u001b[34;1m\"area\"\u001b[0m\u001b[1;39m: \u001b[0m\u001b[1;39m{\n                \u001b[0m\u001b[34;1m\"id\"\u001b[0m\u001b[1;39m: \u001b[0m\u001b[0;32m\"2db42837-c832-3c27-b4a3-08198f75693c\"\u001b[0m\u001b[1;39m,\n                \u001b[0m\u001b[34;1m\"name\"\u001b[0m\u001b[1;39m: \u001b[0m\u001b[0;32m\"Japan\"\u001b[0m\u001b[1;39m,\n                \u001b[0m\u001b[34;1m\"sort-name\"\u001b[0m\u001b[1;39m: \u001b[0m\u001b[0;32m\"Japan\"\u001b[0m\u001b[1;39m,\n                \u001b[0m\u001b[34;1m\"iso-3166-1-codes\"\u001b[0m\u001b[1;39m: \u001b[0m\u001b[1;39m[\n                  \u001b[0;32m\"JP\"\u001b[0m\u001b[1;39m\n                \u001b[1;39m]\u001b[0m\u001b[1;39m\n              \u001b[1;39m}\u001b[0m\u001b[1;39m\n            \u001b[1;39m}\u001b[0m\u001b[1;39m\n          \u001b[1;39m]\u001b[0m\u001b[1;39m,\n          \u001b[0m\u001b[34;1m\"track-count\"\u001b[0m\u001b[1;39m: \u001b[0m\u001b[0;39m16\u001b[0m\u001b[1;39m,\n          \u001b[0m\u001b[34;1m\"media\"\u001b[0m\u001b[1;39m: \u001b[0m\u001b[1;39m[\n            \u001b[1;39m{\n              \u001b[0m\u001b[34;1m\"position\"\u001b[0m\u001b[1;39m: \u001b[0m\u001b[0;39m1\u001b[0m\u001b[1;39m,\n              \u001b[0m\u001b[34;1m\"format\"\u001b[0m\u001b[1;39m: \u001b[0m\u001b[0;32m\"CD\"\u001b[0m\u001b[1;39m,\n              \u001b[0m\u001b[34;1m\"track\"\u001b[0m\u001b[1;39m: \u001b[0m\u001b[1;39m[\n                \u001b[1;39m{\n                  \u001b[0m\u001b[34;1m\"id\"\u001b[0m\u001b[1;39m: \u001b[0m\u001b[0;32m\"dc2a862b-4415-43f4-8313-aad5c432c6fb\"\u001b[0m\u001b[1;39m,\n                  \u001b[0m\u001b[34;1m\"number\"\u001b[0m\u001b[1;39m: \u001b[0m\u001b[0;32m\"5\"\u001b[0m\u001b[1;39m,\n                  \u001b[0m\u001b[34;1m\"title\"\u001b[0m\u001b[1;39m: \u001b[0m\u001b[0;32m\"Bad Liar\"\u001b[0m\u001b[1;39m,\n                  \u001b[0m\u001b[34;1m\"length\"\u001b[0m\u001b[1;39m: \u001b[0m\u001b[0;39m261000\u001b[0m\u001b[1;39m\n                \u001b[1;39m}\u001b[0m\u001b[1;39m\n              \u001b[1;39m]\u001b[0m\u001b[1;39m,\n              \u001b[0m\u001b[34;1m\"track-count\"\u001b[0m\u001b[1;39m: \u001b[0m\u001b[0;39m16\u001b[0m\u001b[1;39m,\n              \u001b[0m\u001b[34;1m\"track-offset\"\u001b[0m\u001b[1;39m: \u001b[0m\u001b[0;39m4\u001b[0m\u001b[1;39m\n            \u001b[1;39m}\u001b[0m\u001b[1;39m\n          \u001b[1;39m]\u001b[0m\u001b[1;39m\n        \u001b[1;39m}\u001b[0m\u001b[1;39m,\n        \u001b[1;39m{\n          \u001b[0m\u001b[34;1m\"id\"\u001b[0m\u001b[1;39m: \u001b[0m\u001b[0;32m\"571810a7-5fef-470f-8637-e630c0b6db40\"\u001b[0m\u001b[1;39m,\n          \u001b[0m\u001b[34;1m\"status-id\"\u001b[0m\u001b[1;39m: \u001b[0m\u001b[0;32m\"4e304316-386d-3409-af2e-78857eec5cfe\"\u001b[0m\u001b[1;39m,\n          \u001b[0m\u001b[34;1m\"count\"\u001b[0m\u001b[1;39m: \u001b[0m\u001b[0;39m2\u001b[0m\u001b[1;39m,\n          \u001b[0m\u001b[34;1m\"title\"\u001b[0m\u001b[1;39m: \u001b[0m\u001b[0;32m\"Origins\"\u001b[0m\u001b[1;39m,\n          \u001b[0m\u001b[34;1m\"status\"\u001b[0m\u001b[1;39m: \u001b[0m\u001b[0;32m\"Official\"\u001b[0m\u001b[1;39m,\n          \u001b[0m\u001b[34;1m\"release-group\"\u001b[0m\u001b[1;39m: \u001b[0m\u001b[1;39m{\n            \u001b[0m\u001b[34;1m\"id\"\u001b[0m\u001b[1;39m: \u001b[0m\u001b[0;32m\"042160ca-6094-42b4-8399-9e0141fa9515\"\u001b[0m\u001b[1;39m,\n            \u001b[0m\u001b[34;1m\"type-id\"\u001b[0m\u001b[1;39m: \u001b[0m\u001b[0;32m\"f529b476-6e62-324f-b0aa-1f3e33d313fc\"\u001b[0m\u001b[1;39m,\n            \u001b[0m\u001b[34;1m\"primary-type-id\"\u001b[0m\u001b[1;39m: \u001b[0m\u001b[0;32m\"f529b476-6e62-324f-b0aa-1f3e33d313fc\"\u001b[0m\u001b[1;39m,\n            \u001b[0m\u001b[34;1m\"title\"\u001b[0m\u001b[1;39m: \u001b[0m\u001b[0;32m\"Origins\"\u001b[0m\u001b[1;39m,\n            \u001b[0m\u001b[34;1m\"primary-type\"\u001b[0m\u001b[1;39m: \u001b[0m\u001b[0;32m\"Album\"\u001b[0m\u001b[1;39m\n          \u001b[1;39m}\u001b[0m\u001b[1;39m,\n          \u001b[0m\u001b[34;1m\"date\"\u001b[0m\u001b[1;39m: \u001b[0m\u001b[0;32m\"2018-12-21\"\u001b[0m\u001b[1;39m,\n          \u001b[0m\u001b[34;1m\"country\"\u001b[0m\u001b[1;39m: \u001b[0m\u001b[0;32m\"US\"\u001b[0m\u001b[1;39m,\n          \u001b[0m\u001b[34;1m\"release-events\"\u001b[0m\u001b[1;39m: \u001b[0m\u001b[1;39m[\n            \u001b[1;39m{\n              \u001b[0m\u001b[34;1m\"date\"\u001b[0m\u001b[1;39m: \u001b[0m\u001b[0;32m\"2018-12-21\"\u001b[0m\u001b[1;39m,\n              \u001b[0m\u001b[34;1m\"area\"\u001b[0m\u001b[1;39m: \u001b[0m\u001b[1;39m{\n                \u001b[0m\u001b[34;1m\"id\"\u001b[0m\u001b[1;39m: \u001b[0m\u001b[0;32m\"489ce91b-6658-3307-9877-795b68554c98\"\u001b[0m\u001b[1;39m,\n                \u001b[0m\u001b[34;1m\"name\"\u001b[0m\u001b[1;39m: \u001b[0m\u001b[0;32m\"United States\"\u001b[0m\u001b[1;39m,\n                \u001b[0m\u001b[34;1m\"sort-name\"\u001b[0m\u001b[1;39m: \u001b[0m\u001b[0;32m\"United States\"\u001b[0m\u001b[1;39m,\n                \u001b[0m\u001b[34;1m\"iso-3166-1-codes\"\u001b[0m\u001b[1;39m: \u001b[0m\u001b[1;39m[\n                  \u001b[0;32m\"US\"\u001b[0m\u001b[1;39m\n                \u001b[1;39m]\u001b[0m\u001b[1;39m\n              \u001b[1;39m}\u001b[0m\u001b[1;39m\n            \u001b[1;39m}\u001b[0m\u001b[1;39m\n          \u001b[1;39m]\u001b[0m\u001b[1;39m,\n          \u001b[0m\u001b[34;1m\"track-count\"\u001b[0m\u001b[1;39m: \u001b[0m\u001b[0;39m15\u001b[0m\u001b[1;39m,\n          \u001b[0m\u001b[34;1m\"media\"\u001b[0m\u001b[1;39m: \u001b[0m\u001b[1;39m[\n            \u001b[1;39m{\n              \u001b[0m\u001b[34;1m\"position\"\u001b[0m\u001b[1;39m: \u001b[0m\u001b[0;39m1\u001b[0m\u001b[1;39m,\n              \u001b[0m\u001b[34;1m\"format\"\u001b[0m\u001b[1;39m: \u001b[0m\u001b[0;32m\"12\\\" Vinyl\"\u001b[0m\u001b[1;39m,\n              \u001b[0m\u001b[34;1m\"track\"\u001b[0m\u001b[1;39m: \u001b[0m\u001b[1;39m[\n                \u001b[1;39m{\n                  \u001b[0m\u001b[34;1m\"id\"\u001b[0m\u001b[1;39m: \u001b[0m\u001b[0;32m\"a06c9891-e682-41da-af99-1a9fb467895c\"\u001b[0m\u001b[1;39m,\n                  \u001b[0m\u001b[34;1m\"number\"\u001b[0m\u001b[1;39m: \u001b[0m\u001b[0;32m\"B1\"\u001b[0m\u001b[1;39m,\n                  \u001b[0m\u001b[34;1m\"title\"\u001b[0m\u001b[1;39m: \u001b[0m\u001b[0;32m\"Bad Liar\"\u001b[0m\u001b[1;39m\n                \u001b[1;39m}\u001b[0m\u001b[1;39m\n              \u001b[1;39m]\u001b[0m\u001b[1;39m,\n              \u001b[0m\u001b[34;1m\"track-count\"\u001b[0m\u001b[1;39m: \u001b[0m\u001b[0;39m8\u001b[0m\u001b[1;39m,\n              \u001b[0m\u001b[34;1m\"track-offset\"\u001b[0m\u001b[1;39m: \u001b[0m\u001b[0;39m4\u001b[0m\u001b[1;39m\n            \u001b[1;39m}\u001b[0m\u001b[1;39m\n          \u001b[1;39m]\u001b[0m\u001b[1;39m\n        \u001b[1;39m}\u001b[0m\u001b[1;39m,\n        \u001b[1;39m{\n          \u001b[0m\u001b[34;1m\"id\"\u001b[0m\u001b[1;39m: \u001b[0m\u001b[0;32m\"eaca82a7-a557-4953-9d67-f7eb2c5fa06b\"\u001b[0m\u001b[1;39m,\n          \u001b[0m\u001b[34;1m\"status-id\"\u001b[0m\u001b[1;39m: \u001b[0m\u001b[0;32m\"4e304316-386d-3409-af2e-78857eec5cfe\"\u001b[0m\u001b[1;39m,\n          \u001b[0m\u001b[34;1m\"count\"\u001b[0m\u001b[1;39m: \u001b[0m\u001b[0;39m1\u001b[0m\u001b[1;39m,\n          \u001b[0m\u001b[34;1m\"title\"\u001b[0m\u001b[1;39m: \u001b[0m\u001b[0;32m\"Origins\"\u001b[0m\u001b[1;39m,\n          \u001b[0m\u001b[34;1m\"status\"\u001b[0m\u001b[1;39m: \u001b[0m\u001b[0;32m\"Official\"\u001b[0m\u001b[1;39m,\n          \u001b[0m\u001b[34;1m\"release-group\"\u001b[0m\u001b[1;39m: \u001b[0m\u001b[1;39m{\n            \u001b[0m\u001b[34;1m\"id\"\u001b[0m\u001b[1;39m: \u001b[0m\u001b[0;32m\"042160ca-6094-42b4-8399-9e0141fa9515\"\u001b[0m\u001b[1;39m,\n            \u001b[0m\u001b[34;1m\"type-id\"\u001b[0m\u001b[1;39m: \u001b[0m\u001b[0;32m\"f529b476-6e62-324f-b0aa-1f3e33d313fc\"\u001b[0m\u001b[1;39m,\n            \u001b[0m\u001b[34;1m\"primary-type-id\"\u001b[0m\u001b[1;39m: \u001b[0m\u001b[0;32m\"f529b476-6e62-324f-b0aa-1f3e33d313fc\"\u001b[0m\u001b[1;39m,\n            \u001b[0m\u001b[34;1m\"title\"\u001b[0m\u001b[1;39m: \u001b[0m\u001b[0;32m\"Origins\"\u001b[0m\u001b[1;39m,\n            \u001b[0m\u001b[34;1m\"primary-type\"\u001b[0m\u001b[1;39m: \u001b[0m\u001b[0;32m\"Album\"\u001b[0m\u001b[1;39m\n          \u001b[1;39m}\u001b[0m\u001b[1;39m,\n          \u001b[0m\u001b[34;1m\"date\"\u001b[0m\u001b[1;39m: \u001b[0m\u001b[0;32m\"2018\"\u001b[0m\u001b[1;39m,\n          \u001b[0m\u001b[34;1m\"country\"\u001b[0m\u001b[1;39m: \u001b[0m\u001b[0;32m\"XE\"\u001b[0m\u001b[1;39m,\n          \u001b[0m\u001b[34;1m\"release-events\"\u001b[0m\u001b[1;39m: \u001b[0m\u001b[1;39m[\n            \u001b[1;39m{\n              \u001b[0m\u001b[34;1m\"date\"\u001b[0m\u001b[1;39m: \u001b[0m\u001b[0;32m\"2018\"\u001b[0m\u001b[1;39m,\n              \u001b[0m\u001b[34;1m\"area\"\u001b[0m\u001b[1;39m: \u001b[0m\u001b[1;39m{\n                \u001b[0m\u001b[34;1m\"id\"\u001b[0m\u001b[1;39m: \u001b[0m\u001b[0;32m\"89a675c2-3e37-3518-b83c-418bad59a85a\"\u001b[0m\u001b[1;39m,\n                \u001b[0m\u001b[34;1m\"name\"\u001b[0m\u001b[1;39m: \u001b[0m\u001b[0;32m\"Europe\"\u001b[0m\u001b[1;39m,\n                \u001b[0m\u001b[34;1m\"sort-name\"\u001b[0m\u001b[1;39m: \u001b[0m\u001b[0;32m\"Europe\"\u001b[0m\u001b[1;39m,\n                \u001b[0m\u001b[34;1m\"iso-3166-1-codes\"\u001b[0m\u001b[1;39m: \u001b[0m\u001b[1;39m[\n                  \u001b[0;32m\"XE\"\u001b[0m\u001b[1;39m\n                \u001b[1;39m]\u001b[0m\u001b[1;39m\n              \u001b[1;39m}\u001b[0m\u001b[1;39m\n            \u001b[1;39m}\u001b[0m\u001b[1;39m\n          \u001b[1;39m]\u001b[0m\u001b[1;39m,\n          \u001b[0m\u001b[34;1m\"track-count\"\u001b[0m\u001b[1;39m: \u001b[0m\u001b[0;39m12\u001b[0m\u001b[1;39m,\n          \u001b[0m\u001b[34;1m\"media\"\u001b[0m\u001b[1;39m: \u001b[0m\u001b[1;39m[\n            \u001b[1;39m{\n              \u001b[0m\u001b[34;1m\"position\"\u001b[0m\u001b[1;39m: \u001b[0m\u001b[0;39m1\u001b[0m\u001b[1;39m,\n              \u001b[0m\u001b[34;1m\"format\"\u001b[0m\u001b[1;39m: \u001b[0m\u001b[0;32m\"CD\"\u001b[0m\u001b[1;39m,\n              \u001b[0m\u001b[34;1m\"track\"\u001b[0m\u001b[1;39m: \u001b[0m\u001b[1;39m[\n                \u001b[1;39m{\n                  \u001b[0m\u001b[34;1m\"id\"\u001b[0m\u001b[1;39m: \u001b[0m\u001b[0;32m\"729c755f-2cd7-402c-bcd2-17265db47089\"\u001b[0m\u001b[1;39m,\n                  \u001b[0m\u001b[34;1m\"number\"\u001b[0m\u001b[1;39m: \u001b[0m\u001b[0;32m\"5\"\u001b[0m\u001b[1;39m,\n                  \u001b[0m\u001b[34;1m\"title\"\u001b[0m\u001b[1;39m: \u001b[0m\u001b[0;32m\"Bad Liar\"\u001b[0m\u001b[1;39m,\n                  \u001b[0m\u001b[34;1m\"length\"\u001b[0m\u001b[1;39m: \u001b[0m\u001b[0;39m261000\u001b[0m\u001b[1;39m\n                \u001b[1;39m}\u001b[0m\u001b[1;39m\n              \u001b[1;39m]\u001b[0m\u001b[1;39m,\n              \u001b[0m\u001b[34;1m\"track-count\"\u001b[0m\u001b[1;39m: \u001b[0m\u001b[0;39m12\u001b[0m\u001b[1;39m,\n              \u001b[0m\u001b[34;1m\"track-offset\"\u001b[0m\u001b[1;39m: \u001b[0m\u001b[0;39m4\u001b[0m\u001b[1;39m\n            \u001b[1;39m}\u001b[0m\u001b[1;39m\n          \u001b[1;39m]\u001b[0m\u001b[1;39m\n        \u001b[1;39m}\u001b[0m\u001b[1;39m,\n        \u001b[1;39m{\n          \u001b[0m\u001b[34;1m\"id\"\u001b[0m\u001b[1;39m: \u001b[0m\u001b[0;32m\"a4c62cc8-f574-4f07-8008-4c363dd9ee9f\"\u001b[0m\u001b[1;39m,\n          \u001b[0m\u001b[34;1m\"status-id\"\u001b[0m\u001b[1;39m: \u001b[0m\u001b[0;32m\"4e304316-386d-3409-af2e-78857eec5cfe\"\u001b[0m\u001b[1;39m,\n          \u001b[0m\u001b[34;1m\"count\"\u001b[0m\u001b[1;39m: \u001b[0m\u001b[0;39m1\u001b[0m\u001b[1;39m,\n          \u001b[0m\u001b[34;1m\"title\"\u001b[0m\u001b[1;39m: \u001b[0m\u001b[0;32m\"Origins\"\u001b[0m\u001b[1;39m,\n          \u001b[0m\u001b[34;1m\"status\"\u001b[0m\u001b[1;39m: \u001b[0m\u001b[0;32m\"Official\"\u001b[0m\u001b[1;39m,\n          \u001b[0m\u001b[34;1m\"disambiguation\"\u001b[0m\u001b[1;39m: \u001b[0m\u001b[0;32m\"deluxe\"\u001b[0m\u001b[1;39m,\n          \u001b[0m\u001b[34;1m\"release-group\"\u001b[0m\u001b[1;39m: \u001b[0m\u001b[1;39m{\n            \u001b[0m\u001b[34;1m\"id\"\u001b[0m\u001b[1;39m: \u001b[0m\u001b[0;32m\"042160ca-6094-42b4-8399-9e0141fa9515\"\u001b[0m\u001b[1;39m,\n            \u001b[0m\u001b[34;1m\"type-id\"\u001b[0m\u001b[1;39m: \u001b[0m\u001b[0;32m\"f529b476-6e62-324f-b0aa-1f3e33d313fc\"\u001b[0m\u001b[1;39m,\n            \u001b[0m\u001b[34;1m\"primary-type-id\"\u001b[0m\u001b[1;39m: \u001b[0m\u001b[0;32m\"f529b476-6e62-324f-b0aa-1f3e33d313fc\"\u001b[0m\u001b[1;39m,\n            \u001b[0m\u001b[34;1m\"title\"\u001b[0m\u001b[1;39m: \u001b[0m\u001b[0;32m\"Origins\"\u001b[0m\u001b[1;39m,\n            \u001b[0m\u001b[34;1m\"primary-type\"\u001b[0m\u001b[1;39m: \u001b[0m\u001b[0;32m\"Album\"\u001b[0m\u001b[1;39m\n          \u001b[1;39m}\u001b[0m\u001b[1;39m,\n          \u001b[0m\u001b[34;1m\"date\"\u001b[0m\u001b[1;39m: \u001b[0m\u001b[0;32m\"2018-11-09\"\u001b[0m\u001b[1;39m,\n          \u001b[0m\u001b[34;1m\"country\"\u001b[0m\u001b[1;39m: \u001b[0m\u001b[0;32m\"XW\"\u001b[0m\u001b[1;39m,\n          \u001b[0m\u001b[34;1m\"release-events\"\u001b[0m\u001b[1;39m: \u001b[0m\u001b[1;39m[\n            \u001b[1;39m{\n              \u001b[0m\u001b[34;1m\"date\"\u001b[0m\u001b[1;39m: \u001b[0m\u001b[0;32m\"2018-11-09\"\u001b[0m\u001b[1;39m,\n              \u001b[0m\u001b[34;1m\"area\"\u001b[0m\u001b[1;39m: \u001b[0m\u001b[1;39m{\n                \u001b[0m\u001b[34;1m\"id\"\u001b[0m\u001b[1;39m: \u001b[0m\u001b[0;32m\"525d4e18-3d00-31b9-a58b-a146a916de8f\"\u001b[0m\u001b[1;39m,\n                \u001b[0m\u001b[34;1m\"name\"\u001b[0m\u001b[1;39m: \u001b[0m\u001b[0;32m\"[Worldwide]\"\u001b[0m\u001b[1;39m,\n                \u001b[0m\u001b[34;1m\"sort-name\"\u001b[0m\u001b[1;39m: \u001b[0m\u001b[0;32m\"[Worldwide]\"\u001b[0m\u001b[1;39m,\n                \u001b[0m\u001b[34;1m\"iso-3166-1-codes\"\u001b[0m\u001b[1;39m: \u001b[0m\u001b[1;39m[\n                  \u001b[0;32m\"XW\"\u001b[0m\u001b[1;39m\n                \u001b[1;39m]\u001b[0m\u001b[1;39m\n              \u001b[1;39m}\u001b[0m\u001b[1;39m\n            \u001b[1;39m}\u001b[0m\u001b[1;39m\n          \u001b[1;39m]\u001b[0m\u001b[1;39m,\n          \u001b[0m\u001b[34;1m\"track-count\"\u001b[0m\u001b[1;39m: \u001b[0m\u001b[0;39m15\u001b[0m\u001b[1;39m,\n          \u001b[0m\u001b[34;1m\"media\"\u001b[0m\u001b[1;39m: \u001b[0m\u001b[1;39m[\n            \u001b[1;39m{\n              \u001b[0m\u001b[34;1m\"position\"\u001b[0m\u001b[1;39m: \u001b[0m\u001b[0;39m1\u001b[0m\u001b[1;39m,\n              \u001b[0m\u001b[34;1m\"format\"\u001b[0m\u001b[1;39m: \u001b[0m\u001b[0;32m\"Digital Media\"\u001b[0m\u001b[1;39m,\n              \u001b[0m\u001b[34;1m\"track\"\u001b[0m\u001b[1;39m: \u001b[0m\u001b[1;39m[\n                \u001b[1;39m{\n                  \u001b[0m\u001b[34;1m\"id\"\u001b[0m\u001b[1;39m: \u001b[0m\u001b[0;32m\"f146b5bb-92ac-4129-87f9-488f5ec4f209\"\u001b[0m\u001b[1;39m,\n                  \u001b[0m\u001b[34;1m\"number\"\u001b[0m\u001b[1;39m: \u001b[0m\u001b[0;32m\"5\"\u001b[0m\u001b[1;39m,\n                  \u001b[0m\u001b[34;1m\"title\"\u001b[0m\u001b[1;39m: \u001b[0m\u001b[0;32m\"Bad Liar\"\u001b[0m\u001b[1;39m,\n                  \u001b[0m\u001b[34;1m\"length\"\u001b[0m\u001b[1;39m: \u001b[0m\u001b[0;39m261000\u001b[0m\u001b[1;39m\n                \u001b[1;39m}\u001b[0m\u001b[1;39m\n              \u001b[1;39m]\u001b[0m\u001b[1;39m,\n              \u001b[0m\u001b[34;1m\"track-count\"\u001b[0m\u001b[1;39m: \u001b[0m\u001b[0;39m15\u001b[0m\u001b[1;39m,\n              \u001b[0m\u001b[34;1m\"track-offset\"\u001b[0m\u001b[1;39m: \u001b[0m\u001b[0;39m4\u001b[0m\u001b[1;39m\n            \u001b[1;39m}\u001b[0m\u001b[1;39m\n          \u001b[1;39m]\u001b[0m\u001b[1;39m\n        \u001b[1;39m}\u001b[0m\u001b[1;39m,\n        \u001b[1;39m{\n          \u001b[0m\u001b[34;1m\"id\"\u001b[0m\u001b[1;39m: \u001b[0m\u001b[0;32m\"178d14c1-8cc4-4170-8f8d-404db7c1e7a5\"\u001b[0m\u001b[1;39m,\n          \u001b[0m\u001b[34;1m\"status-id\"\u001b[0m\u001b[1;39m: \u001b[0m\u001b[0;32m\"4e304316-386d-3409-af2e-78857eec5cfe\"\u001b[0m\u001b[1;39m,\n          \u001b[0m\u001b[34;1m\"count\"\u001b[0m\u001b[1;39m: \u001b[0m\u001b[0;39m1\u001b[0m\u001b[1;39m,\n          \u001b[0m\u001b[34;1m\"title\"\u001b[0m\u001b[1;39m: \u001b[0m\u001b[0;32m\"Origins (international deluxe)\"\u001b[0m\u001b[1;39m,\n          \u001b[0m\u001b[34;1m\"status\"\u001b[0m\u001b[1;39m: \u001b[0m\u001b[0;32m\"Official\"\u001b[0m\u001b[1;39m,\n          \u001b[0m\u001b[34;1m\"release-group\"\u001b[0m\u001b[1;39m: \u001b[0m\u001b[1;39m{\n            \u001b[0m\u001b[34;1m\"id\"\u001b[0m\u001b[1;39m: \u001b[0m\u001b[0;32m\"042160ca-6094-42b4-8399-9e0141fa9515\"\u001b[0m\u001b[1;39m,\n            \u001b[0m\u001b[34;1m\"type-id\"\u001b[0m\u001b[1;39m: \u001b[0m\u001b[0;32m\"f529b476-6e62-324f-b0aa-1f3e33d313fc\"\u001b[0m\u001b[1;39m,\n            \u001b[0m\u001b[34;1m\"primary-type-id\"\u001b[0m\u001b[1;39m: \u001b[0m\u001b[0;32m\"f529b476-6e62-324f-b0aa-1f3e33d313fc\"\u001b[0m\u001b[1;39m,\n            \u001b[0m\u001b[34;1m\"title\"\u001b[0m\u001b[1;39m: \u001b[0m\u001b[0;32m\"Origins\"\u001b[0m\u001b[1;39m,\n            \u001b[0m\u001b[34;1m\"primary-type\"\u001b[0m\u001b[1;39m: \u001b[0m\u001b[0;32m\"Album\"\u001b[0m\u001b[1;39m\n          \u001b[1;39m}\u001b[0m\u001b[1;39m,\n          \u001b[0m\u001b[34;1m\"date\"\u001b[0m\u001b[1;39m: \u001b[0m\u001b[0;32m\"2018-11-09\"\u001b[0m\u001b[1;39m,\n          \u001b[0m\u001b[34;1m\"country\"\u001b[0m\u001b[1;39m: \u001b[0m\u001b[0;32m\"AU\"\u001b[0m\u001b[1;39m,\n          \u001b[0m\u001b[34;1m\"release-events\"\u001b[0m\u001b[1;39m: \u001b[0m\u001b[1;39m[\n            \u001b[1;39m{\n              \u001b[0m\u001b[34;1m\"date\"\u001b[0m\u001b[1;39m: \u001b[0m\u001b[0;32m\"2018-11-09\"\u001b[0m\u001b[1;39m,\n              \u001b[0m\u001b[34;1m\"area\"\u001b[0m\u001b[1;39m: \u001b[0m\u001b[1;39m{\n                \u001b[0m\u001b[34;1m\"id\"\u001b[0m\u001b[1;39m: \u001b[0m\u001b[0;32m\"106e0bec-b638-3b37-b731-f53d507dc00e\"\u001b[0m\u001b[1;39m,\n                \u001b[0m\u001b[34;1m\"name\"\u001b[0m\u001b[1;39m: \u001b[0m\u001b[0;32m\"Australia\"\u001b[0m\u001b[1;39m,\n                \u001b[0m\u001b[34;1m\"sort-name\"\u001b[0m\u001b[1;39m: \u001b[0m\u001b[0;32m\"Australia\"\u001b[0m\u001b[1;39m,\n                \u001b[0m\u001b[34;1m\"iso-3166-1-codes\"\u001b[0m\u001b[1;39m: \u001b[0m\u001b[1;39m[\n                  \u001b[0;32m\"AU\"\u001b[0m\u001b[1;39m\n                \u001b[1;39m]\u001b[0m\u001b[1;39m\n              \u001b[1;39m}\u001b[0m\u001b[1;39m\n            \u001b[1;39m}\u001b[0m\u001b[1;39m\n          \u001b[1;39m]\u001b[0m\u001b[1;39m,\n          \u001b[0m\u001b[34;1m\"track-count\"\u001b[0m\u001b[1;39m: \u001b[0m\u001b[0;39m16\u001b[0m\u001b[1;39m,\n          \u001b[0m\u001b[34;1m\"media\"\u001b[0m\u001b[1;39m: \u001b[0m\u001b[1;39m[\n            \u001b[1;39m{\n              \u001b[0m\u001b[34;1m\"position\"\u001b[0m\u001b[1;39m: \u001b[0m\u001b[0;39m1\u001b[0m\u001b[1;39m,\n              \u001b[0m\u001b[34;1m\"format\"\u001b[0m\u001b[1;39m: \u001b[0m\u001b[0;32m\"CD\"\u001b[0m\u001b[1;39m,\n              \u001b[0m\u001b[34;1m\"track\"\u001b[0m\u001b[1;39m: \u001b[0m\u001b[1;39m[\n                \u001b[1;39m{\n                  \u001b[0m\u001b[34;1m\"id\"\u001b[0m\u001b[1;39m: \u001b[0m\u001b[0;32m\"af8ac733-044e-4036-91f4-b283d0a07506\"\u001b[0m\u001b[1;39m,\n                  \u001b[0m\u001b[34;1m\"number\"\u001b[0m\u001b[1;39m: \u001b[0m\u001b[0;32m\"5\"\u001b[0m\u001b[1;39m,\n                  \u001b[0m\u001b[34;1m\"title\"\u001b[0m\u001b[1;39m: \u001b[0m\u001b[0;32m\"Bad Liar\"\u001b[0m\u001b[1;39m,\n                  \u001b[0m\u001b[34;1m\"length\"\u001b[0m\u001b[1;39m: \u001b[0m\u001b[0;39m261000\u001b[0m\u001b[1;39m\n                \u001b[1;39m}\u001b[0m\u001b[1;39m\n              \u001b[1;39m]\u001b[0m\u001b[1;39m,\n              \u001b[0m\u001b[34;1m\"track-count\"\u001b[0m\u001b[1;39m: \u001b[0m\u001b[0;39m16\u001b[0m\u001b[1;39m,\n              \u001b[0m\u001b[34;1m\"track-offset\"\u001b[0m\u001b[1;39m: \u001b[0m\u001b[0;39m4\u001b[0m\u001b[1;39m\n            \u001b[1;39m}\u001b[0m\u001b[1;39m\n          \u001b[1;39m]\u001b[0m\u001b[1;39m\n        \u001b[1;39m}\u001b[0m\u001b[1;39m,\n        \u001b[1;39m{\n          \u001b[0m\u001b[34;1m\"id\"\u001b[0m\u001b[1;39m: \u001b[0m\u001b[0;32m\"28adcf65-8c07-4da2-96eb-582943c0327d\"\u001b[0m\u001b[1;39m,\n          \u001b[0m\u001b[34;1m\"status-id\"\u001b[0m\u001b[1;39m: \u001b[0m\u001b[0;32m\"4e304316-386d-3409-af2e-78857eec5cfe\"\u001b[0m\u001b[1;39m,\n          \u001b[0m\u001b[34;1m\"count\"\u001b[0m\u001b[1;39m: \u001b[0m\u001b[0;39m1\u001b[0m\u001b[1;39m,\n          \u001b[0m\u001b[34;1m\"title\"\u001b[0m\u001b[1;39m: \u001b[0m\u001b[0;32m\"Origins\"\u001b[0m\u001b[1;39m,\n          \u001b[0m\u001b[34;1m\"status\"\u001b[0m\u001b[1;39m: \u001b[0m\u001b[0;32m\"Official\"\u001b[0m\u001b[1;39m,\n          \u001b[0m\u001b[34;1m\"disambiguation\"\u001b[0m\u001b[1;39m: \u001b[0m\u001b[0;32m\"Target exclusive\"\u001b[0m\u001b[1;39m,\n          \u001b[0m\u001b[34;1m\"release-group\"\u001b[0m\u001b[1;39m: \u001b[0m\u001b[1;39m{\n            \u001b[0m\u001b[34;1m\"id\"\u001b[0m\u001b[1;39m: \u001b[0m\u001b[0;32m\"042160ca-6094-42b4-8399-9e0141fa9515\"\u001b[0m\u001b[1;39m,\n            \u001b[0m\u001b[34;1m\"type-id\"\u001b[0m\u001b[1;39m: \u001b[0m\u001b[0;32m\"f529b476-6e62-324f-b0aa-1f3e33d313fc\"\u001b[0m\u001b[1;39m,\n            \u001b[0m\u001b[34;1m\"primary-type-id\"\u001b[0m\u001b[1;39m: \u001b[0m\u001b[0;32m\"f529b476-6e62-324f-b0aa-1f3e33d313fc\"\u001b[0m\u001b[1;39m,\n            \u001b[0m\u001b[34;1m\"title\"\u001b[0m\u001b[1;39m: \u001b[0m\u001b[0;32m\"Origins\"\u001b[0m\u001b[1;39m,\n            \u001b[0m\u001b[34;1m\"primary-type\"\u001b[0m\u001b[1;39m: \u001b[0m\u001b[0;32m\"Album\"\u001b[0m\u001b[1;39m\n          \u001b[1;39m}\u001b[0m\u001b[1;39m,\n          \u001b[0m\u001b[34;1m\"date\"\u001b[0m\u001b[1;39m: \u001b[0m\u001b[0;32m\"2018-11-09\"\u001b[0m\u001b[1;39m,\n          \u001b[0m\u001b[34;1m\"country\"\u001b[0m\u001b[1;39m: \u001b[0m\u001b[0;32m\"US\"\u001b[0m\u001b[1;39m,\n          \u001b[0m\u001b[34;1m\"release-events\"\u001b[0m\u001b[1;39m: \u001b[0m\u001b[1;39m[\n            \u001b[1;39m{\n              \u001b[0m\u001b[34;1m\"date\"\u001b[0m\u001b[1;39m: \u001b[0m\u001b[0;32m\"2018-11-09\"\u001b[0m\u001b[1;39m,\n              \u001b[0m\u001b[34;1m\"area\"\u001b[0m\u001b[1;39m: \u001b[0m\u001b[1;39m{\n                \u001b[0m\u001b[34;1m\"id\"\u001b[0m\u001b[1;39m: \u001b[0m\u001b[0;32m\"489ce91b-6658-3307-9877-795b68554c98\"\u001b[0m\u001b[1;39m,\n                \u001b[0m\u001b[34;1m\"name\"\u001b[0m\u001b[1;39m: \u001b[0m\u001b[0;32m\"United States\"\u001b[0m\u001b[1;39m,\n                \u001b[0m\u001b[34;1m\"sort-name\"\u001b[0m\u001b[1;39m: \u001b[0m\u001b[0;32m\"United States\"\u001b[0m\u001b[1;39m,\n                \u001b[0m\u001b[34;1m\"iso-3166-1-codes\"\u001b[0m\u001b[1;39m: \u001b[0m\u001b[1;39m[\n                  \u001b[0;32m\"US\"\u001b[0m\u001b[1;39m\n                \u001b[1;39m]\u001b[0m\u001b[1;39m\n              \u001b[1;39m}\u001b[0m\u001b[1;39m\n            \u001b[1;39m}\u001b[0m\u001b[1;39m\n          \u001b[1;39m]\u001b[0m\u001b[1;39m,\n          \u001b[0m\u001b[34;1m\"track-count\"\u001b[0m\u001b[1;39m: \u001b[0m\u001b[0;39m15\u001b[0m\u001b[1;39m,\n          \u001b[0m\u001b[34;1m\"media\"\u001b[0m\u001b[1;39m: \u001b[0m\u001b[1;39m[\n            \u001b[1;39m{\n              \u001b[0m\u001b[34;1m\"position\"\u001b[0m\u001b[1;39m: \u001b[0m\u001b[0;39m1\u001b[0m\u001b[1;39m,\n              \u001b[0m\u001b[34;1m\"format\"\u001b[0m\u001b[1;39m: \u001b[0m\u001b[0;32m\"CD\"\u001b[0m\u001b[1;39m,\n              \u001b[0m\u001b[34;1m\"track\"\u001b[0m\u001b[1;39m: \u001b[0m\u001b[1;39m[\n                \u001b[1;39m{\n                  \u001b[0m\u001b[34;1m\"id\"\u001b[0m\u001b[1;39m: \u001b[0m\u001b[0;32m\"a648854b-cb98-4fe0-a4d7-137a4c6c45a7\"\u001b[0m\u001b[1;39m,\n                  \u001b[0m\u001b[34;1m\"number\"\u001b[0m\u001b[1;39m: \u001b[0m\u001b[0;32m\"5\"\u001b[0m\u001b[1;39m,\n                  \u001b[0m\u001b[34;1m\"title\"\u001b[0m\u001b[1;39m: \u001b[0m\u001b[0;32m\"Bad Liar\"\u001b[0m\u001b[1;39m,\n                  \u001b[0m\u001b[34;1m\"length\"\u001b[0m\u001b[1;39m: \u001b[0m\u001b[0;39m261000\u001b[0m\u001b[1;39m\n                \u001b[1;39m}\u001b[0m\u001b[1;39m\n              \u001b[1;39m]\u001b[0m\u001b[1;39m,\n              \u001b[0m\u001b[34;1m\"track-count\"\u001b[0m\u001b[1;39m: \u001b[0m\u001b[0;39m15\u001b[0m\u001b[1;39m,\n              \u001b[0m\u001b[34;1m\"track-offset\"\u001b[0m\u001b[1;39m: \u001b[0m\u001b[0;39m4\u001b[0m\u001b[1;39m\n            \u001b[1;39m}\u001b[0m\u001b[1;39m\n          \u001b[1;39m]\u001b[0m\u001b[1;39m\n        \u001b[1;39m}\u001b[0m\u001b[1;39m,\n        \u001b[1;39m{\n          \u001b[0m\u001b[34;1m\"id\"\u001b[0m\u001b[1;39m: \u001b[0m\u001b[0;32m\"3743dd50-a33f-44b6-bf71-613d249fabe3\"\u001b[0m\u001b[1;39m,\n          \u001b[0m\u001b[34;1m\"status-id\"\u001b[0m\u001b[1;39m: \u001b[0m\u001b[0;32m\"4e304316-386d-3409-af2e-78857eec5cfe\"\u001b[0m\u001b[1;39m,\n          \u001b[0m\u001b[34;1m\"count\"\u001b[0m\u001b[1;39m: \u001b[0m\u001b[0;39m1\u001b[0m\u001b[1;39m,\n          \u001b[0m\u001b[34;1m\"title\"\u001b[0m\u001b[1;39m: \u001b[0m\u001b[0;32m\"Origins\"\u001b[0m\u001b[1;39m,\n          \u001b[0m\u001b[34;1m\"status\"\u001b[0m\u001b[1;39m: \u001b[0m\u001b[0;32m\"Official\"\u001b[0m\u001b[1;39m,\n          \u001b[0m\u001b[34;1m\"release-group\"\u001b[0m\u001b[1;39m: \u001b[0m\u001b[1;39m{\n            \u001b[0m\u001b[34;1m\"id\"\u001b[0m\u001b[1;39m: \u001b[0m\u001b[0;32m\"042160ca-6094-42b4-8399-9e0141fa9515\"\u001b[0m\u001b[1;39m,\n            \u001b[0m\u001b[34;1m\"type-id\"\u001b[0m\u001b[1;39m: \u001b[0m\u001b[0;32m\"f529b476-6e62-324f-b0aa-1f3e33d313fc\"\u001b[0m\u001b[1;39m,\n            \u001b[0m\u001b[34;1m\"primary-type-id\"\u001b[0m\u001b[1;39m: \u001b[0m\u001b[0;32m\"f529b476-6e62-324f-b0aa-1f3e33d313fc\"\u001b[0m\u001b[1;39m,\n            \u001b[0m\u001b[34;1m\"title\"\u001b[0m\u001b[1;39m: \u001b[0m\u001b[0;32m\"Origins\"\u001b[0m\u001b[1;39m,\n            \u001b[0m\u001b[34;1m\"primary-type\"\u001b[0m\u001b[1;39m: \u001b[0m\u001b[0;32m\"Album\"\u001b[0m\u001b[1;39m\n          \u001b[1;39m}\u001b[0m\u001b[1;39m,\n          \u001b[0m\u001b[34;1m\"date\"\u001b[0m\u001b[1;39m: \u001b[0m\u001b[0;32m\"2018-11-09\"\u001b[0m\u001b[1;39m,\n          \u001b[0m\u001b[34;1m\"country\"\u001b[0m\u001b[1;39m: \u001b[0m\u001b[0;32m\"US\"\u001b[0m\u001b[1;39m,\n          \u001b[0m\u001b[34;1m\"release-events\"\u001b[0m\u001b[1;39m: \u001b[0m\u001b[1;39m[\n            \u001b[1;39m{\n              \u001b[0m\u001b[34;1m\"date\"\u001b[0m\u001b[1;39m: \u001b[0m\u001b[0;32m\"2018-11-09\"\u001b[0m\u001b[1;39m,\n              \u001b[0m\u001b[34;1m\"area\"\u001b[0m\u001b[1;39m: \u001b[0m\u001b[1;39m{\n                \u001b[0m\u001b[34;1m\"id\"\u001b[0m\u001b[1;39m: \u001b[0m\u001b[0;32m\"489ce91b-6658-3307-9877-795b68554c98\"\u001b[0m\u001b[1;39m,\n                \u001b[0m\u001b[34;1m\"name\"\u001b[0m\u001b[1;39m: \u001b[0m\u001b[0;32m\"United States\"\u001b[0m\u001b[1;39m,\n                \u001b[0m\u001b[34;1m\"sort-name\"\u001b[0m\u001b[1;39m: \u001b[0m\u001b[0;32m\"United States\"\u001b[0m\u001b[1;39m,\n                \u001b[0m\u001b[34;1m\"iso-3166-1-codes\"\u001b[0m\u001b[1;39m: \u001b[0m\u001b[1;39m[\n                  \u001b[0;32m\"US\"\u001b[0m\u001b[1;39m\n                \u001b[1;39m]\u001b[0m\u001b[1;39m\n              \u001b[1;39m}\u001b[0m\u001b[1;39m\n            \u001b[1;39m}\u001b[0m\u001b[1;39m\n          \u001b[1;39m]\u001b[0m\u001b[1;39m,\n          \u001b[0m\u001b[34;1m\"track-count\"\u001b[0m\u001b[1;39m: \u001b[0m\u001b[0;39m12\u001b[0m\u001b[1;39m,\n          \u001b[0m\u001b[34;1m\"media\"\u001b[0m\u001b[1;39m: \u001b[0m\u001b[1;39m[\n            \u001b[1;39m{\n              \u001b[0m\u001b[34;1m\"position\"\u001b[0m\u001b[1;39m: \u001b[0m\u001b[0;39m1\u001b[0m\u001b[1;39m,\n              \u001b[0m\u001b[34;1m\"format\"\u001b[0m\u001b[1;39m: \u001b[0m\u001b[0;32m\"CD\"\u001b[0m\u001b[1;39m,\n              \u001b[0m\u001b[34;1m\"track\"\u001b[0m\u001b[1;39m: \u001b[0m\u001b[1;39m[\n                \u001b[1;39m{\n                  \u001b[0m\u001b[34;1m\"id\"\u001b[0m\u001b[1;39m: \u001b[0m\u001b[0;32m\"b15a4bee-4dd2-462b-a267-420a96f09122\"\u001b[0m\u001b[1;39m,\n                  \u001b[0m\u001b[34;1m\"number\"\u001b[0m\u001b[1;39m: \u001b[0m\u001b[0;32m\"5\"\u001b[0m\u001b[1;39m,\n                  \u001b[0m\u001b[34;1m\"title\"\u001b[0m\u001b[1;39m: \u001b[0m\u001b[0;32m\"Bad Liar\"\u001b[0m\u001b[1;39m,\n                  \u001b[0m\u001b[34;1m\"length\"\u001b[0m\u001b[1;39m: \u001b[0m\u001b[0;39m261000\u001b[0m\u001b[1;39m\n                \u001b[1;39m}\u001b[0m\u001b[1;39m\n              \u001b[1;39m]\u001b[0m\u001b[1;39m,\n              \u001b[0m\u001b[34;1m\"track-count\"\u001b[0m\u001b[1;39m: \u001b[0m\u001b[0;39m12\u001b[0m\u001b[1;39m,\n              \u001b[0m\u001b[34;1m\"track-offset\"\u001b[0m\u001b[1;39m: \u001b[0m\u001b[0;39m4\u001b[0m\u001b[1;39m\n            \u001b[1;39m}\u001b[0m\u001b[1;39m\n          \u001b[1;39m]\u001b[0m\u001b[1;39m\n        \u001b[1;39m}\u001b[0m\u001b[1;39m,\n        \u001b[1;39m{\n          \u001b[0m\u001b[34;1m\"id\"\u001b[0m\u001b[1;39m: \u001b[0m\u001b[0;32m\"6579a374-1581-4b65-9ac8-cc18b29f1efa\"\u001b[0m\u001b[1;39m,\n          \u001b[0m\u001b[34;1m\"status-id\"\u001b[0m\u001b[1;39m: \u001b[0m\u001b[0;32m\"4e304316-386d-3409-af2e-78857eec5cfe\"\u001b[0m\u001b[1;39m,\n          \u001b[0m\u001b[34;1m\"count\"\u001b[0m\u001b[1;39m: \u001b[0m\u001b[0;39m1\u001b[0m\u001b[1;39m,\n          \u001b[0m\u001b[34;1m\"title\"\u001b[0m\u001b[1;39m: \u001b[0m\u001b[0;32m\"Bad Liar\"\u001b[0m\u001b[1;39m,\n          \u001b[0m\u001b[34;1m\"status\"\u001b[0m\u001b[1;39m: \u001b[0m\u001b[0;32m\"Official\"\u001b[0m\u001b[1;39m,\n          \u001b[0m\u001b[34;1m\"release-group\"\u001b[0m\u001b[1;39m: \u001b[0m\u001b[1;39m{\n            \u001b[0m\u001b[34;1m\"id\"\u001b[0m\u001b[1;39m: \u001b[0m\u001b[0;32m\"168feb63-6d38-4f4d-8dc8-18ec57515485\"\u001b[0m\u001b[1;39m,\n            \u001b[0m\u001b[34;1m\"type-id\"\u001b[0m\u001b[1;39m: \u001b[0m\u001b[0;32m\"d6038452-8ee0-3f68-affc-2de9a1ede0b9\"\u001b[0m\u001b[1;39m,\n            \u001b[0m\u001b[34;1m\"primary-type-id\"\u001b[0m\u001b[1;39m: \u001b[0m\u001b[0;32m\"d6038452-8ee0-3f68-affc-2de9a1ede0b9\"\u001b[0m\u001b[1;39m,\n            \u001b[0m\u001b[34;1m\"title\"\u001b[0m\u001b[1;39m: \u001b[0m\u001b[0;32m\"Bad Liar\"\u001b[0m\u001b[1;39m,\n            \u001b[0m\u001b[34;1m\"primary-type\"\u001b[0m\u001b[1;39m: \u001b[0m\u001b[0;32m\"Single\"\u001b[0m\u001b[1;39m\n          \u001b[1;39m}\u001b[0m\u001b[1;39m,\n          \u001b[0m\u001b[34;1m\"date\"\u001b[0m\u001b[1;39m: \u001b[0m\u001b[0;32m\"2018-11-06\"\u001b[0m\u001b[1;39m,\n          \u001b[0m\u001b[34;1m\"country\"\u001b[0m\u001b[1;39m: \u001b[0m\u001b[0;32m\"XW\"\u001b[0m\u001b[1;39m,\n          \u001b[0m\u001b[34;1m\"release-events\"\u001b[0m\u001b[1;39m: \u001b[0m\u001b[1;39m[\n            \u001b[1;39m{\n              \u001b[0m\u001b[34;1m\"date\"\u001b[0m\u001b[1;39m: \u001b[0m\u001b[0;32m\"2018-11-06\"\u001b[0m\u001b[1;39m,\n              \u001b[0m\u001b[34;1m\"area\"\u001b[0m\u001b[1;39m: \u001b[0m\u001b[1;39m{\n                \u001b[0m\u001b[34;1m\"id\"\u001b[0m\u001b[1;39m: \u001b[0m\u001b[0;32m\"525d4e18-3d00-31b9-a58b-a146a916de8f\"\u001b[0m\u001b[1;39m,\n                \u001b[0m\u001b[34;1m\"name\"\u001b[0m\u001b[1;39m: \u001b[0m\u001b[0;32m\"[Worldwide]\"\u001b[0m\u001b[1;39m,\n                \u001b[0m\u001b[34;1m\"sort-name\"\u001b[0m\u001b[1;39m: \u001b[0m\u001b[0;32m\"[Worldwide]\"\u001b[0m\u001b[1;39m,\n                \u001b[0m\u001b[34;1m\"iso-3166-1-codes\"\u001b[0m\u001b[1;39m: \u001b[0m\u001b[1;39m[\n                  \u001b[0;32m\"XW\"\u001b[0m\u001b[1;39m\n                \u001b[1;39m]\u001b[0m\u001b[1;39m\n              \u001b[1;39m}\u001b[0m\u001b[1;39m\n            \u001b[1;39m}\u001b[0m\u001b[1;39m\n          \u001b[1;39m]\u001b[0m\u001b[1;39m,\n          \u001b[0m\u001b[34;1m\"track-count\"\u001b[0m\u001b[1;39m: \u001b[0m\u001b[0;39m1\u001b[0m\u001b[1;39m,\n          \u001b[0m\u001b[34;1m\"media\"\u001b[0m\u001b[1;39m: \u001b[0m\u001b[1;39m[\n            \u001b[1;39m{\n              \u001b[0m\u001b[34;1m\"position\"\u001b[0m\u001b[1;39m: \u001b[0m\u001b[0;39m1\u001b[0m\u001b[1;39m,\n              \u001b[0m\u001b[34;1m\"format\"\u001b[0m\u001b[1;39m: \u001b[0m\u001b[0;32m\"Digital Media\"\u001b[0m\u001b[1;39m,\n              \u001b[0m\u001b[34;1m\"track\"\u001b[0m\u001b[1;39m: \u001b[0m\u001b[1;39m[\n                \u001b[1;39m{\n                  \u001b[0m\u001b[34;1m\"id\"\u001b[0m\u001b[1;39m: \u001b[0m\u001b[0;32m\"1eab2532-43b0-4cec-9528-588b0103272e\"\u001b[0m\u001b[1;39m,\n                  \u001b[0m\u001b[34;1m\"number\"\u001b[0m\u001b[1;39m: \u001b[0m\u001b[0;32m\"1\"\u001b[0m\u001b[1;39m,\n                  \u001b[0m\u001b[34;1m\"title\"\u001b[0m\u001b[1;39m: \u001b[0m\u001b[0;32m\"Bad Liar\"\u001b[0m\u001b[1;39m,\n                  \u001b[0m\u001b[34;1m\"length\"\u001b[0m\u001b[1;39m: \u001b[0m\u001b[0;39m260000\u001b[0m\u001b[1;39m\n                \u001b[1;39m}\u001b[0m\u001b[1;39m\n              \u001b[1;39m]\u001b[0m\u001b[1;39m,\n              \u001b[0m\u001b[34;1m\"track-count\"\u001b[0m\u001b[1;39m: \u001b[0m\u001b[0;39m1\u001b[0m\u001b[1;39m,\n              \u001b[0m\u001b[34;1m\"track-offset\"\u001b[0m\u001b[1;39m: \u001b[0m\u001b[0;39m0\u001b[0m\u001b[1;39m\n            \u001b[1;39m}\u001b[0m\u001b[1;39m\n          \u001b[1;39m]\u001b[0m\u001b[1;39m\n        \u001b[1;39m}\u001b[0m\u001b[1;39m,\n        \u001b[1;39m{\n          \u001b[0m\u001b[34;1m\"id\"\u001b[0m\u001b[1;39m: \u001b[0m\u001b[0;32m\"a4e3eab4-02d9-4c0b-b117-f4d6efb2c27a\"\u001b[0m\u001b[1;39m,\n          \u001b[0m\u001b[34;1m\"status-id\"\u001b[0m\u001b[1;39m: \u001b[0m\u001b[0;32m\"4e304316-386d-3409-af2e-78857eec5cfe\"\u001b[0m\u001b[1;39m,\n          \u001b[0m\u001b[34;1m\"count\"\u001b[0m\u001b[1;39m: \u001b[0m\u001b[0;39m1\u001b[0m\u001b[1;39m,\n          \u001b[0m\u001b[34;1m\"title\"\u001b[0m\u001b[1;39m: \u001b[0m\u001b[0;32m\"Origins\"\u001b[0m\u001b[1;39m,\n          \u001b[0m\u001b[34;1m\"status\"\u001b[0m\u001b[1;39m: \u001b[0m\u001b[0;32m\"Official\"\u001b[0m\u001b[1;39m,\n          \u001b[0m\u001b[34;1m\"release-group\"\u001b[0m\u001b[1;39m: \u001b[0m\u001b[1;39m{\n            \u001b[0m\u001b[34;1m\"id\"\u001b[0m\u001b[1;39m: \u001b[0m\u001b[0;32m\"042160ca-6094-42b4-8399-9e0141fa9515\"\u001b[0m\u001b[1;39m,\n            \u001b[0m\u001b[34;1m\"type-id\"\u001b[0m\u001b[1;39m: \u001b[0m\u001b[0;32m\"f529b476-6e62-324f-b0aa-1f3e33d313fc\"\u001b[0m\u001b[1;39m,\n            \u001b[0m\u001b[34;1m\"primary-type-id\"\u001b[0m\u001b[1;39m: \u001b[0m\u001b[0;32m\"f529b476-6e62-324f-b0aa-1f3e33d313fc\"\u001b[0m\u001b[1;39m,\n            \u001b[0m\u001b[34;1m\"title\"\u001b[0m\u001b[1;39m: \u001b[0m\u001b[0;32m\"Origins\"\u001b[0m\u001b[1;39m,\n            \u001b[0m\u001b[34;1m\"primary-type\"\u001b[0m\u001b[1;39m: \u001b[0m\u001b[0;32m\"Album\"\u001b[0m\u001b[1;39m\n          \u001b[1;39m}\u001b[0m\u001b[1;39m,\n          \u001b[0m\u001b[34;1m\"date\"\u001b[0m\u001b[1;39m: \u001b[0m\u001b[0;32m\"2018-11-09\"\u001b[0m\u001b[1;39m,\n          \u001b[0m\u001b[34;1m\"country\"\u001b[0m\u001b[1;39m: \u001b[0m\u001b[0;32m\"XW\"\u001b[0m\u001b[1;39m,\n          \u001b[0m\u001b[34;1m\"release-events\"\u001b[0m\u001b[1;39m: \u001b[0m\u001b[1;39m[\n            \u001b[1;39m{\n              \u001b[0m\u001b[34;1m\"date\"\u001b[0m\u001b[1;39m: \u001b[0m\u001b[0;32m\"2018-11-09\"\u001b[0m\u001b[1;39m,\n              \u001b[0m\u001b[34;1m\"area\"\u001b[0m\u001b[1;39m: \u001b[0m\u001b[1;39m{\n                \u001b[0m\u001b[34;1m\"id\"\u001b[0m\u001b[1;39m: \u001b[0m\u001b[0;32m\"525d4e18-3d00-31b9-a58b-a146a916de8f\"\u001b[0m\u001b[1;39m,\n                \u001b[0m\u001b[34;1m\"name\"\u001b[0m\u001b[1;39m: \u001b[0m\u001b[0;32m\"[Worldwide]\"\u001b[0m\u001b[1;39m,\n                \u001b[0m\u001b[34;1m\"sort-name\"\u001b[0m\u001b[1;39m: \u001b[0m\u001b[0;32m\"[Worldwide]\"\u001b[0m\u001b[1;39m,\n                \u001b[0m\u001b[34;1m\"iso-3166-1-codes\"\u001b[0m\u001b[1;39m: \u001b[0m\u001b[1;39m[\n                  \u001b[0;32m\"XW\"\u001b[0m\u001b[1;39m\n                \u001b[1;39m]\u001b[0m\u001b[1;39m\n              \u001b[1;39m}\u001b[0m\u001b[1;39m\n            \u001b[1;39m}\u001b[0m\u001b[1;39m\n          \u001b[1;39m]\u001b[0m\u001b[1;39m,\n          \u001b[0m\u001b[34;1m\"track-count\"\u001b[0m\u001b[1;39m: \u001b[0m\u001b[0;39m12\u001b[0m\u001b[1;39m,\n          \u001b[0m\u001b[34;1m\"media\"\u001b[0m\u001b[1;39m: \u001b[0m\u001b[1;39m[\n            \u001b[1;39m{\n              \u001b[0m\u001b[34;1m\"position\"\u001b[0m\u001b[1;39m: \u001b[0m\u001b[0;39m1\u001b[0m\u001b[1;39m,\n              \u001b[0m\u001b[34;1m\"format\"\u001b[0m\u001b[1;39m: \u001b[0m\u001b[0;32m\"Digital Media\"\u001b[0m\u001b[1;39m,\n              \u001b[0m\u001b[34;1m\"track\"\u001b[0m\u001b[1;39m: \u001b[0m\u001b[1;39m[\n                \u001b[1;39m{\n                  \u001b[0m\u001b[34;1m\"id\"\u001b[0m\u001b[1;39m: \u001b[0m\u001b[0;32m\"77a0c5dd-64d0-44eb-82ee-99ffbb336ef8\"\u001b[0m\u001b[1;39m,\n                  \u001b[0m\u001b[34;1m\"number\"\u001b[0m\u001b[1;39m: \u001b[0m\u001b[0;32m\"5\"\u001b[0m\u001b[1;39m,\n                  \u001b[0m\u001b[34;1m\"title\"\u001b[0m\u001b[1;39m: \u001b[0m\u001b[0;32m\"Bad Liar\"\u001b[0m\u001b[1;39m,\n                  \u001b[0m\u001b[34;1m\"length\"\u001b[0m\u001b[1;39m: \u001b[0m\u001b[0;39m261000\u001b[0m\u001b[1;39m\n                \u001b[1;39m}\u001b[0m\u001b[1;39m\n              \u001b[1;39m]\u001b[0m\u001b[1;39m,\n              \u001b[0m\u001b[34;1m\"track-count\"\u001b[0m\u001b[1;39m: \u001b[0m\u001b[0;39m12\u001b[0m\u001b[1;39m,\n              \u001b[0m\u001b[34;1m\"track-offset\"\u001b[0m\u001b[1;39m: \u001b[0m\u001b[0;39m4\u001b[0m\u001b[1;39m\n            \u001b[1;39m}\u001b[0m\u001b[1;39m\n          \u001b[1;39m]\u001b[0m\u001b[1;39m\n        \u001b[1;39m}\u001b[0m\u001b[1;39m,\n        \u001b[1;39m{\n          \u001b[0m\u001b[34;1m\"id\"\u001b[0m\u001b[1;39m: \u001b[0m\u001b[0;32m\"c9a6f7c0-e160-4ba1-aca9-05b465a78bb8\"\u001b[0m\u001b[1;39m,\n          \u001b[0m\u001b[34;1m\"status-id\"\u001b[0m\u001b[1;39m: \u001b[0m\u001b[0;32m\"4e304316-386d-3409-af2e-78857eec5cfe\"\u001b[0m\u001b[1;39m,\n          \u001b[0m\u001b[34;1m\"count\"\u001b[0m\u001b[1;39m: \u001b[0m\u001b[0;39m1\u001b[0m\u001b[1;39m,\n          \u001b[0m\u001b[34;1m\"title\"\u001b[0m\u001b[1;39m: \u001b[0m\u001b[0;32m\"Origins\"\u001b[0m\u001b[1;39m,\n          \u001b[0m\u001b[34;1m\"status\"\u001b[0m\u001b[1;39m: \u001b[0m\u001b[0;32m\"Official\"\u001b[0m\u001b[1;39m,\n          \u001b[0m\u001b[34;1m\"disambiguation\"\u001b[0m\u001b[1;39m: \u001b[0m\u001b[0;32m\"deluxe\"\u001b[0m\u001b[1;39m,\n          \u001b[0m\u001b[34;1m\"release-group\"\u001b[0m\u001b[1;39m: \u001b[0m\u001b[1;39m{\n            \u001b[0m\u001b[34;1m\"id\"\u001b[0m\u001b[1;39m: \u001b[0m\u001b[0;32m\"042160ca-6094-42b4-8399-9e0141fa9515\"\u001b[0m\u001b[1;39m,\n            \u001b[0m\u001b[34;1m\"type-id\"\u001b[0m\u001b[1;39m: \u001b[0m\u001b[0;32m\"f529b476-6e62-324f-b0aa-1f3e33d313fc\"\u001b[0m\u001b[1;39m,\n            \u001b[0m\u001b[34;1m\"primary-type-id\"\u001b[0m\u001b[1;39m: \u001b[0m\u001b[0;32m\"f529b476-6e62-324f-b0aa-1f3e33d313fc\"\u001b[0m\u001b[1;39m,\n            \u001b[0m\u001b[34;1m\"title\"\u001b[0m\u001b[1;39m: \u001b[0m\u001b[0;32m\"Origins\"\u001b[0m\u001b[1;39m,\n            \u001b[0m\u001b[34;1m\"primary-type\"\u001b[0m\u001b[1;39m: \u001b[0m\u001b[0;32m\"Album\"\u001b[0m\u001b[1;39m\n          \u001b[1;39m}\u001b[0m\u001b[1;39m,\n          \u001b[0m\u001b[34;1m\"date\"\u001b[0m\u001b[1;39m: \u001b[0m\u001b[0;32m\"2018-11-09\"\u001b[0m\u001b[1;39m,\n          \u001b[0m\u001b[34;1m\"country\"\u001b[0m\u001b[1;39m: \u001b[0m\u001b[0;32m\"XW\"\u001b[0m\u001b[1;39m,\n          \u001b[0m\u001b[34;1m\"release-events\"\u001b[0m\u001b[1;39m: \u001b[0m\u001b[1;39m[\n            \u001b[1;39m{\n              \u001b[0m\u001b[34;1m\"date\"\u001b[0m\u001b[1;39m: \u001b[0m\u001b[0;32m\"2018-11-09\"\u001b[0m\u001b[1;39m,\n              \u001b[0m\u001b[34;1m\"area\"\u001b[0m\u001b[1;39m: \u001b[0m\u001b[1;39m{\n                \u001b[0m\u001b[34;1m\"id\"\u001b[0m\u001b[1;39m: \u001b[0m\u001b[0;32m\"525d4e18-3d00-31b9-a58b-a146a916de8f\"\u001b[0m\u001b[1;39m,\n                \u001b[0m\u001b[34;1m\"name\"\u001b[0m\u001b[1;39m: \u001b[0m\u001b[0;32m\"[Worldwide]\"\u001b[0m\u001b[1;39m,\n                \u001b[0m\u001b[34;1m\"sort-name\"\u001b[0m\u001b[1;39m: \u001b[0m\u001b[0;32m\"[Worldwide]\"\u001b[0m\u001b[1;39m,\n                \u001b[0m\u001b[34;1m\"iso-3166-1-codes\"\u001b[0m\u001b[1;39m: \u001b[0m\u001b[1;39m[\n                  \u001b[0;32m\"XW\"\u001b[0m\u001b[1;39m\n                \u001b[1;39m]\u001b[0m\u001b[1;39m\n              \u001b[1;39m}\u001b[0m\u001b[1;39m\n            \u001b[1;39m}\u001b[0m\u001b[1;39m\n          \u001b[1;39m]\u001b[0m\u001b[1;39m,\n          \u001b[0m\u001b[34;1m\"track-count\"\u001b[0m\u001b[1;39m: \u001b[0m\u001b[0;39m15\u001b[0m\u001b[1;39m,\n          \u001b[0m\u001b[34;1m\"media\"\u001b[0m\u001b[1;39m: \u001b[0m\u001b[1;39m[\n            \u001b[1;39m{\n              \u001b[0m\u001b[34;1m\"position\"\u001b[0m\u001b[1;39m: \u001b[0m\u001b[0;39m1\u001b[0m\u001b[1;39m,\n              \u001b[0m\u001b[34;1m\"format\"\u001b[0m\u001b[1;39m: \u001b[0m\u001b[0;32m\"Digital Media\"\u001b[0m\u001b[1;39m,\n              \u001b[0m\u001b[34;1m\"track\"\u001b[0m\u001b[1;39m: \u001b[0m\u001b[1;39m[\n                \u001b[1;39m{\n                  \u001b[0m\u001b[34;1m\"id\"\u001b[0m\u001b[1;39m: \u001b[0m\u001b[0;32m\"a7bb3637-df92-42f0-8188-4c1c7a4a7b9a\"\u001b[0m\u001b[1;39m,\n                  \u001b[0m\u001b[34;1m\"number\"\u001b[0m\u001b[1;39m: \u001b[0m\u001b[0;32m\"5\"\u001b[0m\u001b[1;39m,\n                  \u001b[0m\u001b[34;1m\"title\"\u001b[0m\u001b[1;39m: \u001b[0m\u001b[0;32m\"Bad Liar\"\u001b[0m\u001b[1;39m,\n                  \u001b[0m\u001b[34;1m\"length\"\u001b[0m\u001b[1;39m: \u001b[0m\u001b[0;39m261000\u001b[0m\u001b[1;39m\n                \u001b[1;39m}\u001b[0m\u001b[1;39m\n              \u001b[1;39m]\u001b[0m\u001b[1;39m,\n              \u001b[0m\u001b[34;1m\"track-count\"\u001b[0m\u001b[1;39m: \u001b[0m\u001b[0;39m15\u001b[0m\u001b[1;39m,\n              \u001b[0m\u001b[34;1m\"track-offset\"\u001b[0m\u001b[1;39m: \u001b[0m\u001b[0;39m4\u001b[0m\u001b[1;39m\n            \u001b[1;39m}\u001b[0m\u001b[1;39m\n          \u001b[1;39m]\u001b[0m\u001b[1;39m\n        \u001b[1;39m}\u001b[0m\u001b[1;39m\n      \u001b[1;39m]\u001b[0m\u001b[1;39m,\n      \u001b[0m\u001b[34;1m\"isrcs\"\u001b[0m\u001b[1;39m: \u001b[0m\u001b[1;39m[\n        \u001b[0;32m\"USUM71816161\"\u001b[0m\u001b[1;39m\n      \u001b[1;39m]\u001b[0m\u001b[1;39m,\n      \u001b[0m\u001b[34;1m\"tags\"\u001b[0m\u001b[1;39m: \u001b[0m\u001b[1;39m[\n        \u001b[1;39m{\n          \u001b[0m\u001b[34;1m\"count\"\u001b[0m\u001b[1;39m: \u001b[0m\u001b[0;39m1\u001b[0m\u001b[1;39m,\n          \u001b[0m\u001b[34;1m\"name\"\u001b[0m\u001b[1;39m: \u001b[0m\u001b[0;32m\"pop / rap\"\u001b[0m\u001b[1;39m\n        \u001b[1;39m}\u001b[0m\u001b[1;39m\n      \u001b[1;39m]\u001b[0m\u001b[1;39m\n    \u001b[1;39m}\u001b[0m\u001b[1;39m\n  \u001b[1;39m]\u001b[0m\u001b[1;39m\n\u001b[1;39m}\u001b[0m\n",
          "output_type": "stream"
        }
      ],
      "execution_count": 205
    },
    {
      "cell_type": "code",
      "source": "!jq '.recordings' < tracks_raw.json >tracks_rec.json\n!jq '.[]|.title'< tracks_rec.json > tracks.json",
      "metadata": {
        "tags": [],
        "cell_id": "00059-36516bec-9491-4daf-9963-74c941ba8753",
        "deepnote_to_be_reexecuted": false,
        "source_hash": "49efc8a9",
        "execution_millis": 1628,
        "execution_start": 1614880925374,
        "deepnote_cell_type": "code"
      },
      "outputs": [],
      "execution_count": 206
    },
    {
      "cell_type": "code",
      "source": "tracks_file = open(\"tracks.json\")\ntracks = []\nfor line in tracks_file:\n    tracks.append(line.replace('\"','').replace('\\n',''))\nprint(*tracks, sep = \"\\n\")\nsong = tracks[int(input(\"Enter the song (1-10) that you would like to search the lyrics for: \"))-1].replace(' ','%20')",
      "metadata": {
        "tags": [],
        "cell_id": "00061-502895a8-27ec-4aba-90a5-9846ad29f056",
        "deepnote_to_be_reexecuted": false,
        "source_hash": "f53035bb",
        "execution_millis": 8323,
        "execution_start": 1614880929031,
        "deepnote_cell_type": "code"
      },
      "outputs": [
        {
          "name": "stdout",
          "text": "Demons (Imagine Dragons remix)\nDragons\nDream (Jorgen Odegard remix)\nIt's Time (Passion Pit remix)\nDemons\nDemons (KIDinaKORNER remix)\nOn Top of the World (RAC remix)\nWhatever It Takes (Miss Congeniality remix)\nIt's Time (Cherry Cherry Boom Boom remix)\nBad Liar\n",
          "output_type": "stream"
        }
      ],
      "execution_count": 207
    },
    {
      "cell_type": "markdown",
      "source": "Call lyrics.ovh API",
      "metadata": {
        "tags": [],
        "cell_id": "00062-9419abe6-39a5-45c9-a54b-9d5fbec228f1",
        "deepnote_cell_type": "markdown"
      }
    },
    {
      "cell_type": "code",
      "source": "!curl --request GET \"https://api.lyrics.ovh/v1/$artist_name/$song\"",
      "metadata": {
        "tags": [],
        "cell_id": "00064-5cd48e10-0bc8-4c36-a9a4-e566ecb007e5",
        "deepnote_to_be_reexecuted": false,
        "source_hash": "4741aa77",
        "execution_millis": 1295,
        "execution_start": 1614880940115,
        "deepnote_cell_type": "code"
      },
      "outputs": [
        {
          "name": "stdout",
          "text": "{\"lyrics\":\"When the days are cold\\r\\nAnd the cards all fold\\r\\nAnd the saints we see\\r\\nAre all made of gold\\r\\nWhen your dreams all fail\\n\\nAnd the ones we hail\\n\\nAre the worst of all\\n\\nAnd the blood's run stale\\n\\n\\n\\nI want to hide the truth\\n\\nI want to shelter you\\n\\nBut with the beast inside\\n\\nThere's nowhere we can hide\\n\\n\\n\\nNo matter what we breed\\n\\nWe still are made of greed\\n\\nThis is my kingdom come\\n\\nThis is my kingdom come\\n\\n\\n\\nWhen you feel my heat\\n\\nLook into my eyes\\n\\nIt's where my demons hide\\n\\nIt's where my demons hide\\n\\nDon't get too close\\n\\nIt's dark inside\\n\\nIt's where my demons hide\\n\\nIt's where my demons hide\\n\\n\\n\\nWhen the curtain's call\\n\\nIs the last of all\\n\\nWhen the lights fade out\\n\\nAll the sinners crawl\\n\\n\\n\\nSo they dug your grave\\n\\nAnd the masquerade\\n\\nWill come calling out\\n\\nAt the mess you made\\n\\n\\n\\nDon't want to let you down\\n\\nBut I am hell bound\\n\\nThough this is all for you\\n\\nDon't want to hide the truth\\n\\n\\n\\nNo matter what we breed\\n\\nWe still are made of greed\\n\\nThis is my kingdom come\\n\\nThis is my kingdom come\\n\\n\\n\\nWhen you feel my heat\\n\\nLook into my eyes\\n\\nIt's where my demons hide\\n\\nIt's where my demons hide\\n\\nDon't get too close\\n\\nIt's dark inside\\n\\nIt's where my demons hide\\n\\nIt's where my demons hide\\n\\n\\n\\nThey say it's what you make\\n\\nI say it's up to fate\\n\\nIt's woven in my soul\\n\\nI need to let you go\\n\\n\\n\\nYour eyes, they shine so bright\\n\\nI want to save their light\\n\\nI can't escape this now\\n\\nUnless you show me how\\n\\n\\n\\nWhen you feel my heat\\n\\nLook into my eyes\\n\\nIt's where my demons hide\\n\\nIt's where my demons hide\\n\\nDon't get too close\\n\\nIt's dark inside\\n\\nIt's where my demons hide\\n\\nIt's where my demons hide\"}",
          "output_type": "stream"
        }
      ],
      "execution_count": 208
    },
    {
      "cell_type": "code",
      "source": "!curl --request GET -o lyrics_raw.json \"https://api.lyrics.ovh/v1/$artist_name/$song\"\n!jq '.lyrics' < lyrics_raw.json > lyrics.json\nlyrics = open(\"lyrics.json\").read()",
      "metadata": {
        "tags": [],
        "cell_id": "00063-b91fd6af-be4f-45e4-b4bf-aefecdc34744",
        "deepnote_to_be_reexecuted": false,
        "source_hash": "82b863c5",
        "execution_millis": 2126,
        "execution_start": 1614880943319,
        "deepnote_cell_type": "code"
      },
      "outputs": [
        {
          "name": "stdout",
          "text": "  % Total    % Received % Xferd  Average Speed   Time    Time     Time  Current\n                                 Dload  Upload   Total   Spent    Left  Speed\n100  1747  100  1747    0     0   3466      0 --:--:-- --:--:-- --:--:--  3459\n",
          "output_type": "stream"
        }
      ],
      "execution_count": 209
    },
    {
      "cell_type": "code",
      "source": "print(*lyrics.replace('\\\\r','').replace('\\\\\\'','\\'').split('\\\\n'), sep = \"\\n\")",
      "metadata": {
        "tags": [],
        "cell_id": "00065-46e02465-e43b-4ffe-a334-48ee8ee3c3ee",
        "deepnote_to_be_reexecuted": false,
        "source_hash": "279f79f7",
        "execution_millis": 23,
        "execution_start": 1614880949879,
        "deepnote_cell_type": "code"
      },
      "outputs": [
        {
          "name": "stdout",
          "text": "\"When the days are cold\nAnd the cards all fold\nAnd the saints we see\nAre all made of gold\nWhen your dreams all fail\n\nAnd the ones we hail\n\nAre the worst of all\n\nAnd the blood's run stale\n\n\n\nI want to hide the truth\n\nI want to shelter you\n\nBut with the beast inside\n\nThere's nowhere we can hide\n\n\n\nNo matter what we breed\n\nWe still are made of greed\n\nThis is my kingdom come\n\nThis is my kingdom come\n\n\n\nWhen you feel my heat\n\nLook into my eyes\n\nIt's where my demons hide\n\nIt's where my demons hide\n\nDon't get too close\n\nIt's dark inside\n\nIt's where my demons hide\n\nIt's where my demons hide\n\n\n\nWhen the curtain's call\n\nIs the last of all\n\nWhen the lights fade out\n\nAll the sinners crawl\n\n\n\nSo they dug your grave\n\nAnd the masquerade\n\nWill come calling out\n\nAt the mess you made\n\n\n\nDon't want to let you down\n\nBut I am hell bound\n\nThough this is all for you\n\nDon't want to hide the truth\n\n\n\nNo matter what we breed\n\nWe still are made of greed\n\nThis is my kingdom come\n\nThis is my kingdom come\n\n\n\nWhen you feel my heat\n\nLook into my eyes\n\nIt's where my demons hide\n\nIt's where my demons hide\n\nDon't get too close\n\nIt's dark inside\n\nIt's where my demons hide\n\nIt's where my demons hide\n\n\n\nThey say it's what you make\n\nI say it's up to fate\n\nIt's woven in my soul\n\nI need to let you go\n\n\n\nYour eyes, they shine so bright\n\nI want to save their light\n\nI can't escape this now\n\nUnless you show me how\n\n\n\nWhen you feel my heat\n\nLook into my eyes\n\nIt's where my demons hide\n\nIt's where my demons hide\n\nDon't get too close\n\nIt's dark inside\n\nIt's where my demons hide\n\nIt's where my demons hide\"\n\n",
          "output_type": "stream"
        }
      ],
      "execution_count": 210
    },
    {
      "cell_type": "markdown",
      "source": "# Question 5\n\n## Distributions\nIn Notebook 8 from our textbook, we will be learning tools for working with distributions using Python.\n\nUsing these tools together with the data you have gathered in the previous questions (from 3 or 4), try to find numerical data that has a Zipf distribution.  You may use the code from the textbook as starter code.\n\nIf you find such a distribution, explain why you think it appears (e.g. it is common in social network data). If you do not see a Zipf distribution, explain which probability distribution it most closely resembles and plot. You do not need to find a Zipf distribution to get full credit on this question!\n\nAs always, take time to talk about and present the data and the plots you create, explaining each step along the way.",
      "metadata": {
        "id": "SCKWrIAM_IXR",
        "cell_id": "00005-82644d1e-8d35-480e-b4da-e0b718e441bd",
        "deepnote_cell_type": "markdown"
      }
    },
    {
      "cell_type": "code",
      "metadata": {
        "tags": [],
        "cell_id": "00057-0a73c854-cec9-477a-8d9c-015d13a4c891",
        "deepnote_to_be_reexecuted": false,
        "source_hash": "dc72593f",
        "execution_millis": 589,
        "execution_start": 1614859482126,
        "deepnote_cell_type": "code"
      },
      "source": "import matplotlib.pyplot as plt\nimport os",
      "execution_count": 44,
      "outputs": []
    },
    {
      "cell_type": "code",
      "metadata": {
        "tags": [],
        "cell_id": "00057-5e9bce2a-1164-401c-834b-d775e9e2650e",
        "deepnote_to_be_reexecuted": false,
        "source_hash": "499227d0",
        "execution_millis": 0,
        "execution_start": 1614859497954,
        "deepnote_cell_type": "code"
      },
      "source": "#oedipus the king\nif not os.path.exists('27673-8.txt'):\n    !wget https://dev.gutenberg.org/files/27673/27673-8.txt\n\nfp = open('27673-8.txt', 'r', encoding=\"ISO-8859-1\")\n\ntext = fp.read()\n\nsentences = text.split('.')\nwordcounts = {}\n\nfor sentence in sentences:\n        words = sentence.split(' ')\n        if str(len(words)) in wordcounts:\n          wordcounts[str(len(words))] += 1\n        else:\n          wordcounts[str(len(words))] = 1",
      "execution_count": 45,
      "outputs": []
    },
    {
      "cell_type": "code",
      "metadata": {
        "tags": [],
        "cell_id": "00058-29483fe9-037b-4503-a012-4c5a3af139e5",
        "deepnote_to_be_reexecuted": false,
        "source_hash": "88a12b01",
        "execution_millis": 1,
        "execution_start": 1614859523925,
        "deepnote_cell_type": "code"
      },
      "source": "freqs = list(wordcounts.values())\nfreqs.sort(reverse = True)",
      "execution_count": 46,
      "outputs": []
    },
    {
      "cell_type": "code",
      "metadata": {
        "tags": [],
        "cell_id": "00059-0529f338-4be7-40e8-a997-646ac65ede19",
        "deepnote_to_be_reexecuted": false,
        "source_hash": "7b9a7b4f",
        "execution_millis": 1,
        "execution_start": 1614859531510,
        "deepnote_cell_type": "code"
      },
      "source": "rank = len(wordcounts)\nnum = range(1, rank + 1)",
      "execution_count": 47,
      "outputs": []
    },
    {
      "cell_type": "code",
      "metadata": {
        "tags": [],
        "cell_id": "00060-3ac70729-585c-4194-8220-06539e06dd8e",
        "deepnote_to_be_reexecuted": false,
        "source_hash": "c6d69cef",
        "execution_millis": 156,
        "execution_start": 1614863510898,
        "deepnote_cell_type": "code"
      },
      "source": "plt.plot(num, freqs)\n\nplt.xlabel('Ranking of Frequency of Words')\nplt.ylabel('Frequency')\nplt.title(\"Distribution of the Length of Sentences in Oedipus the King and Zipf's law\")\n\nplt.show()",
      "execution_count": 56,
      "outputs": [
        {
          "data": {
            "text/plain": "<Figure size 432x288 with 1 Axes>",
            "image/png": "[encoded data removed]"
          },
          "metadata": {
            "needs_background": "light"
          },
          "output_type": "display_data"
        }
      ]
    },
    {
      "cell_type": "markdown",
      "source": "From the visualization above we can see that the distribution of the length of sentences in `Oedipus the King` seems to be a Zipf distribution. This makes sense because most sentences are of similar length, so the numbers of sentences in the first top ranks are large, and many longer sentences (those of more than 50 words) only appear once or twice, which explains the long right tail above.",
      "metadata": {
        "tags": [],
        "cell_id": "00063-4a59229a-a509-40fc-a6a7-3ced8ccaa8ac",
        "deepnote_cell_type": "markdown"
      }
    },
    {
      "cell_type": "markdown",
      "source": "<a style='text-decoration:none;line-height:16px;display:flex;color:#5B5B62;padding:10px;justify-content:end;' href='https://deepnote.com?utm_source=created-in-deepnote-cell&projectId=34182c1e-ced2-433c-9676-54ec654bbd88' target=\"_blank\">\n<img style='display:inline;max-height:16px;margin:0px;margin-right:7.5px;' src='data:image/svg+xml;base64,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' > </img>\nCreated in <span style='font-weight:600;margin-left:4px;'>Deepnote</span></a>",
      "metadata": {
        "tags": [],
        "created_in_deepnote_cell": true,
        "deepnote_cell_type": "markdown"
      }
    }
  ],
  "nbformat": 4,
  "nbformat_minor": 0,
  "metadata": {
    "colab": {
      "name": "HW2.ipynb",
      "private_outputs": true,
      "provenance": [],
      "collapsed_sections": [
        "RqhpdagcQ28W"
      ]
    },
    "kernelspec": {
      "name": "python3",
      "display_name": "Python 3"
    },
    "deepnote_notebook_id": "645a398d-70e6-4566-8d0f-e6018a52051c",
    "deepnote": {},
    "deepnote_execution_queue": []
  }
}